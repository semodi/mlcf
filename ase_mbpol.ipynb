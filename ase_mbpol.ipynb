{
 "cells": [
  {
   "cell_type": "code",
   "execution_count": 22,
   "metadata": {
    "collapsed": true
   },
   "outputs": [],
   "source": [
    "from ase import Atoms\n",
    "from ase.optimize import BFGS\n",
    "from ase.md.npt import NPT\n",
    "from ase.calculators.nwchem import NWChem\n",
    "from ase.md.velocitydistribution import MaxwellBoltzmannDistribution\n",
    "from ase.io import write\n",
    "from simtk.openmm import app\n",
    "import simtk.openmm as mm\n",
    "from simtk import unit\n",
    "import sys\n",
    "import mbpol\n",
    "import numpy as np\n",
    "from ase import units as ase_units\n",
    "\n",
    "eVtokcal = 23.06035\n",
    "kcaltoeV = 1/eVtokcal\n",
    "\n",
    "kilocalorie_per_mole_per_angstrom = unit.kilocalorie_per_mole/unit.angstrom\n",
    "\n",
    "class MbpolCalculator:\n",
    "      \n",
    "    def __init__(self, pdb, nonbondedMethod, nonbondedCutoff, boxSize = None, tip4p = False):\n",
    "        \n",
    "        self.tip4p = tip4p\n",
    "        if tip4p:\n",
    "            self.forcefield = app.ForceField(\"tip4pfb.xml\")\n",
    "        else:\n",
    "            self.forcefield = app.ForceField(mbpol.__file__.replace(\"mbpol.py\", \"mbpol.xml\"))\n",
    "        \n",
    "        self.nonbondedMethod = nonbondedMethod\n",
    "        \n",
    "        if self.nonbondedMethod == app.PME:\n",
    "            if boxSize == None:\n",
    "                raise Exception('specify box size')\n",
    "            else:\n",
    "                pdb.topology.setUnitCellDimensions(boxSize)\n",
    "            \n",
    "        self.system = self.forcefield.createSystem(pdb.topology,\n",
    "                                         nonbondedMethod=nonbondedMethod,\n",
    "                                         nonbondedCutoff=nonbondedCutoff)\n",
    "        \n",
    "        self.platform = mm.Platform.getPlatformByName('Reference')\n",
    "        integrator = mm.VerletIntegrator(0.02*unit.femtoseconds)\n",
    "        self.simulation = app.Simulation(pdb.topology, self.system, integrator, self.platform)\n",
    "        \n",
    "        \n",
    "        \n",
    "        self.simulation.context.setPositions(pdb.positions) #ASE: Angstrom , OMM : nm\n",
    "        self.simulation.context.computeVirtualSites()\n",
    "        self.state = self.simulation.context.getState(getForces=True, getEnergy=True) \n",
    "        self.last_coordinates = np.array(pdb.positions.value_in_unit(unit.angstrom))\n",
    "        \n",
    "        self.last_coordinates = np.delete(self.last_coordinates,\n",
    "                                          np.arange(3,len(self.last_coordinates),4), axis = 0).reshape(-1,3)\n",
    "        \n",
    "    def calculation_required(self, atoms, quantities):\n",
    "        return True\n",
    "    \n",
    "    def is_calculated(self, atoms):\n",
    "        return (not np.all(self.last_coordinates == atoms.positions))\n",
    "    \n",
    "    def get_forces(self, atoms):\n",
    "        if self.is_calculated(atoms):\n",
    "            pos = np.zeros([int(len(atoms.positions)/3*4),3]).reshape(-1,4,3)\n",
    "            pos[:,:3,:] = atoms.positions.reshape(-1,3,3)\n",
    "            self.simulation.context.setPositions(pos.reshape(-1,3)/10) #ASE: Angstrom , OMM : nm\n",
    "            self.simulation.context.computeVirtualSites()\n",
    "            self.state = self.simulation.context.getState(getForces=True, getEnergy=True)\n",
    "            self.last_coordinates = np.array(atoms.positions)\n",
    "        forces = np.array(self.state.getForces().value_in_unit(kilocalorie_per_mole_per_angstrom))*kcaltoeV\n",
    "        forces = np.delete(forces, np.arange(3,len(forces),4), axis = 0)\n",
    "        if self.tip4p:\n",
    "            forces = np.tile(forces.reshape(-1,3,3).sum(axis=1).reshape(-1,1,3), [1,3,1]).reshape(-1,3)\n",
    "        return forces\n",
    "       \n",
    "    \n",
    "    def get_potential_energy(self, atoms, force_consistent = False):\n",
    "        if self.is_calculated(atoms):\n",
    "            pos = np.zeros([int(len(atoms.positions)/3*4),3]).reshape(-1,4,3)\n",
    "            pos[:,:3,:] = atoms.positions.reshape(-1,3,3)\n",
    "            self.simulation.context.setPositions(pos.reshape(-1,3)/10) #ASE: Angstrom , OMM : nm\n",
    "            self.simulation.context.computeVirtualSites()\n",
    "            self.state = self.simulation.context.getState(getEnergy=True, getForces=True)\n",
    "            self.last_coordinates = np.array(atoms.positions)\n",
    "        return self.state.getPotentialEnergy().value_in_unit(unit.kilocalorie_per_mole)*kcaltoeV\n",
    "        \n",
    "    def get_stress(self, atoms):\n",
    "        return np.zeros([3,3])\n",
    "        raise Exception('Not implemented')"
   ]
  },
  {
   "cell_type": "code",
   "execution_count": 24,
   "metadata": {
    "collapsed": true
   },
   "outputs": [],
   "source": [
    "def reconnect_monomers(atoms, boxsize):\n",
    "    pos0 = np.array(atoms.positions)\n",
    "    \n",
    "    for i,_ in enumerate(atoms.get_positions()[::3]):\n",
    "        \n",
    "        if atoms.get_distance(i*3,i*3+1) > min(boxsize) - 5:\n",
    "            d = h2o.positions[i*3] - atoms.positions[i*3+1]\n",
    "            which = np.where(np.abs(d) > 5)[0]\n",
    "#             print(which)\n",
    "            for w in which:\n",
    "                pos0[i*3+1, w] += d[w]/np.abs(d[w]) * boxsize[w]\n",
    "        elif atoms.get_distance(i*3,i*3+2) > min(boxsize) -5:\n",
    "            d = atoms.positions[i*3] - atoms.positions[i*3+2]\n",
    "            which = np.where(np.abs(d) > 5)[0]\n",
    "#             print(which)\n",
    "            for w in which:\n",
    "                pos0[i*3+2, w] += d[w]/np.abs(d[w]) * boxsize[w]\n",
    "            \n",
    "    atoms.set_positions(pos0)\n",
    "    \n",
    "    return atoms"
   ]
  },
  {
   "cell_type": "code",
   "execution_count": 25,
   "metadata": {
    "collapsed": true
   },
   "outputs": [],
   "source": [
    "pdb = app.PDBFile(\"../ase/128.pdb\")\n",
    "init_pos = np.array(pdb.positions.value_in_unit(unit.angstrom))\n",
    "init_pos = np.delete(init_pos, np.arange(3,len(init_pos),4), axis = 0)\n",
    "\n",
    "# a = 15.646 * 2**(1/3)\n",
    "a = 15.646 \n",
    "boxsize = [a,a,a] * unit.angstrom\n",
    "\n",
    "h2o = Atoms('128OHH',\n",
    "            positions = init_pos,\n",
    "            cell = [a, a, a],\n",
    "            pbc = True)\n",
    "\n",
    "\n",
    "h2o_shifted = reconnect_monomers(h2o,[a,a,a])"
   ]
  },
  {
   "cell_type": "code",
   "execution_count": 36,
   "metadata": {},
   "outputs": [],
   "source": [
    "h2o.calc = MbpolCalculator(pdb, app.PME, boxSize = boxsize, nonbondedCutoff= 0.7*unit.nanometer, tip4p = False)\n",
    "\n",
    "MaxwellBoltzmannDistribution(h2o, 300 * ase_units.kB)\n",
    "\n",
    "h2o.set_momenta(h2o.get_momenta() - np.mean(h2o.get_momenta(),axis =0))\n",
    "\n",
    "dyn = NPT(h2o, timestep = 0.5 * ase_units.fs, temperature =  300 * ase_units.kB, externalstress = 0,\n",
    "              ttime = 10 * ase_units.fs, pfactor = None,\n",
    "                     trajectory='md_128.traj', logfile='md_128.log')\n",
    "dyn.run(10) "
   ]
  },
  {
   "cell_type": "code",
   "execution_count": 32,
   "metadata": {},
   "outputs": [
    {
     "data": {
      "text/plain": [
       "356.00531159622091"
      ]
     },
     "execution_count": 32,
     "metadata": {},
     "output_type": "execute_result"
    }
   ],
   "source": [
    "h2o.get_temperature()"
   ]
  },
  {
   "cell_type": "code",
   "execution_count": 21,
   "metadata": {},
   "outputs": [],
   "source": [
    "from ase.io import Trajectory\n",
    "from ase.io import write\n",
    "from ase.io import read\n",
    "traj = Trajectory('./md_128.traj')\n",
    "# for a in traj:\n",
    "#     a.set_momenta(None)\n",
    "write('md_128.xyz', traj)"
   ]
  },
  {
   "cell_type": "code",
   "execution_count": 261,
   "metadata": {},
   "outputs": [],
   "source": [
    "dist = []\n",
    "for i,_ in enumerate(h2o.get_positions()[::3]):\n",
    "    dist.append([h2o_shifted.get_distance(i*3,i*3+1, mic = False),\n",
    "        h2o_shifted.get_distance(i*3,i*3+2, mic = False)])"
   ]
  },
  {
   "cell_type": "code",
   "execution_count": null,
   "metadata": {
    "collapsed": true
   },
   "outputs": [],
   "source": []
  }
 ],
 "metadata": {
  "kernelspec": {
   "display_name": "Python 3",
   "language": "python",
   "name": "python3"
  },
  "language_info": {
   "codemirror_mode": {
    "name": "ipython",
    "version": 3
   },
   "file_extension": ".py",
   "mimetype": "text/x-python",
   "name": "python",
   "nbconvert_exporter": "python",
   "pygments_lexer": "ipython3",
   "version": "3.6.4"
  }
 },
 "nbformat": 4,
 "nbformat_minor": 2
}
