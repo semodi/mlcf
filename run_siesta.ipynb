{
 "cells": [
  {
   "cell_type": "code",
   "execution_count": 1,
   "metadata": {},
   "outputs": [],
   "source": [
    "%load_ext autoreload"
   ]
  },
  {
   "cell_type": "code",
   "execution_count": 2,
   "metadata": {},
   "outputs": [
    {
     "name": "stderr",
     "output_type": "stream",
     "text": [
      "/gpfs/home/smdick/anaconda3/lib/python3.6/site-packages/h5py/__init__.py:36: FutureWarning: Conversion of the second argument of issubdtype from `float` to `np.floating` is deprecated. In future, it will be treated as `np.float64 == np.dtype(float).type`.\n",
      "  from ._conv import register_converters as _register_converters\n"
     ]
    }
   ],
   "source": [
    "%autoreload 2\n",
    "import xcml"
   ]
  },
  {
   "cell_type": "code",
   "execution_count": 28,
   "metadata": {},
   "outputs": [
    {
     "name": "stdout",
     "output_type": "stream",
     "text": [
      "Populating the interactive namespace from numpy and matplotlib\n"
     ]
    }
   ],
   "source": [
    "from ase import Atoms\n",
    "from ase.calculators.siesta.siesta import SiestaTrunk462 as Siesta \n",
    "from ase.md.velocitydistribution import MaxwellBoltzmannDistribution\n",
    "from mbpol_calculator import MbpolCalculator\n",
    "from ase.units import Ry, kB\n",
    "from ase.calculators.siesta.parameters import PAOBasisBlock, Species\n",
    "import siestah2o\n",
    "import os\n",
    "%pylab inline\n",
    "# os.chdir('test_run')\n",
    "a = 20 \n",
    "\n",
    "os.environ['SIESTA_COMMAND'] = 'siesta < ./%s > ./%s'\n",
    "os.environ['SIESTA_PP_PATH'] = '/gpfs/home/smdick/psf/'\n",
    "\n",
    "# =======  QZDP - 8.5 =========\n",
    "\n",
    "h2o = Atoms('NaCl(OHH)96',\n",
    "            positions = np.genfromtxt('./NaCl98H2O.csv', delimiter = ','),\n",
    "            cell = [a, a, a],\n",
    "            pbc = True)\n",
    "\n",
    "calc = Siesta(label='H2O',\n",
    "               xc= ['VDW','BH'],\n",
    "               mesh_cutoff=200 * Ry,\n",
    "               energy_shift=0.02 * Ry,\n",
    "               fdf_arguments={'DM.MixingWeight': 0.3,\n",
    "                              'MaxSCFIterations': 50,\n",
    "                              'DM.NumberPulay': 3,\n",
    "                              'DM.Tolerance': 1e-1,\n",
    "                              'ElectronicTemperature': 5e-3,\n",
    "                              'WriteMullikenPop': 1,\n",
    "                              'DM.FormattedFiles': 'True'})\n",
    "\n",
    "h2o.set_calculator(calc)\n",
    "# # h2o.calc = MbpolCalculator(h2o)\n",
    "# e = h2o.get_potential_energy()\n"
   ]
  },
  {
   "cell_type": "code",
   "execution_count": 15,
   "metadata": {},
   "outputs": [],
   "source": [
    "Na_basis = \"\"\"             # Define Basis set\n",
    "1   split 1            #  number of l-shells\n",
    " n=3   0   1 P   1                   # n, l, Nzeta, Polarization, NzetaPol\n",
    "   8.183\n",
    "   1.000\n",
    "\"\"\"\n",
    "Cl_basis = \"\"\"\n",
    "2   split  -1          #  number of l-shells\n",
    " n=3   0   1                         # n, l, Nzeta\n",
    "   3.826\n",
    "   1.000\n",
    " n=3   1   1 P   1                   # n, l, Nzeta, Polarization, NzetaPol\n",
    "   4.673\n",
    "   1.000\n",
    "\"\"\""
   ]
  },
  {
   "cell_type": "code",
   "execution_count": 31,
   "metadata": {},
   "outputs": [
    {
     "data": {
      "text/plain": [
       "<siestah2o.siestah2o.SiestaH2O at 0x2aaafc36cb70>"
      ]
     },
     "execution_count": 31,
     "metadata": {},
     "output_type": "execute_result"
    }
   ],
   "source": [
    "siestah2o.SiestaH2O(basis = 'dzp')"
   ]
  },
  {
   "cell_type": "code",
   "execution_count": null,
   "metadata": {},
   "outputs": [],
   "source": []
  },
  {
   "cell_type": "code",
   "execution_count": 20,
   "metadata": {},
   "outputs": [],
   "source": [
    "species_Na = Species(symbol= 'Na')\n"
   ]
  },
  {
   "cell_type": "code",
   "execution_count": 22,
   "metadata": {},
   "outputs": [],
   "source": [
    "species_Na['excess_charge'] = 1"
   ]
  },
  {
   "cell_type": "code",
   "execution_count": 23,
   "metadata": {},
   "outputs": [
    {
     "data": {
      "text/plain": [
       "{'basis_set': 'DZP',\n",
       " 'excess_charge': 1,\n",
       " 'ghost': False,\n",
       " 'pseudopotential': None,\n",
       " 'symbol': 'Na',\n",
       " 'tag': None}"
      ]
     },
     "execution_count": 23,
     "metadata": {},
     "output_type": "execute_result"
    }
   ],
   "source": [
    "species_Na"
   ]
  },
  {
   "cell_type": "code",
   "execution_count": 27,
   "metadata": {},
   "outputs": [
    {
     "ename": "NameError",
     "evalue": "name 'species' is not defined",
     "output_type": "error",
     "traceback": [
      "\u001b[0;31m---------------------------------------------------------------------------\u001b[0m",
      "\u001b[0;31mNameError\u001b[0m                                 Traceback (most recent call last)",
      "\u001b[0;32m<ipython-input-27-19252b121256>\u001b[0m in \u001b[0;36m<module>\u001b[0;34m()\u001b[0m\n\u001b[0;32m----> 1\u001b[0;31m \u001b[0mh2o\u001b[0m\u001b[0;34m.\u001b[0m\u001b[0mcalc\u001b[0m\u001b[0;34m(\u001b[0m\u001b[0mspecies\u001b[0m\u001b[0;34m)\u001b[0m\u001b[0;34m\u001b[0m\u001b[0m\n\u001b[0m",
      "\u001b[0;31mNameError\u001b[0m: name 'species' is not defined"
     ]
    }
   ],
   "source": [
    "h2o.calc.get"
   ]
  },
  {
   "cell_type": "code",
   "execution_count": 8,
   "metadata": {},
   "outputs": [
    {
     "data": {
      "text/plain": [
       "array([11, 17,  8,  1,  1,  8,  1,  1,  8,  1,  1,  8,  1,  1,  8,  1,  1,\n",
       "        8,  1,  1,  8,  1,  1,  8,  1,  1,  8,  1,  1,  8,  1,  1,  8,  1,\n",
       "        1,  8,  1,  1,  8,  1,  1,  8,  1,  1,  8,  1,  1,  8,  1,  1,  8,\n",
       "        1,  1,  8,  1,  1,  8,  1,  1,  8,  1,  1,  8,  1,  1,  8,  1,  1,\n",
       "        8,  1,  1,  8,  1,  1,  8,  1,  1,  8,  1,  1,  8,  1,  1,  8,  1,\n",
       "        1,  8,  1,  1,  8,  1,  1,  8,  1,  1,  8,  1,  1,  8,  1,  1,  8,\n",
       "        1,  1,  8,  1,  1,  8,  1,  1,  8,  1,  1,  8,  1,  1,  8,  1,  1,\n",
       "        8,  1,  1,  8,  1,  1,  8,  1,  1,  8,  1,  1,  8,  1,  1,  8,  1,\n",
       "        1,  8,  1,  1,  8,  1,  1,  8,  1,  1,  8,  1,  1,  8,  1,  1,  8,\n",
       "        1,  1,  8,  1,  1,  8,  1,  1,  8,  1,  1,  8,  1,  1,  8,  1,  1,\n",
       "        8,  1,  1,  8,  1,  1,  8,  1,  1,  8,  1,  1,  8,  1,  1,  8,  1,\n",
       "        1,  8,  1,  1,  8,  1,  1,  8,  1,  1,  8,  1,  1,  8,  1,  1,  8,\n",
       "        1,  1,  8,  1,  1,  8,  1,  1,  8,  1,  1,  8,  1,  1,  8,  1,  1,\n",
       "        8,  1,  1,  8,  1,  1,  8,  1,  1,  8,  1,  1,  8,  1,  1,  8,  1,\n",
       "        1,  8,  1,  1,  8,  1,  1,  8,  1,  1,  8,  1,  1,  8,  1,  1,  8,\n",
       "        1,  1,  8,  1,  1,  8,  1,  1,  8,  1,  1,  8,  1,  1,  8,  1,  1,\n",
       "        8,  1,  1,  8,  1,  1,  8,  1,  1,  8,  1,  1,  8,  1,  1,  8,  1,\n",
       "        1])"
      ]
     },
     "execution_count": 8,
     "metadata": {},
     "output_type": "execute_result"
    }
   ],
   "source": [
    "h2o.get_atomic_numbers()"
   ]
  },
  {
   "cell_type": "code",
   "execution_count": null,
   "metadata": {},
   "outputs": [],
   "source": []
  }
 ],
 "metadata": {
  "kernelspec": {
   "display_name": "Python 3",
   "language": "python",
   "name": "python3"
  },
  "language_info": {
   "codemirror_mode": {
    "name": "ipython",
    "version": 3
   },
   "file_extension": ".py",
   "mimetype": "text/x-python",
   "name": "python",
   "nbconvert_exporter": "python",
   "pygments_lexer": "ipython3",
   "version": "3.6.4"
  }
 },
 "nbformat": 4,
 "nbformat_minor": 2
}
