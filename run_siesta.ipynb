{
 "cells": [
  {
   "cell_type": "code",
   "execution_count": 1,
   "metadata": {},
   "outputs": [
    {
     "name": "stderr",
     "output_type": "stream",
     "text": [
      "/home/sebastian/miniconda3/lib/python3.6/site-packages/ase/calculators/siesta/base_siesta.py:731: UserWarning: H2O.HSX does not exist =>\n",
      "                                     sieta.results[\"hsx\"]=None\n",
      "  UserWarning)\n",
      "/home/sebastian/miniconda3/lib/python3.6/site-packages/ase/calculators/siesta/base_siesta.py:751: UserWarning: H2O.DIMdoes not exist =>\n",
      "                                     sieta.results[\"dim\"]=None\n",
      "  UserWarning)\n",
      "/home/sebastian/miniconda3/lib/python3.6/site-packages/ase/calculators/siesta/base_siesta.py:794: UserWarning: H2O.WFSX or H2O.fullBZ.WFSX does not exist =>\n",
      "                                     sieta.results[\"wfsx\"]=None\n",
      "  UserWarning)\n"
     ]
    }
   ],
   "source": [
    "from ase import Atoms\n",
    "from siestah2o import SiestaH2O\n",
    "\n",
    "a = 20 \n",
    "\n",
    "# =======  QZDP - 8.5 =========\n",
    "\n",
    "h2o = Atoms('OHH',\n",
    "            positions = [[0,0,0],[0.757,0.586,0],[-0.757, 0.586,0]],\n",
    "            cell = [a, a, a],\n",
    "            pbc = True)\n",
    "\n",
    "calc = SiestaH2O(basis= 'dz', xc = 'PBE')\n",
    "h2o.set_calculator(calc)\n",
    "e = h2o.get_potential_energy()\n"
   ]
  },
  {
   "cell_type": "code",
   "execution_count": 7,
   "metadata": {},
   "outputs": [
    {
     "data": {
      "text/plain": [
       "-470.188095"
      ]
     },
     "execution_count": 7,
     "metadata": {},
     "output_type": "execute_result"
    }
   ],
   "source": [
    "e"
   ]
  },
  {
   "cell_type": "code",
   "execution_count": null,
   "metadata": {},
   "outputs": [],
   "source": []
  }
 ],
 "metadata": {
  "kernelspec": {
   "display_name": "Python 3",
   "language": "python",
   "name": "python3"
  },
  "language_info": {
   "codemirror_mode": {
    "name": "ipython",
    "version": 3
   },
   "file_extension": ".py",
   "mimetype": "text/x-python",
   "name": "python",
   "nbconvert_exporter": "python",
   "pygments_lexer": "ipython3",
   "version": "3.6.4"
  }
 },
 "nbformat": 4,
 "nbformat_minor": 2
}
