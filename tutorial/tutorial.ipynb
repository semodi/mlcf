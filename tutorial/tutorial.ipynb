{
 "cells": [
  {
   "cell_type": "code",
   "execution_count": 32,
   "metadata": {},
   "outputs": [
    {
     "name": "stdout",
     "output_type": "stream",
     "text": [
      "Populating the interactive namespace from numpy and matplotlib\n"
     ]
    }
   ],
   "source": [
    "import mlc_func as mlcf\n",
    "import numpy as np\n",
    "import pandas as pd\n",
    "import os\n",
    "%pylab inline"
   ]
  },
  {
   "cell_type": "markdown",
   "metadata": {},
   "source": [
    "# Training a force model"
   ]
  },
  {
   "cell_type": "markdown",
   "metadata": {},
   "source": [
    "Create a file containing the target forces. The example datasets were created with two DFT calculations using \n",
    "single zeta and double zeta polarized basis set respectively. The forces are saved as CSV files."
   ]
  },
  {
   "cell_type": "code",
   "execution_count": 2,
   "metadata": {},
   "outputs": [],
   "source": [
    "# Load force files    \n",
    "force_sz = np.genfromtxt('./data/monomers.forces_sz', delimiter = ',')\n",
    "force_dz = np.genfromtxt('./data/monomers.forces_dz', delimiter = ',')\n",
    "\n",
    "# Targets: Reference - Baseline\n",
    "force_targets = force_dz - force_sz\n",
    "\n",
    "# Save targets in file\n",
    "pd.DataFrame(force_targets).to_csv('./data/monomers.forces_targets', index = None, header = None)"
   ]
  },
  {
   "cell_type": "markdown",
   "metadata": {},
   "source": [
    "Now create a force MLCF by passing it the relevenat datasets"
   ]
  },
  {
   "cell_type": "code",
   "execution_count": 3,
   "metadata": {},
   "outputs": [],
   "source": [
    "# An overview of the functionality can be obtained by running:\n",
    "mlcf.ml.build_force_mlcf?"
   ]
  },
  {
   "cell_type": "code",
   "execution_count": 4,
   "metadata": {},
   "outputs": [],
   "source": [
    "# List of files that contain the features (input data)\n",
    "feature_src = ['./data/monomers_processed.hdf5']\n",
    "\n",
    "# List of files that contain the targets \n",
    "target_src = ['./data/monomers.forces_targets']\n",
    " \n",
    "# List of file containing the system coordinates (should be either .traj or .xyz file)\n",
    "traj_src = ['./data/monomers.traj']"
   ]
  },
  {
   "cell_type": "code",
   "execution_count": 5,
   "metadata": {},
   "outputs": [
    {
     "name": "stdout",
     "output_type": "stream",
     "text": [
      "{'r_o_o': 1.0, 'r_i_o': 0.0, 'r_i_h': 0.0, 'r_o_h': 1.5, 'n_rad_o': 2, 'n_rad_h': 2, 'n_l_o': 3, 'n_l_h': 2, 'gamma_o': 0, 'gamma_h': 0, 'alignment': 'nn'}\n",
      "{'r_o_o': 1.0, 'r_i_o': 0.0, 'r_i_h': 0.0, 'r_o_h': 1.5, 'n_rad_o': 2, 'n_rad_h': 2, 'n_l_o': 3, 'n_l_h': 2, 'gamma_o': 0, 'gamma_h': 0, 'alignment': 'nn'}\n",
      "(782, 18)\n"
     ]
    }
   ],
   "source": [
    "# By setting species = 'o' we tell build_force_mlcf that we would like to train a model for Oxygen\n",
    "nn = mlcf.ml.build_force_mlcf(feature_src, target_src, traj_src, species = 'o')"
   ]
  },
  {
   "cell_type": "markdown",
   "metadata": {},
   "source": [
    "The printout shows the basis sets used to create the descriptors (electronic fingerprints).\n",
    "Let's start training the model ..."
   ]
  },
  {
   "cell_type": "code",
   "execution_count": 9,
   "metadata": {},
   "outputs": [
    {
     "name": "stdout",
     "output_type": "stream",
     "text": [
      "--------Epoch = 0----------\n",
      "Training loss || Validation loss\n",
      "     0.042544 ||      0.051184\n",
      "--------Epoch = 500----------\n",
      "Training loss || Validation loss\n",
      "     0.040695 ||      0.050347\n",
      "--------Epoch = 1000----------\n",
      "Training loss || Validation loss\n",
      "     0.038897 ||      0.049281\n",
      "--------Epoch = 1500----------\n",
      "Training loss || Validation loss\n",
      "     0.037420 ||      0.048167\n",
      "--------Epoch = 2000----------\n",
      "Training loss || Validation loss\n",
      "     0.036238 ||      0.047094\n",
      "--------Epoch = 2500----------\n",
      "Training loss || Validation loss\n",
      "     0.035381 ||      0.046154\n",
      "--------Epoch = 3000----------\n",
      "Training loss || Validation loss\n",
      "     0.034718 ||      0.045686\n",
      "--------Epoch = 3500----------\n",
      "Training loss || Validation loss\n",
      "     0.034211 ||      0.045044\n",
      "--------Epoch = 4000----------\n",
      "Training loss || Validation loss\n",
      "     0.033800 ||      0.044512\n",
      "--------Epoch = 4500----------\n",
      "Training loss || Validation loss\n",
      "     0.033441 ||      0.044079\n",
      "--------Epoch = 5000----------\n",
      "Training loss || Validation loss\n",
      "     0.033137 ||      0.043674\n",
      "--------Epoch = 5500----------\n",
      "Training loss || Validation loss\n",
      "     0.032875 ||      0.043335\n",
      "--------Epoch = 6000----------\n",
      "Training loss || Validation loss\n",
      "     0.032658 ||      0.043080\n",
      "--------Epoch = 6500----------\n",
      "Training loss || Validation loss\n",
      "     0.032468 ||      0.042840\n",
      "--------Epoch = 7000----------\n",
      "Training loss || Validation loss\n",
      "     0.032301 ||      0.042628\n",
      "--------Epoch = 7500----------\n",
      "Training loss || Validation loss\n",
      "     0.032163 ||      0.042477\n",
      "--------Epoch = 8000----------\n",
      "Training loss || Validation loss\n",
      "     0.032112 ||      0.042377\n",
      "--------Epoch = 8500----------\n",
      "Training loss || Validation loss\n",
      "     0.031995 ||      0.042251\n",
      "--------Epoch = 9000----------\n",
      "Training loss || Validation loss\n",
      "     0.031846 ||      0.042153\n",
      "--------Epoch = 9500----------\n",
      "Training loss || Validation loss\n",
      "     0.031761 ||      0.042064\n"
     ]
    }
   ],
   "source": [
    "nn.train(max_epochs = 10001)"
   ]
  },
  {
   "cell_type": "markdown",
   "metadata": {},
   "source": [
    "If we see that the model overfits (indicated by a high validation loss) we can set a regularization parameter `b`. We can also set `early stopping = True` so that the model stops fitting as soon as the validation loss increases"
   ]
  },
  {
   "cell_type": "code",
   "execution_count": 18,
   "metadata": {},
   "outputs": [
    {
     "name": "stdout",
     "output_type": "stream",
     "text": [
      "--------Epoch = 0----------\n",
      "Training loss || Validation loss\n",
      "     0.413931 ||      0.342787\n",
      "--------Epoch = 2000----------\n",
      "Training loss || Validation loss\n",
      "     0.120085 ||      0.110898\n",
      "--------Epoch = 4000----------\n",
      "Training loss || Validation loss\n",
      "     0.056443 ||      0.063616\n",
      "--------Epoch = 6000----------\n",
      "Training loss || Validation loss\n",
      "     0.045711 ||      0.052130\n",
      "--------Epoch = 8000----------\n",
      "Training loss || Validation loss\n",
      "     0.041530 ||      0.047159\n",
      "--------Epoch = 10000----------\n",
      "Training loss || Validation loss\n",
      "     0.038561 ||      0.045393\n",
      "--------Epoch = 12000----------\n",
      "Training loss || Validation loss\n",
      "     0.035310 ||      0.043158\n",
      "--------Epoch = 14000----------\n",
      "Training loss || Validation loss\n",
      "     0.033529 ||      0.041530\n",
      "--------Epoch = 16000----------\n",
      "Training loss || Validation loss\n",
      "     0.032591 ||      0.040619\n",
      "--------Epoch = 18000----------\n",
      "Training loss || Validation loss\n",
      "     0.031965 ||      0.039960\n"
     ]
    }
   ],
   "source": [
    "nn.train(max_epochs = 20001, early_stopping = True, b=1e-7, restart = True, epochs_per_output=2000)"
   ]
  },
  {
   "cell_type": "markdown",
   "metadata": {},
   "source": [
    "After fitting the model we can check its performance on the test set, if we're happy we can save the model to disk "
   ]
  },
  {
   "cell_type": "code",
   "execution_count": 20,
   "metadata": {},
   "outputs": [
    {
     "name": "stdout",
     "output_type": "stream",
     "text": [
      "======== Evaluation on test set =============\n",
      "              RMSE =  0.0409\n",
      "              MAE = 0.0257\n",
      "              Max. abs. error = 0.2055\n"
     ]
    },
    {
     "data": {
      "image/png": "[encoded data removed]",
      "text/plain": [
       "<Figure size 432x288 with 1 Axes>"
      ]
     },
     "metadata": {},
     "output_type": "display_data"
    },
    {
     "data": {
      "text/plain": [
       "{'rmse': 0.04093204147227701,\n",
       " 'mae': 0.02569242713578964,\n",
       " 'max': 0.20550854119805434}"
      ]
     },
     "execution_count": 20,
     "metadata": {},
     "output_type": "execute_result"
    }
   ],
   "source": [
    "nn.evaluate(plot=True, on = 'test')"
   ]
  },
  {
   "cell_type": "code",
   "execution_count": 21,
   "metadata": {},
   "outputs": [],
   "source": [
    "nn.save_all('./model/')"
   ]
  },
  {
   "cell_type": "markdown",
   "metadata": {},
   "source": [
    "Let's do the same for Hydrogen. We set `autofilt_percent = 0.005` to disregard the 0.5 percentile of the dataset (on both ends of the distribution) to disregard outliers and improve fitting performance. "
   ]
  },
  {
   "cell_type": "code",
   "execution_count": 31,
   "metadata": {},
   "outputs": [
    {
     "name": "stdout",
     "output_type": "stream",
     "text": [
      "{'r_o_o': 1.0, 'r_i_o': 0.0, 'r_i_h': 0.0, 'r_o_h': 1.5, 'n_rad_o': 2, 'n_rad_h': 2, 'n_l_o': 3, 'n_l_h': 2, 'gamma_o': 0, 'gamma_h': 0, 'alignment': 'nn'}\n",
      "{'r_o_o': 1.0, 'r_i_o': 0.0, 'r_i_h': 0.0, 'r_o_h': 1.5, 'n_rad_o': 2, 'n_rad_h': 2, 'n_l_o': 3, 'n_l_h': 2, 'gamma_o': 0, 'gamma_h': 0, 'alignment': 'nn'}\n",
      "(1564, 8)\n",
      "--------Epoch = 0----------\n",
      "Training loss || Validation loss\n",
      "     0.230864 ||      0.228976\n",
      "--------Epoch = 2000----------\n",
      "Training loss || Validation loss\n",
      "     0.123855 ||      0.113511\n",
      "--------Epoch = 4000----------\n",
      "Training loss || Validation loss\n",
      "     0.051848 ||      0.050823\n",
      "--------Epoch = 6000----------\n",
      "Training loss || Validation loss\n",
      "     0.025543 ||      0.027186\n",
      "--------Epoch = 8000----------\n",
      "Training loss || Validation loss\n",
      "     0.019497 ||      0.021130\n",
      "--------Epoch = 10000----------\n",
      "Training loss || Validation loss\n",
      "     0.017726 ||      0.018960\n",
      "--------Epoch = 12000----------\n",
      "Training loss || Validation loss\n",
      "     0.016580 ||      0.017607\n",
      "--------Epoch = 14000----------\n",
      "Training loss || Validation loss\n",
      "     0.015822 ||      0.016652\n",
      "--------Epoch = 16000----------\n",
      "Training loss || Validation loss\n",
      "     0.015071 ||      0.015762\n",
      "--------Epoch = 18000----------\n",
      "Training loss || Validation loss\n",
      "     0.014652 ||      0.015274\n"
     ]
    }
   ],
   "source": [
    "nn = mlcf.ml.build_force_mlcf(feature_src, target_src, traj_src, species = 'h', autofilt_percent= 0.005)\n",
    "nn.train(max_epochs = 20001, early_stopping = True, b=1e-7, restart = True, epochs_per_output=2000)"
   ]
  },
  {
   "cell_type": "code",
   "execution_count": 30,
   "metadata": {},
   "outputs": [],
   "source": [
    "nn.save_all('./model')"
   ]
  },
  {
   "cell_type": "markdown",
   "metadata": {},
   "source": [
    "# Molecular dynamics"
   ]
  },
  {
   "cell_type": "markdown",
   "metadata": {},
   "source": [
    "Now that the model is trained we can run a molecular dynamics simulation by making use of the ASE package"
   ]
  },
  {
   "cell_type": "code",
   "execution_count": 40,
   "metadata": {},
   "outputs": [],
   "source": [
    "# Set environment variables for running siesta with ASE\n",
    "os.environ['SIESTA_PP_PATH'] = '/home/sebastian/Documents/Physics/Code/psf/' # Pseudopotentials\n",
    "os.environ['SIESTA_COMMAND'] = 'siesta < ./%s > ./%s' # Siesta command\n",
    "\n",
    "from ase import Atoms\n",
    "from ase.md import VelocityVerlet\n",
    "from ase.md.velocitydistribution import MaxwellBoltzmannDistribution\n",
    "from ase.io import read,write, Trajectory\n",
    "from ase import io\n",
    "from ase import units as ase_units\n",
    "from ase.md import logger\n",
    "from ase.visualize import view\n",
    "\n",
    "# Starting configuration\n",
    "atoms = read('./data/monomers.traj')\n",
    "\n",
    "# Give the atoms some momentum \n",
    "MaxwellBoltzmannDistribution(atoms, temp=500*ase_units.kB)\n",
    "momenta = atoms.get_momenta()\n",
    "# Subtract mean momentum\n",
    "atoms.set_momenta(momenta - np.mean(momenta, axis = 0))"
   ]
  },
  {
   "cell_type": "markdown",
   "metadata": {},
   "source": [
    "## Loading the calculator"
   ]
  },
  {
   "cell_type": "markdown",
   "metadata": {},
   "source": [
    "The calculator is specified in .inp files. These files contain a (keyword, value) pair that are separted by\n",
    "whitespace. Lines starting with # are ignored"
   ]
  },
  {
   "cell_type": "code",
   "execution_count": 63,
   "metadata": {},
   "outputs": [
    {
     "name": "stdout",
     "output_type": "stream",
     "text": [
      "Input 1 \n",
      "----\n",
      "# Location fo the MLCF model\n",
      "model ../model/\n",
      "\n",
      "# Basis set for SIESTA calculations (uf = 'ultra-fast' = sz, 100 Ry)\n",
      "basis uf\n",
      "\n",
      "# XC-functional for SIESTA calculations\n",
      "xcfunctional PBE\n",
      "\n",
      "Input 2 \n",
      "----\n",
      "\n",
      "# Enable mixing ( n-1 fast steps with alternate with 1 slow step)\n",
      "mixing True\n",
      "\n",
      "%block mixing\n",
      "# Basis, xc-functional and MLCF model used for fast steps\n",
      "basis1 uf\n",
      "xcfunctional1 PBE\n",
      "model1 ../model/\n",
      "\n",
      "# Basis, xc-functional and MLCF model used for slow steps\n",
      "basis2 dz_custom\n",
      "xcfunctional2 PBE\n",
      "\n",
      "# Mixing period\n",
      "n 10\n",
      "%endblock mixing\n"
     ]
    }
   ],
   "source": [
    "print('Input 1 \\n----')\n",
    "! cat ./md_1/pbe_sz_to_dz.inp\n",
    "print('Input 2 \\n----')\n",
    "! cat ./md_mixing/pbe_sz_to_dz.inp"
   ]
  },
  {
   "cell_type": "code",
   "execution_count": 77,
   "metadata": {},
   "outputs": [
    {
     "name": "stdout",
     "output_type": "stream",
     "text": [
      "(solutionmethod, diagon)\n",
      "(basis, uf)\n",
      "(xcfunctional, pbe)\n",
      "(model, ../model/)\n",
      "(mixing, False)\n",
      "(cmcorrection, False)\n",
      "(ipp_client, None)\n",
      "Warning: running without ipcluster\n"
     ]
    }
   ],
   "source": [
    "try:\n",
    "    os.chdir('./md_1')\n",
    "except FileNotFoundError:\n",
    "    pass\n",
    "\n",
    "traj = io.Trajectory('./md_1.traj',\n",
    "                         mode = 'w', atoms = atoms)\n",
    "\n",
    "# ========= The calculator can be loaded by invoking the following command ==============\n",
    "calculator = mlcf.calculator.load_from_file('./pbe_sz_to_dz.inp')\n",
    "atoms.calc = calculator\n",
    "dyn = VelocityVerlet(atoms, dt=0.5*ase_units.fs, logfile='./md_1.log', trajectory = traj)"
   ]
  },
  {
   "cell_type": "markdown",
   "metadata": {},
   "source": [
    "## Run MD"
   ]
  },
  {
   "cell_type": "code",
   "execution_count": 78,
   "metadata": {},
   "outputs": [
    {
     "name": "stdout",
     "output_type": "stream",
     "text": [
      "Using force correction\n",
      "Using force correction\n",
      "Using force correction\n",
      "Using force correction\n",
      "Using force correction\n",
      "Using force correction\n",
      "Using force correction\n",
      "Using force correction\n",
      "Using force correction\n",
      "Using force correction\n",
      "Using force correction\n",
      "Using force correction\n",
      "Using force correction\n",
      "Using force correction\n",
      "Using force correction\n",
      "Using force correction\n",
      "Using force correction\n",
      "Using force correction\n",
      "Using force correction\n",
      "Using force correction\n",
      "Using force correction\n"
     ]
    }
   ],
   "source": [
    "dyn.run(20)\n",
    "view(read('md_1.traj', ':'))"
   ]
  },
  {
   "cell_type": "markdown",
   "metadata": {},
   "source": [
    "## Mixing"
   ]
  },
  {
   "cell_type": "markdown",
   "metadata": {},
   "source": [
    "One can also use the mixing scheme defined in (?)"
   ]
  },
  {
   "cell_type": "code",
   "execution_count": 83,
   "metadata": {},
   "outputs": [
    {
     "ename": "FileNotFoundError",
     "evalue": "[Errno 2] No such file or directory: './data/monomers.traj'",
     "output_type": "error",
     "traceback": [
      "\u001b[0;31m---------------------------------------------------------------------------\u001b[0m",
      "\u001b[0;31mFileNotFoundError\u001b[0m                         Traceback (most recent call last)",
      "\u001b[0;32m<ipython-input-83-6892ee3a9ff7>\u001b[0m in \u001b[0;36m<module>\u001b[0;34m()\u001b[0m\n\u001b[1;32m      1\u001b[0m \u001b[0;31m# Starting configuration\u001b[0m\u001b[0;34m\u001b[0m\u001b[0;34m\u001b[0m\u001b[0m\n\u001b[1;32m      2\u001b[0m \u001b[0mos\u001b[0m\u001b[0;34m.\u001b[0m\u001b[0mchdir\u001b[0m\u001b[0;34m(\u001b[0m\u001b[0;34m'../'\u001b[0m\u001b[0;34m)\u001b[0m\u001b[0;34m\u001b[0m\u001b[0m\n\u001b[0;32m----> 3\u001b[0;31m \u001b[0matoms\u001b[0m \u001b[0;34m=\u001b[0m \u001b[0mread\u001b[0m\u001b[0;34m(\u001b[0m\u001b[0;34m'./data/monomers.traj'\u001b[0m\u001b[0;34m)\u001b[0m\u001b[0;34m\u001b[0m\u001b[0m\n\u001b[0m\u001b[1;32m      4\u001b[0m \u001b[0;34m\u001b[0m\u001b[0m\n\u001b[1;32m      5\u001b[0m \u001b[0;31m# Give the atoms some momentum\u001b[0m\u001b[0;34m\u001b[0m\u001b[0;34m\u001b[0m\u001b[0m\n",
      "\u001b[0;32m~/.local/lib/python3.6/site-packages/ase/io/formats.py\u001b[0m in \u001b[0;36mread\u001b[0;34m(filename, index, format, parallel, **kwargs)\u001b[0m\n\u001b[1;32m    460\u001b[0m     \u001b[0;32mif\u001b[0m \u001b[0mindex\u001b[0m \u001b[0;32mis\u001b[0m \u001b[0;32mNone\u001b[0m\u001b[0;34m:\u001b[0m\u001b[0;34m\u001b[0m\u001b[0m\n\u001b[1;32m    461\u001b[0m         \u001b[0mindex\u001b[0m \u001b[0;34m=\u001b[0m \u001b[0;34m-\u001b[0m\u001b[0;36m1\u001b[0m\u001b[0;34m\u001b[0m\u001b[0m\n\u001b[0;32m--> 462\u001b[0;31m     \u001b[0mformat\u001b[0m \u001b[0;34m=\u001b[0m \u001b[0mformat\u001b[0m \u001b[0;32mor\u001b[0m \u001b[0mfiletype\u001b[0m\u001b[0;34m(\u001b[0m\u001b[0mfilename\u001b[0m\u001b[0;34m)\u001b[0m\u001b[0;34m\u001b[0m\u001b[0m\n\u001b[0m\u001b[1;32m    463\u001b[0m     \u001b[0mio\u001b[0m \u001b[0;34m=\u001b[0m \u001b[0mget_ioformat\u001b[0m\u001b[0;34m(\u001b[0m\u001b[0mformat\u001b[0m\u001b[0;34m)\u001b[0m\u001b[0;34m\u001b[0m\u001b[0m\n\u001b[1;32m    464\u001b[0m     \u001b[0;32mif\u001b[0m \u001b[0misinstance\u001b[0m\u001b[0;34m(\u001b[0m\u001b[0mindex\u001b[0m\u001b[0;34m,\u001b[0m \u001b[0;34m(\u001b[0m\u001b[0mslice\u001b[0m\u001b[0;34m,\u001b[0m \u001b[0mbasestring\u001b[0m\u001b[0;34m)\u001b[0m\u001b[0;34m)\u001b[0m\u001b[0;34m:\u001b[0m\u001b[0;34m\u001b[0m\u001b[0m\n",
      "\u001b[0;32m~/.local/lib/python3.6/site-packages/ase/io/formats.py\u001b[0m in \u001b[0;36mfiletype\u001b[0;34m(filename, read, guess)\u001b[0m\n\u001b[1;32m    630\u001b[0m             \u001b[0;32mreturn\u001b[0m \u001b[0mextension2format\u001b[0m\u001b[0;34m.\u001b[0m\u001b[0mget\u001b[0m\u001b[0;34m(\u001b[0m\u001b[0mext\u001b[0m\u001b[0;34m,\u001b[0m \u001b[0mext\u001b[0m\u001b[0;34m)\u001b[0m\u001b[0;34m\u001b[0m\u001b[0m\n\u001b[1;32m    631\u001b[0m \u001b[0;34m\u001b[0m\u001b[0m\n\u001b[0;32m--> 632\u001b[0;31m         \u001b[0mfd\u001b[0m \u001b[0;34m=\u001b[0m \u001b[0mopen_with_compression\u001b[0m\u001b[0;34m(\u001b[0m\u001b[0mfilename\u001b[0m\u001b[0;34m,\u001b[0m \u001b[0;34m'rb'\u001b[0m\u001b[0;34m)\u001b[0m\u001b[0;34m\u001b[0m\u001b[0m\n\u001b[0m\u001b[1;32m    633\u001b[0m     \u001b[0;32melse\u001b[0m\u001b[0;34m:\u001b[0m\u001b[0;34m\u001b[0m\u001b[0m\n\u001b[1;32m    634\u001b[0m         \u001b[0mfd\u001b[0m \u001b[0;34m=\u001b[0m \u001b[0mfilename\u001b[0m\u001b[0;34m\u001b[0m\u001b[0m\n",
      "\u001b[0;32m~/.local/lib/python3.6/site-packages/ase/io/formats.py\u001b[0m in \u001b[0;36mopen_with_compression\u001b[0;34m(filename, mode)\u001b[0m\n\u001b[1;32m    306\u001b[0m \u001b[0;34m\u001b[0m\u001b[0m\n\u001b[1;32m    307\u001b[0m     \u001b[0;32mif\u001b[0m \u001b[0mcompression\u001b[0m \u001b[0;32mis\u001b[0m \u001b[0;32mNone\u001b[0m\u001b[0;34m:\u001b[0m\u001b[0;34m\u001b[0m\u001b[0m\n\u001b[0;32m--> 308\u001b[0;31m         \u001b[0;32mreturn\u001b[0m \u001b[0mopen\u001b[0m\u001b[0;34m(\u001b[0m\u001b[0mfilename\u001b[0m\u001b[0;34m,\u001b[0m \u001b[0mmode\u001b[0m\u001b[0;34m)\u001b[0m\u001b[0;34m\u001b[0m\u001b[0m\n\u001b[0m\u001b[1;32m    309\u001b[0m     \u001b[0;32melif\u001b[0m \u001b[0mcompression\u001b[0m \u001b[0;34m==\u001b[0m \u001b[0;34m'gz'\u001b[0m\u001b[0;34m:\u001b[0m\u001b[0;34m\u001b[0m\u001b[0m\n\u001b[1;32m    310\u001b[0m         \u001b[0;32mimport\u001b[0m \u001b[0mgzip\u001b[0m\u001b[0;34m\u001b[0m\u001b[0m\n",
      "\u001b[0;31mFileNotFoundError\u001b[0m: [Errno 2] No such file or directory: './data/monomers.traj'"
     ]
    }
   ],
   "source": [
    "# Starting configuration\n",
    "# os.chdir('../')\n",
    "atoms = read('./data/monomers.traj')\n",
    "\n",
    "# Give the atoms some momentum \n",
    "MaxwellBoltzmannDistribution(atoms, temp=500*ase_units.kB)\n",
    "momenta = atoms.get_momenta()\n",
    "# Subtract mean momentum\n",
    "atoms.set_momenta(momenta - np.mean(momenta, axis = 0))\n",
    "\n",
    "try:\n",
    "    os.chdir('./md_mixing/')\n",
    "except FileNotFoundError:\n",
    "    pass\n",
    "\n",
    "traj = io.Trajectory('./md_mixing.traj',\n",
    "                         mode = 'w', atoms = atoms)\n",
    "\n",
    "# ========= The calculator can be loaded by invoking the following command ==============\n",
    "calculator = mlcf.calculator.load_from_file('./pbe_sz_to_dz.inp')\n",
    "atoms.calc = calculator\n",
    "dyn = VelocityVerlet(atoms, dt=0.5*ase_units.fs, logfile='./md_mixing.log', trajectory = traj)\n",
    "dyn.run(20)\n",
    "view(read('md_mixing.traj', ':'))"
   ]
  },
  {
   "cell_type": "code",
   "execution_count": 80,
   "metadata": {},
   "outputs": [],
   "source": []
  },
  {
   "cell_type": "code",
   "execution_count": 36,
   "metadata": {},
   "outputs": [
    {
     "data": {
      "text/plain": [
       "array([[ 55.02204469, -34.85782588,   6.99457944],\n",
       "       [ 23.54179977,  -0.72894584,  10.09125822],\n",
       "       [ -8.30564142, -15.95960726,  14.91771174]])"
      ]
     },
     "execution_count": 36,
     "metadata": {},
     "output_type": "execute_result"
    }
   ],
   "source": [
    "atoms.get_momenta()"
   ]
  }
 ],
 "metadata": {
  "kernelspec": {
   "display_name": "Python 3",
   "language": "python",
   "name": "python3"
  },
  "language_info": {
   "codemirror_mode": {
    "name": "ipython",
    "version": 3
   },
   "file_extension": ".py",
   "mimetype": "text/x-python",
   "name": "python",
   "nbconvert_exporter": "python",
   "pygments_lexer": "ipython3",
   "version": "3.6.5"
  }
 },
 "nbformat": 4,
 "nbformat_minor": 2
}
