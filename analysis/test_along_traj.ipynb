{
 "cells": [
  {
   "cell_type": "code",
   "execution_count": 1,
   "metadata": {},
   "outputs": [
    {
     "name": "stdout",
     "output_type": "stream",
     "text": [
      "Populating the interactive namespace from numpy and matplotlib\n"
     ]
    },
    {
     "name": "stderr",
     "output_type": "stream",
     "text": [
      "/gpfs/home/smdick/anaconda3/lib/python3.6/site-packages/h5py/__init__.py:36: FutureWarning: Conversion of the second argument of issubdtype from `float` to `np.floating` is deprecated. In future, it will be treated as `np.float64 == np.dtype(float).type`.\n",
      "  from ._conv import register_converters as _register_converters\n"
     ]
    }
   ],
   "source": [
    "%pylab inline\n",
    "import xcml\n",
    "import siestah2o as h2o\n",
    "import pickle\n",
    "from mbpol_calculator import MbpolCalculator, reconnect_monomers\n",
    "from ase import Atoms\n",
    "import siesta_utils.grid as siesta\n",
    "from ase.io import iread, read\n",
    "import sys\n",
    "sys.path.append('..')\n",
    "import config as c\n",
    "import pandas as pd"
   ]
  },
  {
   "cell_type": "code",
   "execution_count": 2,
   "metadata": {},
   "outputs": [],
   "source": [
    "basis = 'dz_custom'\n",
    "features = 'mull'\n",
    "path = '/gpfs/scratch/smdick/md_siesta_mull_test/'\n",
    "every = 1"
   ]
  },
  {
   "cell_type": "code",
   "execution_count": 3,
   "metadata": {},
   "outputs": [
    {
     "name": "stdout",
     "output_type": "stream",
     "text": [
      "No finite diff. model found\n",
      "INFO:tensorflow:Restoring parameters from /gpfs/home/smdick/exchange_ml/models/final/nn_mulliken_dz_rand/model.ckpt\n"
     ]
    }
   ],
   "source": [
    "#Load relevant models \n",
    "\n",
    "e_model = False\n",
    "f_model = False\n",
    "fd_model = False\n",
    "try:\n",
    "    krr_O = pickle.load(open(c.model_basepath + c.par[features]['krr_o'][basis], 'rb'))\n",
    "    krr_H = pickle.load(open(c.model_basepath + c.par[features]['krr_h'][basis], 'rb'))\n",
    "    f_model = True\n",
    "except KeyError:\n",
    "    print('No force model found')    \n",
    "try:\n",
    "    krr_O_dx = pickle.load(open(c.model_basepath + c.par[features]['krr_o_dx'][basis], 'rb'))\n",
    "    krr_H_dx = pickle.load(open(c.model_basepath + c.par[features]['krr_h_dx'][basis], 'rb'))\n",
    "    fd_model = True\n",
    "except KeyError:\n",
    "    print('No finite diff. model found')\n",
    "try:\n",
    "    nn = xcml.load_network(c.model_basepath + c.par[features]['nn'][basis])\n",
    "    e_model = True\n",
    "except KeyError:\n",
    "    print('No energy model found')\n",
    "    \n"
   ]
  },
  {
   "cell_type": "code",
   "execution_count": 4,
   "metadata": {},
   "outputs": [],
   "source": [
    "# Load data \n",
    "\n",
    "if features == 'descr':\n",
    "    n_o_orb = 18\n",
    "    n_h_orb = 8\n",
    "else:\n",
    "    n_o_orb = c.par[features]['n_o_orb'][basis]\n",
    "    n_h_orb = c.par[features]['n_h_orb'][basis]\n",
    "    \n",
    "    \n",
    "feat = np.genfromtxt(path +'/siesta/features.dat').reshape(-1, 128, n_o_orb + 2 * n_h_orb)[1:]\n",
    "forces_siesta = np.genfromtxt(path +'/siesta/forces_siesta.dat').reshape(-1,128,3,3)[1:]\n",
    "forces_corrected = np.genfromtxt(path + '/siesta/forces_corrected.dat').reshape(-1,128,3,3)[1:]\n",
    "energies = pd.read_csv(path + '/siesta/energies.dat', delim_whitespace= True).iloc[1:]"
   ]
  },
  {
   "cell_type": "code",
   "execution_count": 5,
   "metadata": {},
   "outputs": [],
   "source": [
    "# Calculate reference data \n",
    "forces_mbpol = []\n",
    "energies_mbpol = []\n",
    "coords = []\n",
    "all_atoms = read(path + 'md_siesta.traj', '::{}'.format(every))\n",
    "\n",
    "coor0 = np.array(all_atoms[0].get_positions())\n",
    "atoms = all_atoms[0]\n",
    "atoms = reconnect_monomers(atoms)\n",
    "atoms = reconnect_monomers(atoms)\n",
    "atoms.set_calculator(MbpolCalculator(atoms))\n",
    "\n",
    "for a in all_atoms:\n",
    "    coords.append(a.get_positions())\n",
    "    atoms.set_positions(a.get_positions())\n",
    "    atoms = reconnect_monomers(atoms)\n",
    "    atoms = reconnect_monomers(atoms)\n",
    "    \n",
    "    energies_mbpol.append(atoms.get_potential_energy())\n",
    "    forces_mbpol.append(atoms.get_forces())"
   ]
  },
  {
   "cell_type": "code",
   "execution_count": 6,
   "metadata": {},
   "outputs": [],
   "source": [
    "energies_mbpol = np.array(energies_mbpol)\n",
    "forces_mbpol = np.array(forces_mbpol).reshape(-1,128,3,3)\n",
    "energies = energies.iloc[::every]\n",
    "energies['Mbpol'] = energies_mbpol\n"
   ]
  },
  {
   "cell_type": "code",
   "execution_count": 7,
   "metadata": {},
   "outputs": [
    {
     "data": {
      "text/plain": [
       "[<matplotlib.lines.Line2D at 0x2aabc4e12f98>]"
      ]
     },
     "execution_count": 7,
     "metadata": {},
     "output_type": "execute_result"
    },
    {
     "data": {
      "image/png": "[encoded data removed]",
      "text/plain": [
       "<matplotlib.figure.Figure at 0x2aabc4e0fe48>"
      ]
     },
     "metadata": {},
     "output_type": "display_data"
    }
   ],
   "source": [
    "plot(energies['Mbpol'] , energies['Siesta'], ls = '', marker = '.')\n",
    "plot(energies['Mbpol'] , energies['Corrected'], ls = '', marker = '.')"
   ]
  },
  {
   "cell_type": "code",
   "execution_count": 8,
   "metadata": {},
   "outputs": [
    {
     "name": "stdout",
     "output_type": "stream",
     "text": [
      "0.04473972992650332\n",
      "0.006805295328420498\n"
     ]
    }
   ],
   "source": [
    "print(np.std(energies['Mbpol'] - energies['Siesta'])/128)\n",
    "print(np.std(energies['Mbpol'] - energies['Corrected'])/128)"
   ]
  },
  {
   "cell_type": "code",
   "execution_count": 12,
   "metadata": {},
   "outputs": [
    {
     "data": {
      "text/plain": [
       "[<matplotlib.lines.Line2D at 0x2aabd5f2b5c0>]"
      ]
     },
     "execution_count": 12,
     "metadata": {},
     "output_type": "execute_result"
    },
    {
     "data": {
      "image/png": "[encoded data removed]",
      "text/plain": [
       "<matplotlib.figure.Figure at 0x2aabd5f2b470>"
      ]
     },
     "metadata": {},
     "output_type": "display_data"
    }
   ],
   "source": [
    "i = 3\n",
    "plot(forces_siesta[i].flatten(), forces_mbpol[i].flatten(), ls = '', marker = '.')\n",
    "plot(forces_corrected[i].flatten(), forces_mbpol[i].flatten(),ls = '', marker = '.')\n",
    "# plot(forces_siesta[i].flatten() - corrections.flatten(), forces_mbpol[i].flatten(),ls = '', marker = '.')"
   ]
  },
  {
   "cell_type": "code",
   "execution_count": null,
   "metadata": {},
   "outputs": [],
   "source": []
  }
 ],
 "metadata": {
  "kernelspec": {
   "display_name": "Python 3",
   "language": "python",
   "name": "python3"
  },
  "language_info": {
   "codemirror_mode": {
    "name": "ipython",
    "version": 3
   },
   "file_extension": ".py",
   "mimetype": "text/x-python",
   "name": "python",
   "nbconvert_exporter": "python",
   "pygments_lexer": "ipython3",
   "version": "3.6.4"
  }
 },
 "nbformat": 4,
 "nbformat_minor": 2
}
