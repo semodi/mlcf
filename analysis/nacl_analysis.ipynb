{
 "cells": [
  {
   "cell_type": "code",
   "execution_count": 1,
   "metadata": {},
   "outputs": [
    {
     "name": "stdout",
     "output_type": "stream",
     "text": [
      "Populating the interactive namespace from numpy and matplotlib\n"
     ]
    }
   ],
   "source": [
    "from ase.io import read\n",
    "import numpy as np \n",
    "%pylab inline"
   ]
  },
  {
   "cell_type": "code",
   "execution_count": 2,
   "metadata": {},
   "outputs": [],
   "source": [
    "traj_dzp = read('/gpfs/home/smdick/smdick/ions/md_siesta_dzp/md_siesta.traj', '::10')"
   ]
  },
  {
   "cell_type": "code",
   "execution_count": 3,
   "metadata": {},
   "outputs": [],
   "source": [
    "traj_mixing = read('/gpfs/home/smdick/smdick/ions/md_siesta_mixer_uf_5/md_siesta.traj', '::10')"
   ]
  },
  {
   "cell_type": "code",
   "execution_count": 4,
   "metadata": {},
   "outputs": [
    {
     "data": {
      "text/plain": [
       "535"
      ]
     },
     "execution_count": 4,
     "metadata": {},
     "output_type": "execute_result"
    }
   ],
   "source": [
    "len(traj_dzp)"
   ]
  },
  {
   "cell_type": "code",
   "execution_count": 5,
   "metadata": {},
   "outputs": [],
   "source": [
    "len(traj_mixing)\n",
    "traj_mixing = traj_mixing[:len(traj_dzp)]"
   ]
  },
  {
   "cell_type": "code",
   "execution_count": 6,
   "metadata": {},
   "outputs": [],
   "source": [
    "Na_O = []\n",
    "for t in traj_dzp:\n",
    "    Na_O.append(t.get_all_distances(mic = True)[0,2::3])\n",
    "\n",
    "Na_O_mixing = []\n",
    "for t in traj_mixing:\n",
    "    Na_O_mixing.append(t.get_all_distances(mic = True)[0,2::3])\n",
    "\n",
    "Cl_O = []\n",
    "for t in traj_dzp:\n",
    "    Cl_O.append(t.get_all_distances(mic = True)[1,2::3])\n",
    "Cl_O_mixing = []\n",
    "for t in traj_mixing:\n",
    "    Cl_O_mixing.append(t.get_all_distances(mic = True)[1,2::3])"
   ]
  },
  {
   "cell_type": "code",
   "execution_count": 7,
   "metadata": {},
   "outputs": [],
   "source": [
    "Na_O = np.concatenate(Na_O)\n",
    "Na_O_mixing = np.concatenate(Na_O_mixing)"
   ]
  },
  {
   "cell_type": "code",
   "execution_count": 8,
   "metadata": {},
   "outputs": [],
   "source": [
    "Cl_O = np.concatenate(Cl_O)\n",
    "Cl_O_mixing = np.concatenate(Cl_O_mixing)"
   ]
  },
  {
   "cell_type": "code",
   "execution_count": 9,
   "metadata": {},
   "outputs": [
    {
     "data": {
      "image/png": "[encoded data removed]",
      "text/plain": [
       "<matplotlib.figure.Figure at 0x2aaace684f60>"
      ]
     },
     "metadata": {},
     "output_type": "display_data"
    }
   ],
   "source": [
    "hist(Na_O, bins = 40, normed=  True);\n",
    "hist(Na_O_mixing, bins = 40, normed = True, alpha = .4);"
   ]
  },
  {
   "cell_type": "code",
   "execution_count": 10,
   "metadata": {},
   "outputs": [
    {
     "data": {
      "image/png": "[encoded data removed]",
      "text/plain": [
       "<matplotlib.figure.Figure at 0x2aaace347390>"
      ]
     },
     "metadata": {},
     "output_type": "display_data"
    }
   ],
   "source": [
    "hist(Cl_O, bins = 40, normed=  True);\n",
    "hist(Cl_O_mixing, bins = 40, normed = True, alpha = .4);"
   ]
  },
  {
   "cell_type": "code",
   "execution_count": null,
   "metadata": {},
   "outputs": [],
   "source": []
  }
 ],
 "metadata": {
  "kernelspec": {
   "display_name": "Python 3",
   "language": "python",
   "name": "python3"
  },
  "language_info": {
   "codemirror_mode": {
    "name": "ipython",
    "version": 3
   },
   "file_extension": ".py",
   "mimetype": "text/x-python",
   "name": "python",
   "nbconvert_exporter": "python",
   "pygments_lexer": "ipython3",
   "version": "3.6.4"
  }
 },
 "nbformat": 4,
 "nbformat_minor": 2
}
