{
 "cells": [
  {
   "cell_type": "code",
   "execution_count": 19,
   "metadata": {
    "collapsed": true
   },
   "outputs": [],
   "source": [
    "import numpy as np\n",
    "import sys\n",
    "sys.path.append('../')\n",
    "import mbpol_wrapper as mbp\n",
    " \n",
    "from ase import Atoms\n",
    "from ase.md.npt import NPT\n",
    "from ase.md import VelocityVerlet\n",
    "from ase.md.velocitydistribution import MaxwellBoltzmannDistribution\n",
    "from ase.io import read,write, Trajectory\n",
    "from ase import units as ase_units\n",
    "from ase.md import logger\n",
    "from simtk.openmm import app\n",
    "from simtk import unit\n",
    "\n",
    "pdb = app.PDBFile(\"../128.pdb\")\n",
    "init_pos = np.array(pdb.positions.value_in_unit(unit.angstrom))\n",
    "init_pos = np.delete(init_pos, np.arange(3,len(init_pos),4), axis = 0)\n",
    "\n",
    "a = 15.646 \n",
    "boxsize = [a,a,a] * unit.angstrom\n",
    "\n",
    "h2o = Atoms('128OHH',\n",
    "            positions = init_pos,\n",
    "            cell = [a, a, a],\n",
    "            pbc = True)\n",
    "\n",
    "h2o_shifted = mbp.reconnect_monomers(h2o,[a,a,a])\n",
    "\n",
    "h2o.calc = mbp.MbpolCalculator(pdb, app.PME, boxSize = boxsize,\n",
    "     nonbondedCutoff= 0.75*unit.nanometer, tip4p = False)\n",
    "\n",
    "def shuffle_momenta(h2o):\n",
    "    MaxwellBoltzmannDistribution(h2o, 300 * ase_units.kB)\n",
    "    h2o.set_momenta(h2o.get_momenta() - np.mean(h2o.get_momenta(),axis =0))\n",
    "\n",
    "\n",
    "shuffle_momenta(h2o)\n",
    "\n",
    "dyn = VelocityVerlet(h2o, 0.1 * ase_units.fs)\n",
    "\n",
    "\n",
    "positions = []\n",
    "\n",
    "E0 = h2o.get_total_energy()\n",
    "pos0 = h2o.get_positions()\n",
    "\n",
    "rands = np.random.rand(10)\n",
    "temperature = 300 * ase_units.kB\n",
    "\n",
    "trajectory = Trajectory('verlet.traj', 'a')\n",
    "my_log = logger.MDLogger(dyn, h2o,'verlet.log')\n",
    "\n",
    "for i in range(4):\n",
    "    \n",
    "    dyn.run(2) \n",
    "    E1 = h2o.get_total_energy()\n",
    "    de = E1 - E0\n",
    "    if de < 0:\n",
    "        pos1 = h2o.get_positions()\n",
    "        positions.append(pos1)\n",
    "        pos0 = np.array(pos1)\n",
    "        E0 = h2o.get_total_energy()\n",
    "        trajectory.write(h2o)\n",
    "        my_log()\n",
    "        shuffle_momenta(h2o)\n",
    "#         print('accepted (de < 0)')\n",
    "\n",
    "    else:\n",
    "#         print('roll dice (de > 0)')\n",
    "        if rands[i] < np.exp(-de/temperature):\n",
    "            pos1 = h2o.get_positions()\n",
    "            positions.append(pos1)\n",
    "            pos0 = np.array(pos1)\n",
    "            E0 = h2o.get_total_energy()  \n",
    "            trajectory.write(h2o)\n",
    "            my_log()\n",
    "            shuffle_momenta(h2o)\n",
    "#             print('accepted')\n",
    "        else:\n",
    "            h2o.set_positions(pos0)\n",
    "            shuffle_momenta(h2o)\n",
    "#             print('rejected')\n",
    "            continue"
   ]
  },
  {
   "cell_type": "code",
   "execution_count": 4,
   "metadata": {
    "collapsed": true
   },
   "outputs": [],
   "source": [
    "atom_list = []\n",
    "for p in positions:\n",
    "    atom_list.append(Atoms('128OHH',\n",
    "            positions = p,\n",
    "            cell = [a, a, a],\n",
    "            pbc = True))"
   ]
  },
  {
   "cell_type": "code",
   "execution_count": 5,
   "metadata": {},
   "outputs": [
    {
     "ename": "NameError",
     "evalue": "name 'get_number_of_atoms' is not defined",
     "output_type": "error",
     "traceback": [
      "\u001b[0;31m---------------------------------------------------------------------------\u001b[0m",
      "\u001b[0;31mNameError\u001b[0m                                 Traceback (most recent call last)",
      "\u001b[0;32m<ipython-input-5-7c9faf6bdc44>\u001b[0m in \u001b[0;36m<module>\u001b[0;34m()\u001b[0m\n\u001b[1;32m      2\u001b[0m \u001b[0mdr\u001b[0m \u001b[0;34m=\u001b[0m \u001b[0;36m0.1\u001b[0m\u001b[0;34m\u001b[0m\u001b[0m\n\u001b[1;32m      3\u001b[0m \u001b[0mbins\u001b[0m \u001b[0;34m=\u001b[0m \u001b[0mnp\u001b[0m\u001b[0;34m.\u001b[0m\u001b[0marange\u001b[0m\u001b[0;34m(\u001b[0m\u001b[0;36m2\u001b[0m\u001b[0;34m,\u001b[0m\u001b[0;36m8\u001b[0m\u001b[0;34m,\u001b[0m\u001b[0mdr\u001b[0m\u001b[0;34m)\u001b[0m\u001b[0;34m\u001b[0m\u001b[0m\n\u001b[0;32m----> 4\u001b[0;31m \u001b[0mrdf\u001b[0m\u001b[0;34m(\u001b[0m\u001b[0matom_list\u001b[0m\u001b[0;34m,\u001b[0m\u001b[0mbins\u001b[0m\u001b[0;34m)\u001b[0m\u001b[0;34m\u001b[0m\u001b[0m\n\u001b[0m",
      "\u001b[0;32m/gpfs/home/smdick/mbpol_calc_ase/analysis/rdf.py\u001b[0m in \u001b[0;36mrdf\u001b[0;34m(atoms_list, bins)\u001b[0m\n\u001b[1;32m      9\u001b[0m \u001b[0;34m\u001b[0m\u001b[0m\n\u001b[1;32m     10\u001b[0m     \u001b[0;32mfor\u001b[0m \u001b[0matoms\u001b[0m \u001b[0;32min\u001b[0m \u001b[0matoms_list\u001b[0m\u001b[0;34m:\u001b[0m\u001b[0;34m\u001b[0m\u001b[0m\n\u001b[0;32m---> 11\u001b[0;31m         \u001b[0mn_atoms\u001b[0m \u001b[0;34m=\u001b[0m \u001b[0mint\u001b[0m\u001b[0;34m(\u001b[0m\u001b[0mget_number_of_atoms\u001b[0m\u001b[0;34m(\u001b[0m\u001b[0;34m)\u001b[0m\u001b[0;34m/\u001b[0m\u001b[0;36m3\u001b[0m\u001b[0;34m)\u001b[0m\u001b[0;34m\u001b[0m\u001b[0m\n\u001b[0m\u001b[1;32m     12\u001b[0m         binned += np.histogram(\\\n\u001b[1;32m     13\u001b[0m             \u001b[0matoms\u001b[0m\u001b[0;34m.\u001b[0m\u001b[0mget_all_distances\u001b[0m\u001b[0;34m(\u001b[0m\u001b[0mmic\u001b[0m \u001b[0;34m=\u001b[0m \u001b[0;32mTrue\u001b[0m\u001b[0;34m)\u001b[0m\u001b[0;34m[\u001b[0m\u001b[0;34m:\u001b[0m\u001b[0;34m:\u001b[0m\u001b[0;36m3\u001b[0m\u001b[0;34m,\u001b[0m\u001b[0;34m:\u001b[0m\u001b[0;34m:\u001b[0m\u001b[0;36m3\u001b[0m\u001b[0;34m]\u001b[0m\u001b[0;34m[\u001b[0m\u001b[0mnp\u001b[0m\u001b[0;34m.\u001b[0m\u001b[0mtriu_indices\u001b[0m\u001b[0;34m(\u001b[0m\u001b[0mn_atoms\u001b[0m\u001b[0;34m,\u001b[0m\u001b[0;36m1\u001b[0m\u001b[0;34m)\u001b[0m\u001b[0;34m]\u001b[0m\u001b[0;34m,\u001b[0m\u001b[0;34m\u001b[0m\u001b[0m\n",
      "\u001b[0;31mNameError\u001b[0m: name 'get_number_of_atoms' is not defined"
     ]
    }
   ],
   "source": [
    "from rdf import rdf\n",
    "dr = 0.1\n",
    "bins = np.arange(2,8,dr)\n",
    "rdf(atom_list,bins)"
   ]
  },
  {
   "cell_type": "code",
   "execution_count": 15,
   "metadata": {},
   "outputs": [
    {
     "name": "stdout",
     "output_type": "stream",
     "text": [
      "Time[ps]      Etot[eV]     Epot[eV]     Ekin[eV]    T[K]\r\n",
      "0.001          -21.814      -37.237       15.423   310.7\r\n",
      "Time[ps]      Etot[eV]     Epot[eV]     Ekin[eV]    T[K]\r\n",
      "0.001          -20.915      -39.441       18.526   373.2\r\n",
      "0.002          -21.483      -45.412       23.929   482.1\r\n",
      "0.003          -21.541      -46.105       24.564   494.9\r\n",
      "0.004          -20.886      -41.359       20.473   412.5\r\n",
      "0.005          -20.766      -40.348       19.582   394.5\r\n",
      "Time[ps]      Etot[eV]     Epot[eV]     Ekin[eV]    T[K]\r\n",
      "0.000          -22.165      -36.698       14.532   292.8\r\n",
      "0.000          -22.165      -37.294       15.130   304.8\r\n",
      "0.001          -22.155      -38.159       16.004   322.4\r\n",
      "0.001          -22.153      -39.259       17.106   344.6\r\n",
      "0.001          -22.151      -40.525       18.374   370.2\r\n",
      "0.001          -22.151      -41.887       19.736   397.6\r\n",
      "0.001          -22.148      -43.259       21.111   425.3\r\n",
      "0.002          -22.144      -44.564       22.419   451.7\r\n",
      "0.002          -22.141      -45.721       23.580   475.1\r\n",
      "0.002          -22.134      -46.655       24.522   494.0\r\n"
     ]
    }
   ],
   "source": [
    "! cat ./verlet.log"
   ]
  },
  {
   "cell_type": "code",
   "execution_count": null,
   "metadata": {
    "collapsed": true
   },
   "outputs": [],
   "source": []
  }
 ],
 "metadata": {
  "kernelspec": {
   "display_name": "Python 3",
   "language": "python",
   "name": "python3"
  },
  "language_info": {
   "codemirror_mode": {
    "name": "ipython",
    "version": 3
   },
   "file_extension": ".py",
   "mimetype": "text/x-python",
   "name": "python",
   "nbconvert_exporter": "python",
   "pygments_lexer": "ipython3",
   "version": "3.6.1"
  }
 },
 "nbformat": 4,
 "nbformat_minor": 2
}
