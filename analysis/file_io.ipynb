{
 "cells": [
  {
   "cell_type": "code",
   "execution_count": 43,
   "metadata": {},
   "outputs": [
    {
     "name": "stdout",
     "output_type": "stream",
     "text": [
      "Monomers were reconnected\n",
      "ttime= 0.015 fs :: temperature = 214.6779731084554\n"
     ]
    }
   ],
   "source": [
    "from ase import Atoms\n",
    "from ase.md.npt import NPT\n",
    "from ase.md import VelocityVerlet\n",
    "from ase.md.velocitydistribution import MaxwellBoltzmannDistribution\n",
    "import ase.io as io\n",
    "import numpy as np\n",
    "from ase import units as ase_units\n",
    "from mbpol_calculator import *\n",
    "from ase.md import MDLogger\n",
    "\n",
    "T = 298.15\n",
    "dt = 0.5\n",
    "ttime = 0.015\n",
    "    \n",
    "a = 15.646 \n",
    "\n",
    "h2o = Atoms('128OHH',\n",
    "           positions = np.genfromtxt('../128.csv',delimiter = ','),\n",
    "           cell = [a, a, a],\n",
    "           pbc = True)\n",
    "\n",
    "h2o_shifted = reconnect_monomers(h2o)\n",
    "\n",
    "h2o.calc = MbpolCalculator(h2o)\n",
    "\n",
    "# Setting the initial T 100 K lower leads to faster convergence of initial oscillations\n",
    "MaxwellBoltzmannDistribution(h2o, 200 * ase_units.kB)\n",
    "\n",
    "#    while(abs(h2o.get_temperature() - 300) > 1):\n",
    "#        MaxwellBoltzmannDistribution(h2o, 300 * ase_units.kB)\n",
    "print('ttime= {} fs :: temperature = {}'.format(ttime,h2o.get_temperature()))\n",
    "\n",
    "\n",
    "h2o.set_momenta(h2o.get_momenta() - np.mean(h2o.get_momenta(),axis =0))\n",
    "\n",
    "traj = io.Trajectory('./test.traj', mode = 'a', atoms = h2o)\n",
    "\n",
    "\n",
    "dyn = NPT(h2o, timestep = dt * ase_units.fs, \n",
    "          temperature =  T * ase_units.kB, externalstress = 0,\n",
    "          ttime = ttime * ase_units.fs, pfactor = None,\n",
    "                     trajectory=traj.write)\n",
    "logfile = MDLogger(dyn, h2o, './test.log', header=False, stress=False, mode=\"a\")\n",
    "\n",
    "dyn.attach(logfile, interval = 1)\n",
    "\n",
    "dyn.run(5) \n",
    "logfile.close()"
   ]
  },
  {
   "cell_type": "code",
   "execution_count": 44,
   "metadata": {},
   "outputs": [
    {
     "name": "stdout",
     "output_type": "stream",
     "text": [
      "Time[ps]      Etot[eV]     Epot[eV]     Ekin[eV]    T[K]\r\n",
      "0.001          -37.649      -37.649        0.000     0.0\r\n",
      "0.001          -36.458      -36.458        0.000     0.0\r\n",
      "0.001          -37.648      -37.648        0.000     0.0\r\n",
      "0.002          -36.453      -36.453        0.000     0.0\r\n",
      "0.003          -37.648      -37.648        0.000     0.0\r\n",
      "0.001          -37.616      -37.616        0.001     0.0\r\n",
      "0.001          -36.450      -36.450        0.000     0.0\r\n",
      "0.001          -37.615      -37.615        0.000     0.0\r\n",
      "0.002          -36.445      -36.445        0.000     0.0\r\n",
      "0.003          -37.615      -37.615        0.000     0.0\r\n"
     ]
    }
   ],
   "source": [
    "! cat test.log"
   ]
  },
  {
   "cell_type": "code",
   "execution_count": null,
   "metadata": {
    "collapsed": true
   },
   "outputs": [],
   "source": []
  }
 ],
 "metadata": {
  "kernelspec": {
   "display_name": "Python 3",
   "language": "python",
   "name": "python3"
  },
  "language_info": {
   "codemirror_mode": {
    "name": "ipython",
    "version": 3
   },
   "file_extension": ".py",
   "mimetype": "text/x-python",
   "name": "python",
   "nbconvert_exporter": "python",
   "pygments_lexer": "ipython3",
   "version": "3.6.4"
  }
 },
 "nbformat": 4,
 "nbformat_minor": 2
}
