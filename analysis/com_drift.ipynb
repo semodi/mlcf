{
 "cells": [
  {
   "cell_type": "code",
   "execution_count": 1,
   "metadata": {},
   "outputs": [
    {
     "name": "stdout",
     "output_type": "stream",
     "text": [
      "Populating the interactive namespace from numpy and matplotlib\n"
     ]
    }
   ],
   "source": [
    "import numpy as np \n",
    "%pylab inline"
   ]
  },
  {
   "cell_type": "code",
   "execution_count": 2,
   "metadata": {},
   "outputs": [],
   "source": [
    "from ase.io import read, write"
   ]
  },
  {
   "cell_type": "code",
   "execution_count": 22,
   "metadata": {},
   "outputs": [],
   "source": [
    "dt = 2\n",
    "# atoms = read('/gpfs/home/smdick/smdick/mbpol/md_siesta_pure/md_siesta_10.traj', '::{}'.format(dt))\n",
    "# atoms = read('/gpfs/home/smdick/smdick/new/md_siesta_dztombp/md_siesta.traj', '::{}'.format(dt))\n",
    "# atoms = read('/gpfs/home/smdick/smdick/seawulf/md_siesta_mull/md_siesta.traj', '::{}'.format(dt))\n",
    "# atoms = read('/gpfs/home/smdick/smdick/32/md_siesta_dztombp_2/md_siesta.traj','::{}'.format(dt))\n",
    "# atoms = read('/gpfs/home/smdick/smdick/32/md_siesta_mull/md_siesta.traj','::{}'.format(dt))\n",
    "# atoms = read('/gpfs/home/smdick/smdick/32/md_siesta_pure_2/md_siesta.traj','::{}'.format(dt))\n",
    "atoms = read('/gpfs/home/smdick/smdick/cm_fix/md_siesta_dztombp/md_siesta.traj','::{}'.format(dt))\n",
    "# atoms = read('/gpfs/home/smdick/smdick/cm_fix/md_siesta_dztombp_verlet/md_siesta.traj','::{}'.format(dt))\n",
    "t = np.arange(0,len(atoms)*dt,dt)"
   ]
  },
  {
   "cell_type": "code",
   "execution_count": 23,
   "metadata": {},
   "outputs": [],
   "source": [
    "cm0 = atoms[0].get_center_of_mass()\n",
    "drift = []\n",
    "cm_pos = []\n",
    "for a in atoms:\n",
    "    cm = a.get_center_of_mass()\n",
    "    drift.append(np.linalg.norm(cm-cm0))\n",
    "    cm_pos.append(cm-cm0)"
   ]
  },
  {
   "cell_type": "code",
   "execution_count": 24,
   "metadata": {},
   "outputs": [
    {
     "data": {
      "text/plain": [
       "Text(0.5,0,'$t[ps]$')"
      ]
     },
     "execution_count": 24,
     "metadata": {},
     "output_type": "execute_result"
    },
    {
     "data": {
      "image/png": "[encoded data removed]",
      "text/plain": [
       "<matplotlib.figure.Figure at 0x2aaac1148908>"
      ]
     },
     "metadata": {},
     "output_type": "display_data"
    }
   ],
   "source": [
    "plot(t/2000,drift, label = 'd')\n",
    "for i,l in enumerate(['x','y','z']):\n",
    "    plot(t/2000, np.array(cm_pos)[:,i], label = l)\n",
    "legend()\n",
    "ylabel('$\\\\vec{r}_{CM}(t)-\\\\vec r_{CM}(t_0)[A]$')\n",
    "xlabel('$t[ps]$')\n",
    "# savefig('cm_descr.eps')\n",
    "# savefig('cm_descr.pdf')"
   ]
  },
  {
   "cell_type": "code",
   "execution_count": 25,
   "metadata": {},
   "outputs": [
    {
     "data": {
      "text/plain": [
       "array([15.999,  1.008,  1.008, 15.999,  1.008,  1.008, 15.999,  1.008,\n",
       "        1.008, 15.999,  1.008,  1.008, 15.999,  1.008,  1.008, 15.999,\n",
       "        1.008,  1.008, 15.999,  1.008,  1.008, 15.999,  1.008,  1.008,\n",
       "       15.999,  1.008,  1.008, 15.999,  1.008,  1.008, 15.999,  1.008,\n",
       "        1.008, 15.999,  1.008,  1.008, 15.999,  1.008,  1.008, 15.999,\n",
       "        1.008,  1.008, 15.999,  1.008,  1.008, 15.999,  1.008,  1.008,\n",
       "       15.999,  1.008,  1.008, 15.999,  1.008,  1.008, 15.999,  1.008,\n",
       "        1.008, 15.999,  1.008,  1.008, 15.999,  1.008,  1.008, 15.999,\n",
       "        1.008,  1.008, 15.999,  1.008,  1.008, 15.999,  1.008,  1.008,\n",
       "       15.999,  1.008,  1.008, 15.999,  1.008,  1.008, 15.999,  1.008,\n",
       "        1.008, 15.999,  1.008,  1.008, 15.999,  1.008,  1.008, 15.999,\n",
       "        1.008,  1.008, 15.999,  1.008,  1.008, 15.999,  1.008,  1.008])"
      ]
     },
     "execution_count": 25,
     "metadata": {},
     "output_type": "execute_result"
    }
   ],
   "source": [
    "atoms[0].get_masses()"
   ]
  },
  {
   "cell_type": "code",
   "execution_count": null,
   "metadata": {},
   "outputs": [],
   "source": []
  }
 ],
 "metadata": {
  "kernelspec": {
   "display_name": "Python 3",
   "language": "python",
   "name": "python3"
  },
  "language_info": {
   "codemirror_mode": {
    "name": "ipython",
    "version": 3
   },
   "file_extension": ".py",
   "mimetype": "text/x-python",
   "name": "python",
   "nbconvert_exporter": "python",
   "pygments_lexer": "ipython3",
   "version": "3.6.4"
  }
 },
 "nbformat": 4,
 "nbformat_minor": 2
}
