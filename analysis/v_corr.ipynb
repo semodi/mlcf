{
 "cells": [
  {
   "cell_type": "code",
   "execution_count": 4,
   "metadata": {},
   "outputs": [
    {
     "data": {
      "text/plain": [
       "128"
      ]
     },
     "execution_count": 4,
     "metadata": {},
     "output_type": "execute_result"
    }
   ],
   "source": [
    "import ipyparallel as parallel\n",
    "client = parallel.Client(profile='default2')\n",
    "view = client.load_balanced_view()\n",
    "len(client.ids)"
   ]
  },
  {
   "cell_type": "code",
   "execution_count": 5,
   "metadata": {},
   "outputs": [],
   "source": [
    "%%px\n",
    "import os\n",
    "os.environ['QT_QPA_PLATFORM']='offscreen'"
   ]
  },
  {
   "cell_type": "code",
   "execution_count": 7,
   "metadata": {},
   "outputs": [
    {
     "name": "stdout",
     "output_type": "stream",
     "text": [
      "Populating the interactive namespace from numpy and matplotlib\n"
     ]
    }
   ],
   "source": [
    "%pylab inline"
   ]
  },
  {
   "cell_type": "code",
   "execution_count": 8,
   "metadata": {},
   "outputs": [],
   "source": [
    "%%px --local\n",
    "from ase.io import read\n",
    "import numpy as np\n"
   ]
  },
  {
   "cell_type": "code",
   "execution_count": 98,
   "metadata": {},
   "outputs": [],
   "source": [
    "%%px --local\n",
    "def get_t_corr(dt, path, lim):\n",
    "    \n",
    "    basepath = '/gpfs/scratch/smdick/'\n",
    "    trajectories = read(basepath + path, lim)\n",
    "    v = []\n",
    "    all_v = []\n",
    "    for i, traj in enumerate(trajectories[int(dt):]):\n",
    "        v1 = traj.get_velocities()[::3]\n",
    "        all_v.append(np.mean(np.einsum('ij,ij -> i' , v1, v1)))\n",
    "    #         v1 = v1/np.tile(np.linalg.norm(v1, axis = 1).reshape(-1,1)**2,[1,3])\n",
    "        v2 = trajectories[i].get_velocities()[::3]\n",
    "        v.append(np.mean(np.einsum('ij,ij -> i' , v1, v2)))\n",
    "#         v.append(v1.dot(v2))\n",
    "    return np.mean(v)/np.mean(all_v)"
   ]
  },
  {
   "cell_type": "code",
   "execution_count": 108,
   "metadata": {},
   "outputs": [],
   "source": [
    "\n",
    "paths = ['mbpol/md_siesta_pure/md_siesta_10.traj',\n",
    "         'new/md_siesta_uftodz_5/md_siesta.traj',\n",
    "         'new/md_siesta_uftodz_8/md_siesta.traj',\n",
    "         'new/md_siesta_uftodz_10/md_siesta.traj',\n",
    "         'new/md_siesta_uftodz_inf/md_siesta.traj',\n",
    "         'mbpol/nose_128_10.traj']\n",
    "\n",
    "limits = ['2000:8000:2']* len(paths)\n",
    "v_corr_dict = {}\n",
    "\n",
    "for path, lim in zip(paths, limits):\n",
    "    trajectories = read(basepath + path, lim)\n",
    "    name = path.split('/')[-2]\n",
    "    dt = np.arange(1,200,1).astype(int)\n",
    "    v_corr_dict[name] = view.map_sync(get_t_corr, dt, [path]*len(dt), [lim]*len(dt))\n",
    "\n",
    "# plot(v_corr)"
   ]
  },
  {
   "cell_type": "code",
   "execution_count": 119,
   "metadata": {},
   "outputs": [
    {
     "data": {
      "image/png": "[encoded data removed]",
      "text/plain": [
       "<matplotlib.figure.Figure at 0x2aaaefb980b8>"
      ]
     },
     "metadata": {},
     "output_type": "display_data"
    }
   ],
   "source": [
    "skip = ['md_siesta_uftodz_10', 'mbpol']\n",
    "# skip = ['mbpol']\n",
    "labels = ['n = 1' , 'n = 5', 'n = 8', 'n = 10', 'n = inf']\n",
    "styles = ['-','--','-.',':',':']\n",
    "for key, name, style in zip(v_corr_dict,labels, styles):\n",
    "    if key in skip: continue\n",
    "#     sum_ = np.sum(v_corr_dict[key])/(fs**2)/1000\n",
    "    plot(v_corr_dict[key], label = name, ls = style )\n",
    "ylabel('$vacf$')\n",
    "xlabel('$dt [fs]$')\n",
    "legend()\n",
    "savefig('../figs/vacf_uftodz.eps', bbox_inches = 'tight')\n",
    "savefig('../figs/vacf_uftodz.pdf', bbox_inches = 'tight')"
   ]
  },
  {
   "cell_type": "code",
   "execution_count": 83,
   "metadata": {},
   "outputs": [],
   "source": [
    "from ase.units import fs, Ang"
   ]
  },
  {
   "cell_type": "code",
   "execution_count": 80,
   "metadata": {},
   "outputs": [
    {
     "data": {
      "text/plain": [
       "0.09822694788464063"
      ]
     },
     "execution_count": 80,
     "metadata": {},
     "output_type": "execute_result"
    }
   ],
   "source": [
    "fs"
   ]
  },
  {
   "cell_type": "code",
   "execution_count": 84,
   "metadata": {},
   "outputs": [
    {
     "data": {
      "text/plain": [
       "1.0"
      ]
     },
     "execution_count": 84,
     "metadata": {},
     "output_type": "execute_result"
    }
   ],
   "source": [
    "Ang"
   ]
  },
  {
   "cell_type": "code",
   "execution_count": null,
   "metadata": {},
   "outputs": [],
   "source": []
  }
 ],
 "metadata": {
  "kernelspec": {
   "display_name": "Python 3",
   "language": "python",
   "name": "python3"
  },
  "language_info": {
   "codemirror_mode": {
    "name": "ipython",
    "version": 3
   },
   "file_extension": ".py",
   "mimetype": "text/x-python",
   "name": "python",
   "nbconvert_exporter": "python",
   "pygments_lexer": "ipython3",
   "version": "3.6.4"
  }
 },
 "nbformat": 4,
 "nbformat_minor": 2
}
