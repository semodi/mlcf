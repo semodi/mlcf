{
 "cells": [
  {
   "cell_type": "code",
   "execution_count": 1,
   "metadata": {},
   "outputs": [
    {
     "name": "stdout",
     "output_type": "stream",
     "text": [
      "Populating the interactive namespace from numpy and matplotlib\n"
     ]
    }
   ],
   "source": [
    "import pandas as pd\n",
    "import numpy as np\n",
    "import os\n",
    "import ase.io as io \n",
    "%pylab inline"
   ]
  },
  {
   "cell_type": "code",
   "execution_count": 5,
   "metadata": {},
   "outputs": [
    {
     "ename": "IndentationError",
     "evalue": "expected an indented block (<ipython-input-5-a1f4f2020af1>, line 8)",
     "output_type": "error",
     "traceback": [
      "\u001b[0;36m  File \u001b[0;32m\"<ipython-input-5-a1f4f2020af1>\"\u001b[0;36m, line \u001b[0;32m8\u001b[0m\n\u001b[0;31m    if 'log' in f and 'verlet' in f:\u001b[0m\n\u001b[0m     ^\u001b[0m\n\u001b[0;31mIndentationError\u001b[0m\u001b[0;31m:\u001b[0m expected an indented block\n"
     ]
    }
   ],
   "source": [
    "\n",
    "dfs = {}\n",
    "types = []\n",
    "indir = '/gpfs/home/smdick/smdick/mbpol/'\n",
    "for root, dirs, filenames in os.walk(indir):\n",
    "    for f in filenames:\n",
    "        if 'log' in f and 'verlet' in f and 'keepv' in f:\n",
    "        if 'log' in f and 'verlet' in f:\n",
    "        if 'log' in f:\n",
    "             dfs[f] = pd.read_table('{}/{}'.format(root,f), delim_whitespace=True, index_col = 0)\n"
   ]
  },
  {
   "cell_type": "code",
   "execution_count": 3,
   "metadata": {},
   "outputs": [
    {
     "data": {
      "text/plain": [
       "array(['/gpfs/home/smdick/smdick/mbpol/md_siesta/siestaBASIS_ENTHALPY',\n",
       "       '/gpfs/home/smdick/smdick/mbpol/md_siesta/siestaBASIS_HARRIS_ENTHALPY',\n",
       "       '/gpfs/home/smdick/smdick/mbpol/md_siesta/siestaCLOCK', ...,\n",
       "       'times', 'traj', 'xml'], dtype='<U77')"
      ]
     },
     "execution_count": 3,
     "metadata": {},
     "output_type": "execute_result"
    }
   ],
   "source": [
    "np.unique(types)"
   ]
  },
  {
   "cell_type": "code",
   "execution_count": 4,
   "metadata": {},
   "outputs": [],
   "source": [
    "for key in dfs:\n",
    "    figure()\n",
    "    dfs[key].plot(ls ='-', marker= '.')\n",
    "    tmax = dfs[key].index[-1]\n",
    "    dt = float(key.split(sep='_')[1]) * float(key.split(sep='_')[2])/1e6\n",
    "    maxsteps = tmax / dt\n",
    "    n_steps = len(dfs[key].index)\n",
    "    print(\"{} ::  {}\".format(n_steps,n_steps/maxsteps))\n",
    "    title(key)"
   ]
  },
  {
   "cell_type": "code",
   "execution_count": null,
   "metadata": {},
   "outputs": [],
   "source": []
  },
  {
   "cell_type": "code",
   "execution_count": 6,
   "metadata": {
    "collapsed": true
   },
   "outputs": [],
   "source": [
    "from ase import Atoms"
   ]
  },
  {
   "cell_type": "code",
   "execution_count": 29,
   "metadata": {
    "collapsed": true
   },
   "outputs": [],
   "source": [
    "atoms = []\n",
    "for atom in io.iread('/gpfs/home/smdick/md_routines/verlet_mc_results/verlet300_1000_5_1000_all.traj'):\n",
    "    \n",
    "    h2o = Atoms('128OHH',\n",
    "            positions = atom.get_positions(),\n",
    "            pbc = True)\n",
    "\n",
    "    atoms.append(h2o)\n",
    "    \n",
    "io.write('/gpfs/home/smdick/md_routines/verlet_mc_results/verlet300_1000_5_1000_all.xyz', atoms)"
   ]
  },
  {
   "cell_type": "code",
   "execution_count": 3,
   "metadata": {
    "collapsed": true
   },
   "outputs": [],
   "source": [
    "atoms = io.read('/gpfs/home/smdick/smdick/mbpol/nose_128_10.traj', -1)"
   ]
  },
  {
   "cell_type": "code",
   "execution_count": 5,
   "metadata": {},
   "outputs": [
    {
     "data": {
      "text/plain": [
       "array([ True,  True,  True], dtype=bool)"
      ]
     },
     "execution_count": 5,
     "metadata": {},
     "output_type": "execute_result"
    }
   ],
   "source": [
    "atoms.get_pbc()"
   ]
  },
  {
   "cell_type": "code",
   "execution_count": null,
   "metadata": {
    "collapsed": true
   },
   "outputs": [],
   "source": []
  }
 ],
 "metadata": {
  "kernelspec": {
   "display_name": "Python 3",
   "language": "python",
   "name": "python3"
  },
  "language_info": {
   "codemirror_mode": {
    "name": "ipython",
    "version": 3
   },
   "file_extension": ".py",
   "mimetype": "text/x-python",
   "name": "python",
   "nbconvert_exporter": "python",
   "pygments_lexer": "ipython3",
   "version": "3.6.4"
  }
 },
 "nbformat": 4,
 "nbformat_minor": 2
}
