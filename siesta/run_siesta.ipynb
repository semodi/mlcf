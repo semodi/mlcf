{
 "cells": [
  {
   "cell_type": "code",
   "execution_count": 6,
   "metadata": {},
   "outputs": [
    {
     "name": "stderr",
     "output_type": "stream",
     "text": [
      "/home/sebastian/miniconda3/lib/python3.6/site-packages/ase/calculators/siesta/base_siesta.py:731: UserWarning: H2O.HSX does not exist =>\n",
      "                                     sieta.results[\"hsx\"]=None\n",
      "  UserWarning)\n",
      "/home/sebastian/miniconda3/lib/python3.6/site-packages/ase/calculators/siesta/base_siesta.py:751: UserWarning: H2O.DIMdoes not exist =>\n",
      "                                     sieta.results[\"dim\"]=None\n",
      "  UserWarning)\n",
      "/home/sebastian/miniconda3/lib/python3.6/site-packages/ase/calculators/siesta/base_siesta.py:794: UserWarning: H2O.WFSX or H2O.fullBZ.WFSX does not exist =>\n",
      "                                     sieta.results[\"wfsx\"]=None\n",
      "  UserWarning)\n"
     ]
    }
   ],
   "source": [
    "from ase import Atoms\n",
    "from ase.calculators.siesta import Siesta\n",
    "from ase.calculators.siesta.parameters import Species, PAOBasisBlock\n",
    "from ase.units import Ry\n",
    "\n",
    "a = 20 \n",
    "\n",
    "# =======  QZDP - 8.5 =========\n",
    "\n",
    "o_basis = \"\"\" 3\n",
    "n=2 0 4 E 50. 7.5\n",
    "    8.0 5.0 3.5 2.0\n",
    "n=2 1 4 E 10. 8.3\n",
    "    8.5 5.0 3.5 2.0\n",
    "n=3 2 2 E 40. 8.3 Q 6.\n",
    "    8.5 2.2\"\"\"\n",
    "\n",
    "h_basis = \"\"\" 2\n",
    "n=1 0 4 E 50. 8.3\n",
    "    8.5 5.0 3.5 2.0\n",
    "n=2 1 2 E 20. 7.8 Q 3.5\n",
    "    8.0 2.0\"\"\"\n",
    "\n",
    "species_o = Species(symbol= 'O', basis_set= PAOBasisBlock(o_basis))\n",
    "species_h = Species(symbol= 'H', basis_set= PAOBasisBlock(h_basis))\n",
    "\n",
    "\n",
    "h2o = Atoms('OHH',\n",
    "            positions = [[0,0,0],[0.757,0.586,0],[-0.757, 0.586,0]],\n",
    "            cell = [a, a, a],\n",
    "            pbc = True)\n",
    "\n",
    "calc = Siesta(label='H2O',\n",
    "               xc='PBE',\n",
    "               mesh_cutoff=300 * Ry,\n",
    "               species=[species_o, species_h],\n",
    "               fdf_arguments={'DM.MixingWeight': 0.3,\n",
    "                              'MaxSCFIterations': 100,\n",
    "                              'DM.NumberPulay': 3,\n",
    "                              'DM.Tolerance': 5e-5})\n",
    "h2o.set_calculator(calc)\n",
    "e = h2o.get_potential_energy()\n"
   ]
  },
  {
   "cell_type": "code",
   "execution_count": 7,
   "metadata": {},
   "outputs": [
    {
     "data": {
      "text/plain": [
       "-470.188095"
      ]
     },
     "execution_count": 7,
     "metadata": {},
     "output_type": "execute_result"
    }
   ],
   "source": [
    "e"
   ]
  },
  {
   "cell_type": "code",
   "execution_count": null,
   "metadata": {},
   "outputs": [],
   "source": []
  }
 ],
 "metadata": {
  "kernelspec": {
   "display_name": "Python 3",
   "language": "python",
   "name": "python3"
  },
  "language_info": {
   "codemirror_mode": {
    "name": "ipython",
    "version": 3
   },
   "file_extension": ".py",
   "mimetype": "text/x-python",
   "name": "python",
   "nbconvert_exporter": "python",
   "pygments_lexer": "ipython3",
   "version": "3.6.4"
  }
 },
 "nbformat": 4,
 "nbformat_minor": 2
}
