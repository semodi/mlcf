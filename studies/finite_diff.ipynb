{
 "cells": [
  {
   "cell_type": "code",
   "execution_count": 1,
   "metadata": {},
   "outputs": [
    {
     "name": "stdout",
     "output_type": "stream",
     "text": [
      "Populating the interactive namespace from numpy and matplotlib\n"
     ]
    },
    {
     "name": "stderr",
     "output_type": "stream",
     "text": [
      "Using TensorFlow backend.\n"
     ]
    }
   ],
   "source": [
    "import mlc_func as mlcf\n",
    "import numpy as np\n",
    "import pandas as pd\n",
    "%pylab inline"
   ]
  },
  {
   "cell_type": "code",
   "execution_count": 2,
   "metadata": {},
   "outputs": [],
   "source": [
    "elfs = {}"
   ]
  },
  {
   "cell_type": "code",
   "execution_count": 22,
   "metadata": {},
   "outputs": [
    {
     "name": "stdout",
     "output_type": "stream",
     "text": [
      "{'r_o_o': 1.0, 'r_i_o': 0.0, 'r_i_h': 0.0, 'r_o_h': 1.5, 'n_rad_o': 2, 'n_rad_h': 2, 'n_l_o': 3, 'n_l_h': 2, 'gamma_o': 0, 'gamma_h': 0, 'alignment': 'nn'}\n",
      "{'r_o_o': 1.0, 'r_i_o': 0.0, 'r_i_h': 0.0, 'r_o_h': 1.5, 'n_rad_o': 2, 'n_rad_h': 2, 'n_l_o': 3, 'n_l_h': 2, 'gamma_o': 0, 'gamma_h': 0, 'alignment': 'nn'}\n",
      "{'r_o_o': 1.0, 'r_i_o': 0.0, 'r_i_h': 0.0, 'r_o_h': 1.5, 'n_rad_o': 2, 'n_rad_h': 2, 'n_l_o': 3, 'n_l_h': 2, 'gamma_o': 0, 'gamma_h': 0, 'alignment': 'nn'}\n",
      "{'r_o_o': 1.0, 'r_i_o': 0.0, 'r_i_h': 0.0, 'r_o_h': 1.5, 'n_rad_o': 2, 'n_rad_h': 2, 'n_l_o': 3, 'n_l_h': 2, 'gamma_o': 0, 'gamma_h': 0, 'alignment': 'nn'}\n"
     ]
    }
   ],
   "source": [
    "for direction in ['000','100', '010','001']:\n",
    "    elfs[direction] = mlcf.elf.utils.hdf5_to_elfs_fast(\\\n",
    "                        '../data/revPBE/dz_custom/basis_nocore_nn.json_processed/{}_processed.hdf5'.format(direction),\n",
    "                                                 species_filter = 'o')[0]['o']"
   ]
  },
  {
   "cell_type": "code",
   "execution_count": 23,
   "metadata": {},
   "outputs": [
    {
     "data": {
      "text/plain": [
       "array([[[-0.05451014, -0.27877243, -0.01538428, ..., -0.00523356,\n",
       "          0.00413756,  0.0220641 ]],\n",
       "\n",
       "       [[ 0.35252446,  0.04907712, -0.01816291, ..., -0.00437796,\n",
       "          0.00177742, -0.07795536]],\n",
       "\n",
       "       [[ 0.35252446,  0.04907712, -0.01816291, ..., -0.00437796,\n",
       "          0.00177742, -0.07795536]],\n",
       "\n",
       "       ...,\n",
       "\n",
       "       [[-0.29241402,  0.14679352,  0.00219176, ...,  0.01044955,\n",
       "         -0.00068411,  0.04713842]],\n",
       "\n",
       "       [[ 0.14423367,  0.1721863 ,  0.02036366, ...,  0.00870881,\n",
       "          0.01922049, -0.02745708]],\n",
       "\n",
       "       [[ 0.11728004,  0.38491384,  0.00186038, ..., -0.00579051,\n",
       "          0.00780922, -0.03291183]]])"
      ]
     },
     "execution_count": 23,
     "metadata": {},
     "output_type": "execute_result"
    }
   ],
   "source": [
    "elfs['100'] - elfs['000'] "
   ]
  },
  {
   "cell_type": "code",
   "execution_count": 24,
   "metadata": {},
   "outputs": [
    {
     "data": {
      "text/plain": [
       "array([[[ 2.37534013e+02,  9.06272124e+00, -7.35586895e-01, ...,\n",
       "          8.03039960e+00, -1.48905968e-01, -1.01906499e+00]],\n",
       "\n",
       "       [[ 2.37959573e+02,  9.04938587e+00,  3.15549670e-01, ...,\n",
       "          7.75653402e+00,  1.54383451e-01, -2.29551346e+00]],\n",
       "\n",
       "       [[ 2.37959573e+02,  9.04938587e+00,  3.15549670e-01, ...,\n",
       "          7.75653402e+00,  1.54383451e-01, -2.29551346e+00]],\n",
       "\n",
       "       ...,\n",
       "\n",
       "       [[ 2.36835149e+02,  8.84947103e+00, -2.94054180e-01, ...,\n",
       "          8.46091377e+00, -3.21357330e-02, -1.38194961e+00]],\n",
       "\n",
       "       [[ 2.36243741e+02,  8.38483975e+00, -4.92256603e-01, ...,\n",
       "          7.40919811e+00,  2.36499831e-02, -2.03786916e-02]],\n",
       "\n",
       "       [[ 2.37594629e+02,  1.05548691e+01, -3.19553353e-02, ...,\n",
       "          9.12577717e+00, -5.35471938e-02, -2.80257647e-01]]])"
      ]
     },
     "execution_count": 24,
     "metadata": {},
     "output_type": "execute_result"
    }
   ],
   "source": [
    "elfs['000']"
   ]
  },
  {
   "cell_type": "code",
   "execution_count": null,
   "metadata": {},
   "outputs": [],
   "source": []
  }
 ],
 "metadata": {
  "kernelspec": {
   "display_name": "Python 3",
   "language": "python",
   "name": "python3"
  },
  "language_info": {
   "codemirror_mode": {
    "name": "ipython",
    "version": 3
   },
   "file_extension": ".py",
   "mimetype": "text/x-python",
   "name": "python",
   "nbconvert_exporter": "python",
   "pygments_lexer": "ipython3",
   "version": "3.6.6"
  }
 },
 "nbformat": 4,
 "nbformat_minor": 2
}
