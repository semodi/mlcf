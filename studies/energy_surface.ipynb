{
 "cells": [
  {
   "cell_type": "code",
   "execution_count": 1,
   "metadata": {},
   "outputs": [
    {
     "name": "stdout",
     "output_type": "stream",
     "text": [
      "Populating the interactive namespace from numpy and matplotlib\n"
     ]
    }
   ],
   "source": [
    "from ase.io import read, write\n",
    "from ase import Atoms\n",
    "from ase.visualize import view\n",
    "import numpy as np\n",
    "from mbpol_calculator import MbpolCalculator\n",
    "import pandas as pd\n",
    "from scipy import optimize\n",
    "%pylab inline"
   ]
  },
  {
   "cell_type": "code",
   "execution_count": 2,
   "metadata": {},
   "outputs": [],
   "source": [
    "atoms = read('hbond_start.traj','0')\n",
    "\n",
    "pos = atoms.get_positions().round(3)\n",
    "\n",
    "O = pos[3]\n",
    "\n",
    "phi = - 109.47 /180 * np.pi / 2\n",
    "R = np.array([[np.cos(phi),0,np.sin(phi)],\n",
    "              [0,1,0],\n",
    "              [-np.sin(phi),0,np.cos(phi)]])\n",
    "pos[3:] = R.dot((pos[3:]-O).T).T + O\n",
    "\n",
    "atoms.set_positions(pos)"
   ]
  },
  {
   "cell_type": "code",
   "execution_count": 3,
   "metadata": {},
   "outputs": [],
   "source": [
    "oo = np.arange(2.75, 3.18, 0.03)\n",
    "oh = np.arange(0.93,1.00, 0.004)\n",
    "OO, OH = np.meshgrid(oo,oh)"
   ]
  },
  {
   "cell_type": "code",
   "execution_count": 4,
   "metadata": {},
   "outputs": [],
   "source": [
    "mesh = []\n",
    "for oo, oh in zip(OO.flatten(), OH.flatten()):\n",
    "    new_atoms = Atoms(atoms)\n",
    "    positions = new_atoms.get_positions()\n",
    "    positions[1] = [0,0,oh]\n",
    "    positions[3:,2] = [oo,oo + 0.583, oo + 0.583]\n",
    "    new_atoms.set_positions(positions)\n",
    "    mesh.append(new_atoms)"
   ]
  },
  {
   "cell_type": "code",
   "execution_count": 5,
   "metadata": {},
   "outputs": [],
   "source": [
    "# pos = []\n",
    "# for m in mesh:\n",
    "#     pos.append(m.get_positions())\n",
    "\n",
    "# pd.DataFrame(np.array(pos).reshape(-1,3)).to_csv('./energy_surface.csv', index = None, header = None)"
   ]
  },
  {
   "cell_type": "code",
   "execution_count": 6,
   "metadata": {},
   "outputs": [],
   "source": [
    "energies = []\n",
    "for m in mesh:\n",
    "    energy = MbpolCalculator(m).get_potential_energy(m)\n",
    "    energies.append(energy)"
   ]
  },
  {
   "cell_type": "code",
   "execution_count": 7,
   "metadata": {},
   "outputs": [],
   "source": [
    "view(mesh)"
   ]
  },
  {
   "cell_type": "code",
   "execution_count": 8,
   "metadata": {},
   "outputs": [
    {
     "data": {
      "text/plain": [
       "<matplotlib.image.AxesImage at 0x7f594f81b2b0>"
      ]
     },
     "execution_count": 8,
     "metadata": {},
     "output_type": "execute_result"
    },
    {
     "data": {
      "image/png": "[encoded data removed]",
      "text/plain": [
       "<Figure size 432x288 with 1 Axes>"
      ]
     },
     "metadata": {},
     "output_type": "display_data"
    }
   ],
   "source": [
    "imshow(np.array(energies).reshape(OO.shape), origin='left', cmap='jet')"
   ]
  },
  {
   "cell_type": "code",
   "execution_count": 9,
   "metadata": {},
   "outputs": [],
   "source": [
    "energies = np.array(energies).reshape(OO.shape)"
   ]
  },
  {
   "cell_type": "code",
   "execution_count": 10,
   "metadata": {},
   "outputs": [],
   "source": [
    "def parabola(a, b, c, d, x0, y0):\n",
    "    \"\"\"Returns a gaussian function with the given parameters\"\"\"\n",
    "    a = float(a)\n",
    "    b = float(b)\n",
    "    c = float(c)\n",
    "    x0 = float(x0)\n",
    "    y0 = float(y0)\n",
    "    return lambda x,y: a*(x-x0)**2 + b*(y-y0)**2+ d*(x-x0)*(y-y0) + c\n",
    "#     return lambda x,y: a*(x-x0)**2 + b*(y-y0)**2 + c\n",
    "\n",
    "def fitparabola(data, params):\n",
    "    \"\"\"Returns (height, x, y, width_x, width_y)\n",
    "    the gaussian parameters of a 2D distribution found by a fit\"\"\"\n",
    "    \n",
    "    errorfunction = lambda p: np.ravel(parabola(*p)(*np.indices(data.shape)) -\n",
    "                                 data)\n",
    "    p, success = optimize.leastsq(errorfunction, params)\n",
    "    return p"
   ]
  },
  {
   "cell_type": "code",
   "execution_count": 16,
   "metadata": {},
   "outputs": [
    {
     "data": {
      "image/png": "[encoded data removed]",
      "text/plain": [
       "<Figure size 1080x432 with 2 Axes>"
      ]
     },
     "metadata": {},
     "output_type": "display_data"
    }
   ],
   "source": [
    "oo = np.arange(2.75, 3.18, 0.03)\n",
    "oh = np.arange(0.93,1.00, 0.004)\n",
    "\n",
    "params = 0,0,0,0, 0,0\n",
    "params = fitparabola(energies, params)\n",
    "\n",
    "figsize(15,6)\n",
    "energies_fitted = parabola(*params)(*np.indices(energies.shape))\n",
    "subplot(1,3,1)\n",
    "imshow(energies_fitted)\n",
    "xlabel('OO')\n",
    "ylabel('OH')\n",
    "# xticks(list(range(len(oo))[::2]),oo.round(2)[::2])\n",
    "# yticks(list(range(len(oh))[1::2]),oh.round(2)[1::2])\n",
    "subplot(1,3,2)\n",
    "imshow(energies)\n",
    "xlabel('OO')\n",
    "# ylabel('OH')\n",
    "# xticks(list(range(len(oo))[::2]),oo.round(2)[::2])\n",
    "# yticks([])\n",
    "# subplot(1,3,3)\n",
    "# imshow(energies - energies_fitted)\n",
    "\n",
    "# colorbar()\n",
    "params/[0.004**2,0.03**2,1,0.03*0.004,1/0.004,1/0.03] + [0,0,0,0,0.93,2.75]\n",
    "savefig('energy_surface.pdf')\n",
    "# params"
   ]
  },
  {
   "cell_type": "code",
   "execution_count": 12,
   "metadata": {},
   "outputs": [],
   "source": [
    "energies_pbe = np.genfromtxt('./e_surface_data/energies_siesta.dat').reshape(OO.shape)"
   ]
  },
  {
   "cell_type": "code",
   "execution_count": 13,
   "metadata": {},
   "outputs": [
    {
     "data": {
      "text/plain": [
       "array([ 2.60903298e+01,  4.51660194e-01, -9.39469194e+02,  1.06307019e-01,\n",
       "        9.77362299e-01,  2.93189954e+00])"
      ]
     },
     "execution_count": 13,
     "metadata": {},
     "output_type": "execute_result"
    },
    {
     "data": {
      "image/png": "[encoded data removed]",
      "text/plain": [
       "<Figure size 864x432 with 2 Axes>"
      ]
     },
     "metadata": {},
     "output_type": "display_data"
    }
   ],
   "source": [
    "\n",
    "params =0,0,0,0,0,0\n",
    "params = fitparabola(energies_pbe, params)\n",
    "\n",
    "figsize(12,6)\n",
    "energies_fitted = parabola(*params)(*np.indices(energies.shape))\n",
    "subplot(1,2,1)\n",
    "imshow(energies_fitted)\n",
    "xlabel('OO')\n",
    "ylabel('OH')\n",
    "xticks(list(range(len(oo))[::2]),oo.round(2)[::2])\n",
    "yticks(list(range(len(oh))[1::2]),oh.round(2)[1::2])\n",
    "\n",
    "subplot(1,2,2)\n",
    "\n",
    "xlabel('OO')\n",
    "xticks(list(range(len(oo))[::2]),oo.round(2)[::2])\n",
    "yticks([])\n",
    "imshow(energies_pbe)\n",
    "\n",
    "# subplot(1,3,3)\n",
    "# imshow(energies_pbe-energies_fitted)\n",
    "# colorbar()\n",
    "# params\n",
    "params/[0.004**2,0.03**2,1,0.03*0.004,1/0.004,1/0.03] + [0,0,0,0,0.93,2.75]"
   ]
  },
  {
   "cell_type": "code",
   "execution_count": null,
   "metadata": {},
   "outputs": [],
   "source": []
  },
  {
   "cell_type": "code",
   "execution_count": null,
   "metadata": {},
   "outputs": [],
   "source": []
  }
 ],
 "metadata": {
  "kernelspec": {
   "display_name": "Python 3",
   "language": "python",
   "name": "python3"
  },
  "language_info": {
   "codemirror_mode": {
    "name": "ipython",
    "version": 3
   },
   "file_extension": ".py",
   "mimetype": "text/x-python",
   "name": "python",
   "nbconvert_exporter": "python",
   "pygments_lexer": "ipython3",
   "version": "3.6.5"
  }
 },
 "nbformat": 4,
 "nbformat_minor": 2
}
