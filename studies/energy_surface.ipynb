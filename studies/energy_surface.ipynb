{
 "cells": [
  {
   "cell_type": "code",
   "execution_count": 290,
   "metadata": {},
   "outputs": [
    {
     "name": "stdout",
     "output_type": "stream",
     "text": [
      "Populating the interactive namespace from numpy and matplotlib\n"
     ]
    }
   ],
   "source": [
    "from ase.io import read, write\n",
    "from ase import Atoms\n",
    "from ase.visualize import view\n",
    "import numpy as np\n",
    "from mbpol_calculator import MbpolCalculator\n",
    "import pandas as pd\n",
    "from scipy import optimize\n",
    "%pylab inline"
   ]
  },
  {
   "cell_type": "code",
   "execution_count": 73,
   "metadata": {},
   "outputs": [],
   "source": [
    "atoms = read('hbond_start.traj','0')"
   ]
  },
  {
   "cell_type": "code",
   "execution_count": 268,
   "metadata": {},
   "outputs": [],
   "source": [
    "oo = np.arange(2.75, 3.18, 0.03)\n",
    "oh = np.arange(0.93,1.00, 0.004)\n",
    "OO, OH = np.meshgrid(oo,oh)"
   ]
  },
  {
   "cell_type": "code",
   "execution_count": 271,
   "metadata": {},
   "outputs": [],
   "source": [
    "mesh = []\n",
    "for oo, oh in zip(OO.flatten(), OH.flatten()):\n",
    "    new_atoms = Atoms(atoms)\n",
    "    positions = new_atoms.get_positions()\n",
    "    positions[1] = [0,0,oh]\n",
    "    positions[3:,2] = [oo,oo + 0.583, oo + 0.583]\n",
    "    new_atoms.set_positions(positions)\n",
    "    mesh.append(new_atoms)"
   ]
  },
  {
   "cell_type": "code",
   "execution_count": 272,
   "metadata": {},
   "outputs": [],
   "source": [
    "energies = []\n",
    "for m in mesh:\n",
    "    energy = MbpolCalculator(m).get_potential_energy(m)\n",
    "    energies.append(energy)"
   ]
  },
  {
   "cell_type": "code",
   "execution_count": 277,
   "metadata": {},
   "outputs": [
    {
     "data": {
      "text/plain": [
       "<matplotlib.image.AxesImage at 0x7f0d80b905c0>"
      ]
     },
     "execution_count": 277,
     "metadata": {},
     "output_type": "execute_result"
    },
    {
     "data": {
      "image/png": "[encoded data removed]",
      "text/plain": [
       "<Figure size 432x288 with 1 Axes>"
      ]
     },
     "metadata": {},
     "output_type": "display_data"
    }
   ],
   "source": [
    "imshow(np.array(energies).reshape(OO.shape), origin='left', cmap='jet')"
   ]
  },
  {
   "cell_type": "code",
   "execution_count": 285,
   "metadata": {},
   "outputs": [],
   "source": [
    "energies = np.array(energies).reshape(OO.shape)"
   ]
  },
  {
   "cell_type": "code",
   "execution_count": 323,
   "metadata": {},
   "outputs": [],
   "source": [
    "def parabola(a, b, c, d, x0, y0):\n",
    "    \"\"\"Returns a gaussian function with the given parameters\"\"\"\n",
    "    a = float(a)\n",
    "    b = float(b)\n",
    "    c = float(c)\n",
    "    x0 = float(x0)\n",
    "    y0 = float(y0)\n",
    "    return lambda x,y: a*(x-x0)**2 + b*(y-y0)**2+ d*(x-x0)*(y-y0) + c\n",
    "\n",
    "def fitparabola(data, params):\n",
    "    \"\"\"Returns (height, x, y, width_x, width_y)\n",
    "    the gaussian parameters of a 2D distribution found by a fit\"\"\"\n",
    "    \n",
    "    errorfunction = lambda p: np.ravel(parabola(*p)(*np.indices(data.shape)) -\n",
    "                                 data)\n",
    "    p, success = optimize.leastsq(errorfunction, params)\n",
    "    return p"
   ]
  },
  {
   "cell_type": "code",
   "execution_count": 353,
   "metadata": {},
   "outputs": [
    {
     "data": {
      "text/plain": [
       "15"
      ]
     },
     "execution_count": 353,
     "metadata": {},
     "output_type": "execute_result"
    }
   ],
   "source": [
    "len(oo)"
   ]
  },
  {
   "cell_type": "code",
   "execution_count": 354,
   "metadata": {},
   "outputs": [
    {
     "data": {
      "text/plain": [
       "18"
      ]
     },
     "execution_count": 354,
     "metadata": {},
     "output_type": "execute_result"
    }
   ],
   "source": [
    "len(oh)"
   ]
  },
  {
   "cell_type": "code",
   "execution_count": 394,
   "metadata": {},
   "outputs": [
    {
     "data": {
      "text/plain": [
       "array([ 0.44665853, 24.26795499, -0.17631686, -0.12861184,  3.0029878 ,\n",
       "        0.95733612])"
      ]
     },
     "execution_count": 394,
     "metadata": {},
     "output_type": "execute_result"
    },
    {
     "data": {
      "image/png": "[encoded data removed]",
      "text/plain": [
       "<Figure size 1080x432 with 2 Axes>"
      ]
     },
     "metadata": {},
     "output_type": "display_data"
    }
   ],
   "source": [
    "oo = np.arange(2.75, 3.18, 0.03)\n",
    "oh = np.arange(0.93,1.00, 0.004)\n",
    "\n",
    "params = 2,0.2,0,0.001, 7,9\n",
    "params = fitparabola(energies, params)\n",
    "\n",
    "figsize(15,6)\n",
    "energies_fitted = parabola(*params)(*np.indices(energies.shape))\n",
    "subplot(1,3,1)\n",
    "imshow(energies_fitted)\n",
    "xlabel('OO')\n",
    "ylabel('OH')\n",
    "xticks(list(range(len(oo))[::2]),oo.round(2)[::2])\n",
    "yticks(list(range(len(oh))[1::2]),oh.round(2)[1::2])\n",
    "subplot(1,3,2)\n",
    "imshow(energies)\n",
    "xlabel('OO')\n",
    "# ylabel('OH')\n",
    "xticks(list(range(len(oo))[::2]),oo.round(2)[::2])\n",
    "yticks([])\n",
    "# subplot(1,3,3)\n",
    "# imshow(energies - energies_fitted)\n",
    "\n",
    "# colorbar()\n",
    "params/[0.03**2,0.004**2,1,0.03*0.004,1/0.03,1/0.004] + [0,0,0,0,2.75,0.93]\n",
    "# params"
   ]
  },
  {
   "cell_type": "code",
   "execution_count": 388,
   "metadata": {},
   "outputs": [],
   "source": [
    "energies_pbe = np.genfromtxt('./e_surface_data/energies_siesta.dat').reshape(OO.shape)"
   ]
  },
  {
   "cell_type": "code",
   "execution_count": 395,
   "metadata": {},
   "outputs": [
    {
     "data": {
      "text/plain": [
       "array([ 4.65295910e-01,  2.54562932e+01, -9.40026009e+02,  3.75350605e-02,\n",
       "        3.10003232e+00,  9.55233384e-01])"
      ]
     },
     "execution_count": 395,
     "metadata": {},
     "output_type": "execute_result"
    },
    {
     "data": {
      "image/png": "[encoded data removed]",
      "text/plain": [
       "<Figure size 864x432 with 2 Axes>"
      ]
     },
     "metadata": {},
     "output_type": "display_data"
    }
   ],
   "source": [
    "\n",
    "params =0,0,0,0,0,0\n",
    "params = fitparabola(energies_pbe, params)\n",
    "\n",
    "figsize(12,6)\n",
    "energies_fitted = parabola(*params)(*np.indices(energies.shape))\n",
    "subplot(1,2,1)\n",
    "imshow(energies_fitted)\n",
    "xlabel('OO')\n",
    "ylabel('OH')\n",
    "xticks(list(range(len(oo))[::2]),oo.round(2)[::2])\n",
    "yticks(list(range(len(oh))[1::2]),oh.round(2)[1::2])\n",
    "\n",
    "subplot(1,2,2)\n",
    "\n",
    "xlabel('OO')\n",
    "xticks(list(range(len(oo))[::2]),oo.round(2)[::2])\n",
    "yticks([])\n",
    "imshow(energies_pbe)\n",
    "\n",
    "# subplot(1,3,3)\n",
    "# imshow(energies_pbe-energies_fitted)\n",
    "# colorbar()\n",
    "params\n",
    "params/[0.03**2,0.004**2,1,0.03*0.004,1/0.03,1/0.004] + [0,0,0,0,2.75,0.93]"
   ]
  },
  {
   "cell_type": "code",
   "execution_count": null,
   "metadata": {},
   "outputs": [],
   "source": []
  },
  {
   "cell_type": "code",
   "execution_count": null,
   "metadata": {},
   "outputs": [],
   "source": []
  }
 ],
 "metadata": {
  "kernelspec": {
   "display_name": "Python 3",
   "language": "python",
   "name": "python3"
  },
  "language_info": {
   "codemirror_mode": {
    "name": "ipython",
    "version": 3
   },
   "file_extension": ".py",
   "mimetype": "text/x-python",
   "name": "python",
   "nbconvert_exporter": "python",
   "pygments_lexer": "ipython3",
   "version": "3.6.5"
  }
 },
 "nbformat": 4,
 "nbformat_minor": 2
}
