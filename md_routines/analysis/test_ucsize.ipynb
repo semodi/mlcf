{
 "cells": [
  {
   "cell_type": "code",
   "execution_count": 1,
   "metadata": {},
   "outputs": [
    {
     "name": "stdout",
     "output_type": "stream",
     "text": [
      "Populating the interactive namespace from numpy and matplotlib\n"
     ]
    }
   ],
   "source": [
    "import numpy as np \n",
    "%pylab inline\n"
   ]
  },
  {
   "cell_type": "code",
   "execution_count": 2,
   "metadata": {},
   "outputs": [],
   "source": [
    "feat = {}\n",
    "coords = {}\n",
    "forces = {}\n",
    "for uc in ['15','20']:\n",
    "    feat[uc] = np.genfromtxt('/gpfs/scratch/smdick/MD/unitcell_test/{}/siesta/features.dat'.format(uc))\n",
    "    coords[uc] = np.genfromtxt('/gpfs/scratch/smdick/MD/unitcell_test/{}/siesta/coords.dat'.format(uc)).reshape(-1,2,3,3)\n",
    "    forces[uc] = np.genfromtxt('/gpfs/scratch/smdick/MD/unitcell_test/{}/siesta/forces_corrected.dat'.format(uc)).reshape(-1,2,3,3)"
   ]
  },
  {
   "cell_type": "code",
   "execution_count": 3,
   "metadata": {},
   "outputs": [
    {
     "data": {
      "text/plain": [
       "True"
      ]
     },
     "execution_count": 3,
     "metadata": {},
     "output_type": "execute_result"
    }
   ],
   "source": [
    "minlength = min([len(c) for c in coords.items()])\n",
    "np.allclose(coords['15'][:minlength], coords['20'][:minlength])"
   ]
  },
  {
   "cell_type": "code",
   "execution_count": 7,
   "metadata": {},
   "outputs": [
    {
     "data": {
      "text/plain": [
       "0.02782340921936581"
      ]
     },
     "execution_count": 7,
     "metadata": {},
     "output_type": "execute_result"
    }
   ],
   "source": [
    "np.mean(np.linalg.norm(forces['20'][:minlength] - forces['15'][:minlength], axis = -1))"
   ]
  },
  {
   "cell_type": "code",
   "execution_count": 5,
   "metadata": {},
   "outputs": [
    {
     "data": {
      "text/plain": [
       "array([[[[-1.2049e+00, -5.5750e-01,  2.5780e+00],\n",
       "         [ 3.3210e-01,  2.0338e+00, -1.8530e-01],\n",
       "         [ 8.5270e-01, -1.5096e+00, -2.3447e+00]],\n",
       "\n",
       "        [[ 6.8350e-01, -5.8760e-01,  4.7090e-01],\n",
       "         [-1.5147e+00,  1.3606e+00, -1.0868e+00],\n",
       "         [ 8.4700e-01, -7.5960e-01,  6.1150e-01]]],\n",
       "\n",
       "\n",
       "       [[[-1.0950e+00, -6.9930e-01,  2.2251e+00],\n",
       "         [ 3.5090e-01,  1.8626e+00, -2.6520e-01],\n",
       "         [ 7.2300e-01, -1.1972e+00, -1.9088e+00]],\n",
       "\n",
       "        [[ 2.1580e-01, -8.6000e-01,  8.3890e-01],\n",
       "         [-1.0623e+00,  1.1428e+00, -9.6230e-01],\n",
       "         [ 8.5890e-01, -2.6860e-01,  1.1960e-01]]],\n",
       "\n",
       "\n",
       "       [[[-8.4930e-01, -8.2000e-01,  1.6171e+00],\n",
       "         [ 3.3740e-01,  1.5119e+00, -3.2250e-01],\n",
       "         [ 4.9910e-01, -7.1660e-01, -1.2480e+00]],\n",
       "\n",
       "        [[-4.3320e-01, -1.1160e+00,  1.1782e+00],\n",
       "         [-3.9780e-01,  8.2760e-01, -7.5650e-01],\n",
       "         [ 8.4600e-01,  3.0180e-01, -4.2640e-01]]],\n",
       "\n",
       "\n",
       "       ...,\n",
       "\n",
       "\n",
       "       [[[ 2.0218e+00, -2.5570e-01, -1.2210e+00],\n",
       "         [-1.4355e+00, -8.1810e-01,  1.7750e+00],\n",
       "         [-6.0240e-01,  1.0777e+00, -5.4220e-01]],\n",
       "\n",
       "        [[-7.4050e-01, -1.2689e+00, -1.1251e+00],\n",
       "         [ 3.3550e-01,  8.8210e-01,  6.2940e-01],\n",
       "         [ 4.1600e-01,  4.1410e-01,  5.1030e-01]]],\n",
       "\n",
       "\n",
       "       [[[ 8.6520e-01,  4.5220e-01, -1.0509e+00],\n",
       "         [-8.9470e-01, -4.9220e-01,  1.1094e+00],\n",
       "         [ 5.0000e-04,  5.1200e-02, -4.2000e-02]],\n",
       "\n",
       "        [[-2.1480e-01, -7.6230e-01, -5.0860e-01],\n",
       "         [-5.4340e-01,  7.1790e-01, -1.4890e-01],\n",
       "         [ 7.5470e-01,  4.4200e-02,  6.5900e-01]]],\n",
       "\n",
       "\n",
       "       [[[-3.0410e-01,  9.8240e-01, -7.2320e-01],\n",
       "         [-2.4910e-01, -1.5280e-01,  3.2770e-01],\n",
       "         [ 5.1380e-01, -8.1100e-01,  4.1400e-01]],\n",
       "\n",
       "        [[ 2.2050e-01, -3.0730e-01,  4.2900e-02],\n",
       "         [-1.2579e+00,  5.7230e-01, -8.0790e-01],\n",
       "         [ 1.0363e+00, -2.5750e-01,  7.7170e-01]]]])"
      ]
     },
     "execution_count": 5,
     "metadata": {},
     "output_type": "execute_result"
    }
   ],
   "source": [
    "forces['15']"
   ]
  },
  {
   "cell_type": "code",
   "execution_count": null,
   "metadata": {},
   "outputs": [],
   "source": []
  }
 ],
 "metadata": {
  "kernelspec": {
   "display_name": "Python 3",
   "language": "python",
   "name": "python3"
  },
  "language_info": {
   "codemirror_mode": {
    "name": "ipython",
    "version": 3
   },
   "file_extension": ".py",
   "mimetype": "text/x-python",
   "name": "python",
   "nbconvert_exporter": "python",
   "pygments_lexer": "ipython3",
   "version": "3.6.4"
  }
 },
 "nbformat": 4,
 "nbformat_minor": 2
}
