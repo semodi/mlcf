{
 "cells": [
  {
   "cell_type": "code",
   "execution_count": 25,
   "metadata": {},
   "outputs": [
    {
     "name": "stdout",
     "output_type": "stream",
     "text": [
      "Populating the interactive namespace from numpy and matplotlib\n"
     ]
    }
   ],
   "source": [
    "import mlc_func\n",
    "import elf\n",
    "import numpy as np\n",
    "import pandas as pd\n",
    "%pylab inline"
   ]
  },
  {
   "cell_type": "code",
   "execution_count": 26,
   "metadata": {},
   "outputs": [],
   "source": [
    "def create_target_file(baseline, reference, output, offset = 0):\n",
    "    targets = np.genfromtxt(reference, delimiter = ',') -\\\n",
    "        np.genfromtxt(baseline, delimiter = ',') - offset\n",
    "    pd.DataFrame(targets).to_csv(output, index = None, header = None)"
   ]
  },
  {
   "cell_type": "code",
   "execution_count": 27,
   "metadata": {},
   "outputs": [],
   "source": [
    "# def build_force_mlcf(feature_src, target_src, masks = {}):\n",
    "#     if not len(feature_src) == len(target_src):\n",
    "#         raise Exception('Please provided only one target location for each feature set')\n",
    "        \n",
    "#     sets = []\n",
    "#     all_features = {}\n",
    "#     all_targets = {}\n",
    "#     for fsrc, tsrc in zip(feature_src, target_src):\n",
    "#         elfs = elf.utils.hdf5_to_elfs(fsrc,\n",
    "#                               grouped = True, values_only = True)\n",
    "#         angles = elf.utils.hdf5_to_elfs(fsrc,\n",
    "#                               grouped = True, angles_only = True)\n",
    "        \n",
    "#         targets = np.genfromtxt(tsrc, delimiter = ',').reshape(-1, 3, 3)\n",
    "#         targets = {'o': targets[:,0], 'h': targets[:,1:].reshape(-1,3)}\n",
    "        \n",
    "         \n",
    "#         for species in elfs:\n",
    "#             feat = np.array(elfs[species])[:,:,masks[species]]\n",
    "#             feat = feat.reshape(-1, feat.shape[-1])\n",
    "            \n",
    "#             ang = np.array(angles[species]).reshape(-1,3)\n",
    "            \n",
    "#             for i,_ in enumerate(targets[species]):\n",
    "#                 targets[species][i] = elf.geom.rotate_vector(targets[species][i:i+1], ang[i], inverse=True) \n",
    "# #             figure()\n",
    "# #             plot(targets[species])\n",
    "# #             print(np.allclose(targets[species], tar))\n",
    "#             if not species in all_features:\n",
    "#                 all_features[species] = []\n",
    "#                 all_targets[species] = []\n",
    "#             all_features[species].append(feat)\n",
    "#             all_targets[species].append(targets[species])\n",
    "         \n",
    "    \n",
    "#     for species in all_features:\n",
    "        \n",
    "#         feat = np.concatenate(all_features[species])\n",
    "#         feat = feat.reshape(len(feat), 1, -1)\n",
    "#         subnet = mlc_func.Subnet()\n",
    "#         subnet.targets = 3\n",
    "#         subnet.add_dataset(mlc_func.Dataset(feat, species), np.concatenate(all_targets[species]), test_size = 0.2)\n",
    "#         sets.append(subnet)\n",
    "            \n",
    "#     return mlc_func.Network(sets)"
   ]
  },
  {
   "cell_type": "code",
   "execution_count": 29,
   "metadata": {},
   "outputs": [
    {
     "name": "stdout",
     "output_type": "stream",
     "text": [
      "{'r_o_o': 1.0, 'r_i_o': 0.05, 'n_rad_o': 2, 'n_l_o': 3, 'gamma_o': 0, 'r_i_h': 0.0, 'r_o_h': 1.5, 'n_rad_h': 2, 'n_l_h': 2, 'gamma_h': 0}\n",
      "(1484, 3, 15)\n",
      "(1484, 6, 6)\n",
      "{'r_o_o': 1.0, 'r_i_o': 0.05, 'n_rad_o': 2, 'n_l_o': 3, 'gamma_o': 0, 'r_i_h': 0.0, 'r_o_h': 1.5, 'n_rad_h': 2, 'n_l_h': 2, 'gamma_h': 0}\n",
      "(1976, 2, 15)\n",
      "(1976, 4, 6)\n",
      "{'r_o_o': 1.0, 'r_i_o': 0.05, 'n_rad_o': 2, 'n_l_o': 3, 'gamma_o': 0, 'r_i_h': 0.0, 'r_o_h': 1.5, 'n_rad_h': 2, 'n_l_h': 2, 'gamma_h': 0}\n",
      "(774, 1, 15)\n",
      "(774, 2, 6)\n",
      "scale_together\n"
     ]
    }
   ],
   "source": [
    "basepath_feat = '../../ElF/data/BH/qz_custom/elfs/basis_old_elf/'\n",
    "basepath_tar = '../../ElF/data/BH/qz_custom/'\n",
    "\n",
    "# mono_offset = (np.genfromtxt('../../ElF/data/MB-pol/monomers/energies.dat') -\\\n",
    "#                np.genfromtxt('../../ElF/data/BH/qz_custom/monomers/energies.dat'))[0]\n",
    "systems = ['trimers','dimers','monomers']\n",
    "# systems = ['trimers','monomers','dimers']\n",
    "mono_offset = 469.79981032859143\n",
    "n_mol = [3,2,1]\n",
    "for s,nm in zip(systems, n_mol):\n",
    "    create_target_file(basepath_tar +'/{}/energies.dat'.format(s),\n",
    "                      '../../ElF/data/MB-pol/{}/energies.dat'.format(s),\n",
    "                      basepath_tar +'/{}/energies_bh_mbpol.dat'.format(s), mono_offset*nm)\n",
    "    \n",
    "    \n",
    "feature_src = [basepath_feat + s +'_processed.hdf5' for s in systems]\n",
    "target_src = [basepath_tar +'/' + s +'/energies_bh_mbpol.dat' for s in systems]\n",
    "filters = [np.genfromtxt('../publication/data/filters/{}.filter'.format(s), dtype =bool) for s in systems]\n",
    "# masks = {'o':[],'h':[]}\n",
    "# for m in masks:\n",
    "#     masks[m] = np.genfromtxt('../../elf_models/models_masked/elf/revpbe_to_pbe_mb/mask_{}'.format(m.upper()), dtype = 'bool')\n",
    "masks = {}\n",
    "nn, masks = mlc_func.build_energy_mlcf(feature_src, target_src, masks, automask_std = 1e-3, filters = filters)\n"
   ]
  },
  {
   "cell_type": "code",
   "execution_count": 30,
   "metadata": {},
   "outputs": [
    {
     "data": {
      "text/plain": [
       "{'o': array([ True, False, False,  True,  True,  True,  True,  True,  True,\n",
       "         True,  True, False,  True,  True,  True,  True,  True,  True]),\n",
       " 'h': array([ True, False, False,  True,  True,  True,  True,  True])}"
      ]
     },
     "execution_count": 30,
     "metadata": {},
     "output_type": "execute_result"
    }
   ],
   "source": [
    "masks"
   ]
  },
  {
   "cell_type": "code",
   "execution_count": 31,
   "metadata": {
    "scrolled": false
   },
   "outputs": [],
   "source": [
    "# basepath_feat = '../../ElF/data/revPBE/elfs/basis_default_nn/'\n",
    "# basepath_tar = '../../ElF/data/revPBE/'\n",
    "\n",
    "# systems = ['monomers','dimers','trimers']\n",
    "# # systems = ['trimers','monomers','dimers']\n",
    "# mono_offset = 0\n",
    "# n_mol = [1,2,3]\n",
    "# for s,nm in zip(systems, n_mol):\n",
    "#     create_target_file(basepath_tar +'/{}/forces.dat'.format(s),\n",
    "#                       '../../ElF/data/PBE_dz/{}/forces.dat'.format(s),\n",
    "#                       basepath_tar +'/{}/forces_revpbe_pbe.dat'.format(s), mono_offset*nm)\n",
    "    \n",
    "    \n",
    "# feature_src = [basepath_feat + s +'_processed.hdf5' for s in systems]\n",
    "# target_src = [basepath_tar +'/' + s +'/forces_revpbe_pbe.dat' for s in systems]\n",
    "\n",
    "# masks = {'o':[],'h':[]}\n",
    "# for m in masks:\n",
    "#     masks[m] = np.genfromtxt('../../elf_models/models_masked/elf/revpbe_to_pbe_mb/mask_{}'.format(m.upper()), dtype = 'bool')\n",
    "# nn_force = build_force_mlcf(feature_src, target_src, masks)\n"
   ]
  },
  {
   "cell_type": "code",
   "execution_count": 32,
   "metadata": {
    "scrolled": false
   },
   "outputs": [
    {
     "name": "stdout",
     "output_type": "stream",
     "text": [
      "multipliers: [1, 1, 1]\n",
      "Step: 0\n",
      "Training set loss:\n",
      "0: 9.004117965698242\n",
      "1: 5.977287769317627\n",
      "2: 2.9872241020202637\n",
      "Total: 11.212742805480957\n",
      "Validation set loss:\n",
      "0: 8.997138977050781\n",
      "1: 5.984710216522217\n",
      "2: 2.9782872200012207\n",
      "Total: 11.208722114562988\n",
      "--------------------\n",
      "L2-loss: 1.7370418845530367e-06\n",
      "Step: 8000\n",
      "Training set loss:\n",
      "0: 0.016570614650845528\n",
      "1: 0.018106210976839066\n",
      "2: 0.00575016625225544\n",
      "Total: 0.025208819657564163\n",
      "Validation set loss:\n",
      "0: 0.016019627451896667\n",
      "1: 0.01931552030146122\n",
      "2: 0.006470069754868746\n",
      "Total: 0.02591485157608986\n",
      "--------------------\n",
      "L2-loss: 1.7286561160290148e-06\n",
      "Step: 16000\n",
      "Training set loss:\n",
      "0: 0.010208130814135075\n",
      "1: 0.01088077574968338\n",
      "2: 0.0032990234903991222\n",
      "Total: 0.01528007723391056\n",
      "Validation set loss:\n",
      "0: 0.010984038934111595\n",
      "1: 0.013067766092717648\n",
      "2: 0.0023936510551720858\n",
      "Total: 0.01723789982497692\n",
      "--------------------\n",
      "L2-loss: 1.7534944163344335e-06\n",
      "Step: 24000\n",
      "Training set loss:\n",
      "0: 0.009424017742276192\n",
      "1: 0.009754534810781479\n",
      "2: 0.0028030809480696917\n",
      "Total: 0.013849920593202114\n",
      "Validation set loss:\n",
      "0: 0.010122157633304596\n",
      "1: 0.01228243950754404\n",
      "2: 0.0025930250994861126\n",
      "Total: 0.016125760972499847\n",
      "--------------------\n",
      "L2-loss: 1.7640503529037233e-06\n",
      "Step: 32000\n",
      "Training set loss:\n",
      "0: 0.00898941233754158\n",
      "1: 0.009130516089498997\n",
      "2: 0.0026763277128338814\n",
      "Total: 0.013089636340737343\n",
      "Validation set loss:\n",
      "0: 0.009381720796227455\n",
      "1: 0.011774081736803055\n",
      "2: 0.002542274771258235\n",
      "Total: 0.015267902985215187\n",
      "--------------------\n",
      "L2-loss: 1.7955752582565765e-06\n",
      "Step: 40000\n",
      "Training set loss:\n",
      "0: 0.008698641322553158\n",
      "1: 0.008729128167033195\n",
      "2: 0.0024763878900557756\n",
      "Total: 0.012569667771458626\n",
      "Validation set loss:\n",
      "0: 0.008962462656199932\n",
      "1: 0.011576893739402294\n",
      "2: 0.0024075002875179052\n",
      "Total: 0.014837326481938362\n",
      "--------------------\n",
      "L2-loss: 1.8310313407710055e-06\n",
      "Step: 48000\n",
      "Training set loss:\n",
      "0: 0.00855193194001913\n",
      "1: 0.0084333261474967\n",
      "2: 0.0023252181708812714\n",
      "Total: 0.012233690358698368\n",
      "Validation set loss:\n",
      "0: 0.008617676794528961\n",
      "1: 0.011401691474020481\n",
      "2: 0.0023440029472112656\n",
      "Total: 0.014482999220490456\n",
      "--------------------\n",
      "L2-loss: 1.8680414086702513e-06\n",
      "Step: 56000\n",
      "Training set loss:\n",
      "0: 0.008747871965169907\n",
      "1: 0.008914764970541\n",
      "2: 0.0030403300188481808\n",
      "Total: 0.01285464596003294\n",
      "Validation set loss:\n",
      "0: 0.008914769627153873\n",
      "1: 0.011690769344568253\n",
      "2: 0.003298982512205839\n",
      "Total: 0.01506753172725439\n",
      "--------------------\n",
      "L2-loss: 1.8962666672450723e-06\n",
      "Step: 64000\n",
      "Training set loss:\n",
      "0: 0.00836594495922327\n",
      "1: 0.007952835410833359\n",
      "2: 0.0022182452958077192\n",
      "Total: 0.011754030361771584\n",
      "Validation set loss:\n",
      "0: 0.008456057868897915\n",
      "1: 0.011174938641488552\n",
      "2: 0.002356446348130703\n",
      "Total: 0.014210454188287258\n",
      "--------------------\n",
      "L2-loss: 1.918708221637644e-06\n"
     ]
    },
    {
     "ename": "KeyboardInterrupt",
     "evalue": "",
     "output_type": "error",
     "traceback": [
      "\u001b[0;31m---------------------------------------------------------------------------\u001b[0m",
      "\u001b[0;31mKeyboardInterrupt\u001b[0m                         Traceback (most recent call last)",
      "\u001b[0;32m<ipython-input-32-d3734599ce75>\u001b[0m in \u001b[0;36m<module>\u001b[0;34m()\u001b[0m\n\u001b[0;32m----> 1\u001b[0;31m \u001b[0mnn\u001b[0m\u001b[0;34m.\u001b[0m\u001b[0mtrain\u001b[0m\u001b[0;34m(\u001b[0m\u001b[0mstep_size\u001b[0m\u001b[0;34m=\u001b[0m\u001b[0;36m0.001\u001b[0m\u001b[0;34m,\u001b[0m \u001b[0mmax_steps\u001b[0m\u001b[0;34m=\u001b[0m \u001b[0;36m80001\u001b[0m \u001b[0;34m,\u001b[0m\u001b[0mb_\u001b[0m\u001b[0;34m=\u001b[0m\u001b[0;34m[\u001b[0m\u001b[0;36m1e-8\u001b[0m\u001b[0;34m,\u001b[0m \u001b[0;36m1e-8\u001b[0m\u001b[0;34m]\u001b[0m\u001b[0;34m,\u001b[0m \u001b[0mmultiplier\u001b[0m\u001b[0;34m=\u001b[0m\u001b[0;34m[\u001b[0m\u001b[0;36m1\u001b[0m\u001b[0;34m,\u001b[0m\u001b[0;36m1\u001b[0m\u001b[0;34m,\u001b[0m\u001b[0;36m1\u001b[0m\u001b[0;34m]\u001b[0m\u001b[0;34m)\u001b[0m\u001b[0;34m\u001b[0m\u001b[0m\n\u001b[0m",
      "\u001b[0;32m~/Documents/Physics/Code/mlc_func/mlc_func/network.py\u001b[0m in \u001b[0;36mtrain\u001b[0;34m(self, step_size, max_steps, b_, verbose, optimizer, adaptive_rate, multiplier)\u001b[0m\n\u001b[1;32m    281\u001b[0m             \u001b[0;32mfor\u001b[0m \u001b[0m_\u001b[0m \u001b[0;32min\u001b[0m \u001b[0mrange\u001b[0m\u001b[0;34m(\u001b[0m\u001b[0;36m0\u001b[0m\u001b[0;34m,\u001b[0m\u001b[0mmax_steps\u001b[0m\u001b[0;34m)\u001b[0m\u001b[0;34m:\u001b[0m\u001b[0;34m\u001b[0m\u001b[0m\n\u001b[1;32m    282\u001b[0m \u001b[0;34m\u001b[0m\u001b[0m\n\u001b[0;32m--> 283\u001b[0;31m                 \u001b[0msess\u001b[0m\u001b[0;34m.\u001b[0m\u001b[0mrun\u001b[0m\u001b[0;34m(\u001b[0m\u001b[0mtrain_step\u001b[0m\u001b[0;34m,\u001b[0m\u001b[0mfeed_dict\u001b[0m\u001b[0;34m=\u001b[0m\u001b[0mtrain_feed_dict\u001b[0m\u001b[0;34m)\u001b[0m\u001b[0;34m\u001b[0m\u001b[0m\n\u001b[0m\u001b[1;32m    284\u001b[0m \u001b[0;34m\u001b[0m\u001b[0m\n\u001b[1;32m    285\u001b[0m                 \u001b[0;32mif\u001b[0m \u001b[0m_\u001b[0m\u001b[0;34m%\u001b[0m\u001b[0mint\u001b[0m\u001b[0;34m(\u001b[0m\u001b[0mmax_steps\u001b[0m\u001b[0;34m/\u001b[0m\u001b[0;36m100\u001b[0m\u001b[0;34m)\u001b[0m \u001b[0;34m==\u001b[0m \u001b[0;36m0\u001b[0m \u001b[0;32mand\u001b[0m \u001b[0madaptive_rate\u001b[0m \u001b[0;34m==\u001b[0m \u001b[0;32mTrue\u001b[0m\u001b[0;34m:\u001b[0m\u001b[0;34m\u001b[0m\u001b[0m\n",
      "\u001b[0;32m~/miniconda3/lib/python3.6/site-packages/tensorflow/python/client/session.py\u001b[0m in \u001b[0;36mrun\u001b[0;34m(self, fetches, feed_dict, options, run_metadata)\u001b[0m\n\u001b[1;32m    898\u001b[0m     \u001b[0;32mtry\u001b[0m\u001b[0;34m:\u001b[0m\u001b[0;34m\u001b[0m\u001b[0m\n\u001b[1;32m    899\u001b[0m       result = self._run(None, fetches, feed_dict, options_ptr,\n\u001b[0;32m--> 900\u001b[0;31m                          run_metadata_ptr)\n\u001b[0m\u001b[1;32m    901\u001b[0m       \u001b[0;32mif\u001b[0m \u001b[0mrun_metadata\u001b[0m\u001b[0;34m:\u001b[0m\u001b[0;34m\u001b[0m\u001b[0m\n\u001b[1;32m    902\u001b[0m         \u001b[0mproto_data\u001b[0m \u001b[0;34m=\u001b[0m \u001b[0mtf_session\u001b[0m\u001b[0;34m.\u001b[0m\u001b[0mTF_GetBuffer\u001b[0m\u001b[0;34m(\u001b[0m\u001b[0mrun_metadata_ptr\u001b[0m\u001b[0;34m)\u001b[0m\u001b[0;34m\u001b[0m\u001b[0m\n",
      "\u001b[0;32m~/miniconda3/lib/python3.6/site-packages/tensorflow/python/client/session.py\u001b[0m in \u001b[0;36m_run\u001b[0;34m(self, handle, fetches, feed_dict, options, run_metadata)\u001b[0m\n\u001b[1;32m   1133\u001b[0m     \u001b[0;32mif\u001b[0m \u001b[0mfinal_fetches\u001b[0m \u001b[0;32mor\u001b[0m \u001b[0mfinal_targets\u001b[0m \u001b[0;32mor\u001b[0m \u001b[0;34m(\u001b[0m\u001b[0mhandle\u001b[0m \u001b[0;32mand\u001b[0m \u001b[0mfeed_dict_tensor\u001b[0m\u001b[0;34m)\u001b[0m\u001b[0;34m:\u001b[0m\u001b[0;34m\u001b[0m\u001b[0m\n\u001b[1;32m   1134\u001b[0m       results = self._do_run(handle, final_targets, final_fetches,\n\u001b[0;32m-> 1135\u001b[0;31m                              feed_dict_tensor, options, run_metadata)\n\u001b[0m\u001b[1;32m   1136\u001b[0m     \u001b[0;32melse\u001b[0m\u001b[0;34m:\u001b[0m\u001b[0;34m\u001b[0m\u001b[0m\n\u001b[1;32m   1137\u001b[0m       \u001b[0mresults\u001b[0m \u001b[0;34m=\u001b[0m \u001b[0;34m[\u001b[0m\u001b[0;34m]\u001b[0m\u001b[0;34m\u001b[0m\u001b[0m\n",
      "\u001b[0;32m~/miniconda3/lib/python3.6/site-packages/tensorflow/python/client/session.py\u001b[0m in \u001b[0;36m_do_run\u001b[0;34m(self, handle, target_list, fetch_list, feed_dict, options, run_metadata)\u001b[0m\n\u001b[1;32m   1314\u001b[0m     \u001b[0;32mif\u001b[0m \u001b[0mhandle\u001b[0m \u001b[0;32mis\u001b[0m \u001b[0;32mNone\u001b[0m\u001b[0;34m:\u001b[0m\u001b[0;34m\u001b[0m\u001b[0m\n\u001b[1;32m   1315\u001b[0m       return self._do_call(_run_fn, feeds, fetches, targets, options,\n\u001b[0;32m-> 1316\u001b[0;31m                            run_metadata)\n\u001b[0m\u001b[1;32m   1317\u001b[0m     \u001b[0;32melse\u001b[0m\u001b[0;34m:\u001b[0m\u001b[0;34m\u001b[0m\u001b[0m\n\u001b[1;32m   1318\u001b[0m       \u001b[0;32mreturn\u001b[0m \u001b[0mself\u001b[0m\u001b[0;34m.\u001b[0m\u001b[0m_do_call\u001b[0m\u001b[0;34m(\u001b[0m\u001b[0m_prun_fn\u001b[0m\u001b[0;34m,\u001b[0m \u001b[0mhandle\u001b[0m\u001b[0;34m,\u001b[0m \u001b[0mfeeds\u001b[0m\u001b[0;34m,\u001b[0m \u001b[0mfetches\u001b[0m\u001b[0;34m)\u001b[0m\u001b[0;34m\u001b[0m\u001b[0m\n",
      "\u001b[0;32m~/miniconda3/lib/python3.6/site-packages/tensorflow/python/client/session.py\u001b[0m in \u001b[0;36m_do_call\u001b[0;34m(self, fn, *args)\u001b[0m\n\u001b[1;32m   1320\u001b[0m   \u001b[0;32mdef\u001b[0m \u001b[0m_do_call\u001b[0m\u001b[0;34m(\u001b[0m\u001b[0mself\u001b[0m\u001b[0;34m,\u001b[0m \u001b[0mfn\u001b[0m\u001b[0;34m,\u001b[0m \u001b[0;34m*\u001b[0m\u001b[0margs\u001b[0m\u001b[0;34m)\u001b[0m\u001b[0;34m:\u001b[0m\u001b[0;34m\u001b[0m\u001b[0m\n\u001b[1;32m   1321\u001b[0m     \u001b[0;32mtry\u001b[0m\u001b[0;34m:\u001b[0m\u001b[0;34m\u001b[0m\u001b[0m\n\u001b[0;32m-> 1322\u001b[0;31m       \u001b[0;32mreturn\u001b[0m \u001b[0mfn\u001b[0m\u001b[0;34m(\u001b[0m\u001b[0;34m*\u001b[0m\u001b[0margs\u001b[0m\u001b[0;34m)\u001b[0m\u001b[0;34m\u001b[0m\u001b[0m\n\u001b[0m\u001b[1;32m   1323\u001b[0m     \u001b[0;32mexcept\u001b[0m \u001b[0merrors\u001b[0m\u001b[0;34m.\u001b[0m\u001b[0mOpError\u001b[0m \u001b[0;32mas\u001b[0m \u001b[0me\u001b[0m\u001b[0;34m:\u001b[0m\u001b[0;34m\u001b[0m\u001b[0m\n\u001b[1;32m   1324\u001b[0m       \u001b[0mmessage\u001b[0m \u001b[0;34m=\u001b[0m \u001b[0mcompat\u001b[0m\u001b[0;34m.\u001b[0m\u001b[0mas_text\u001b[0m\u001b[0;34m(\u001b[0m\u001b[0me\u001b[0m\u001b[0;34m.\u001b[0m\u001b[0mmessage\u001b[0m\u001b[0;34m)\u001b[0m\u001b[0;34m\u001b[0m\u001b[0m\n",
      "\u001b[0;32m~/miniconda3/lib/python3.6/site-packages/tensorflow/python/client/session.py\u001b[0m in \u001b[0;36m_run_fn\u001b[0;34m(feed_dict, fetch_list, target_list, options, run_metadata)\u001b[0m\n\u001b[1;32m   1305\u001b[0m       \u001b[0mself\u001b[0m\u001b[0;34m.\u001b[0m\u001b[0m_extend_graph\u001b[0m\u001b[0;34m(\u001b[0m\u001b[0;34m)\u001b[0m\u001b[0;34m\u001b[0m\u001b[0m\n\u001b[1;32m   1306\u001b[0m       return self._call_tf_sessionrun(\n\u001b[0;32m-> 1307\u001b[0;31m           options, feed_dict, fetch_list, target_list, run_metadata)\n\u001b[0m\u001b[1;32m   1308\u001b[0m \u001b[0;34m\u001b[0m\u001b[0m\n\u001b[1;32m   1309\u001b[0m     \u001b[0;32mdef\u001b[0m \u001b[0m_prun_fn\u001b[0m\u001b[0;34m(\u001b[0m\u001b[0mhandle\u001b[0m\u001b[0;34m,\u001b[0m \u001b[0mfeed_dict\u001b[0m\u001b[0;34m,\u001b[0m \u001b[0mfetch_list\u001b[0m\u001b[0;34m)\u001b[0m\u001b[0;34m:\u001b[0m\u001b[0;34m\u001b[0m\u001b[0m\n",
      "\u001b[0;32m~/miniconda3/lib/python3.6/site-packages/tensorflow/python/client/session.py\u001b[0m in \u001b[0;36m_call_tf_sessionrun\u001b[0;34m(self, options, feed_dict, fetch_list, target_list, run_metadata)\u001b[0m\n\u001b[1;32m   1407\u001b[0m       return tf_session.TF_SessionRun_wrapper(\n\u001b[1;32m   1408\u001b[0m           \u001b[0mself\u001b[0m\u001b[0;34m.\u001b[0m\u001b[0m_session\u001b[0m\u001b[0;34m,\u001b[0m \u001b[0moptions\u001b[0m\u001b[0;34m,\u001b[0m \u001b[0mfeed_dict\u001b[0m\u001b[0;34m,\u001b[0m \u001b[0mfetch_list\u001b[0m\u001b[0;34m,\u001b[0m \u001b[0mtarget_list\u001b[0m\u001b[0;34m,\u001b[0m\u001b[0;34m\u001b[0m\u001b[0m\n\u001b[0;32m-> 1409\u001b[0;31m           run_metadata)\n\u001b[0m\u001b[1;32m   1410\u001b[0m     \u001b[0;32melse\u001b[0m\u001b[0;34m:\u001b[0m\u001b[0;34m\u001b[0m\u001b[0m\n\u001b[1;32m   1411\u001b[0m       \u001b[0;32mwith\u001b[0m \u001b[0merrors\u001b[0m\u001b[0;34m.\u001b[0m\u001b[0mraise_exception_on_not_ok_status\u001b[0m\u001b[0;34m(\u001b[0m\u001b[0;34m)\u001b[0m \u001b[0;32mas\u001b[0m \u001b[0mstatus\u001b[0m\u001b[0;34m:\u001b[0m\u001b[0;34m\u001b[0m\u001b[0m\n",
      "\u001b[0;31mKeyboardInterrupt\u001b[0m: "
     ]
    }
   ],
   "source": [
    "nn.train(step_size=0.001, max_steps= 80001 ,b_=[1e-8, 1e-8], multiplier=[1,1,1])"
   ]
  },
  {
   "cell_type": "code",
   "execution_count": 33,
   "metadata": {},
   "outputs": [
    {
     "data": {
      "text/plain": [
       "[<matplotlib.lines.Line2D at 0x7f1addf64fd0>]"
      ]
     },
     "execution_count": 33,
     "metadata": {},
     "output_type": "execute_result"
    },
    {
     "data": {
      "image/png": "[encoded data removed]",
      "text/plain": [
       "<Figure size 432x288 with 1 Axes>"
      ]
     },
     "metadata": {},
     "output_type": "display_data"
    }
   ],
   "source": [
    "plot(nn.get_logits(which='train')[0], nn.subnets[0][0].y_train, ls = '', marker = '.')"
   ]
  },
  {
   "cell_type": "code",
   "execution_count": 88,
   "metadata": {},
   "outputs": [
    {
     "name": "stdout",
     "output_type": "stream",
     "text": [
      "scale_together\n",
      "INFO:tensorflow:Restoring parameters from ../publication/models/bh_qz_to_mbp_offset/model.ckpt\n"
     ]
    }
   ],
   "source": [
    "nn = mlc_func.load_network('../publication/models/bh_qz_to_mbp_offset/')"
   ]
  },
  {
   "cell_type": "code",
   "execution_count": 98,
   "metadata": {},
   "outputs": [
    {
     "data": {
      "text/plain": [
       "153"
      ]
     },
     "execution_count": 98,
     "metadata": {},
     "output_type": "execute_result"
    }
   ],
   "source": [
    "len(nn.subnets[2][2].y_test)"
   ]
  },
  {
   "cell_type": "code",
   "execution_count": 34,
   "metadata": {
    "scrolled": false
   },
   "outputs": [
    {
     "name": "stdout",
     "output_type": "stream",
     "text": [
      "===========trimers===========\n",
      "RMSE: 3.24 (28.54)\n",
      "MAX: 18.96 (90.33)\n",
      "MAE: 2.40 (22.36)\n",
      "===========dimers===========\n",
      "RMSE: 4.22 (40.04)\n",
      "MAX: 19.62 (169.30)\n",
      "MAE: 2.93 (30.89)\n",
      "===========monomers===========\n",
      "RMSE: 3.59 (53.70)\n",
      "MAX: 39.07 (148.73)\n",
      "MAE: 1.43 (42.59)\n"
     ]
    },
    {
     "data": {
      "image/png": "[encoded data removed]",
      "text/plain": [
       "<Figure size 432x288 with 1 Axes>"
      ]
     },
     "metadata": {},
     "output_type": "display_data"
    }
   ],
   "source": [
    "n_mol_dict = {'monomers' : 1, 'dimers': 2,'trimers': 3}\n",
    "for i in range(3):\n",
    "    plot(nn.get_logits(which='test')[i], nn.subnets[i][0].y_test, ls = '', marker = '.')\n",
    "    dev = (nn.get_logits(which='test')[i] - nn.subnets[i][0].y_test)/n_mol_dict[systems[i]]*1000\n",
    "    dev_bh = nn.subnets[i][0].y_test/n_mol_dict[systems[i]]*1000\n",
    "    dev -= np.mean(dev)\n",
    "    dev_bh -= np.mean(dev_bh)\n",
    "    print('==========={}==========='.format(systems[i]))\n",
    "    print('RMSE: {:3.2f} ({:3.2f})'.format(np.std(dev),np.std(dev_bh)))\n",
    "    print('MAX: {:3.2f} ({:3.2f})'.format(np.max(np.abs(dev)),np.max(np.abs(dev_bh))))\n",
    "    print('MAE: {:3.2f} ({:3.2f})'.format(np.mean(np.abs(dev)),np.mean(np.abs(dev_bh))))"
   ]
  },
  {
   "cell_type": "code",
   "execution_count": 8,
   "metadata": {},
   "outputs": [
    {
     "name": "stdout",
     "output_type": "stream",
     "text": [
      "===========trimers===========\n",
      "0.008808718640529851\n",
      "0.037323005282587474\n",
      "0.006818237280072026\n",
      "===========dimers===========\n",
      "0.008306576907318224\n",
      "0.05942069737375277\n",
      "0.005584153677792279\n",
      "===========monomers===========\n",
      "0.0029831574600494106\n",
      "0.023696675453606986\n",
      "0.0019806751549194487\n"
     ]
    },
    {
     "data": {
      "image/png": "[encoded data removed]",
      "text/plain": [
       "<Figure size 432x288 with 1 Axes>"
      ]
     },
     "metadata": {},
     "output_type": "display_data"
    }
   ],
   "source": [
    "for i in range(3):\n",
    "    \n",
    "    plot(nn.get_logits(which='test')[i], nn.subnets[i][0].y_test, ls = '', marker = '.')\n",
    "    print('==========={}==========='.format(systems[i]))\n",
    "    print(np.sqrt(np.mean((nn.get_logits(which='test')[i] - nn.subnets[i][0].y_test)**2)))\n",
    "    print(np.max(np.abs(nn.get_logits(which='test')[i] - nn.subnets[i][0].y_test)))\n",
    "    print(np.mean(np.abs(nn.get_logits(which='test')[i] - nn.subnets[i][0].y_test)))"
   ]
  },
  {
   "cell_type": "code",
   "execution_count": 35,
   "metadata": {},
   "outputs": [],
   "source": [
    "nn.save_all('../publication/models/bh_qz_to_mbp_elf', override=False)"
   ]
  },
  {
   "cell_type": "code",
   "execution_count": 36,
   "metadata": {},
   "outputs": [],
   "source": [
    "import pickle"
   ]
  },
  {
   "cell_type": "code",
   "execution_count": 37,
   "metadata": {},
   "outputs": [],
   "source": [
    "pickle.dump(masks, open('../publication/models/bh_qz_to_mbp_elf/masks', 'wb'))"
   ]
  },
  {
   "cell_type": "code",
   "execution_count": null,
   "metadata": {},
   "outputs": [],
   "source": []
  }
 ],
 "metadata": {
  "kernelspec": {
   "display_name": "Python 3",
   "language": "python",
   "name": "python3"
  },
  "language_info": {
   "codemirror_mode": {
    "name": "ipython",
    "version": 3
   },
   "file_extension": ".py",
   "mimetype": "text/x-python",
   "name": "python",
   "nbconvert_exporter": "python",
   "pygments_lexer": "ipython3",
   "version": "3.6.5"
  }
 },
 "nbformat": 4,
 "nbformat_minor": 2
}
