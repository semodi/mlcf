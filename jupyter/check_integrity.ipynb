{
 "cells": [
  {
   "cell_type": "code",
   "execution_count": 1,
   "metadata": {},
   "outputs": [],
   "source": [
    "import numpy as np\n",
    "from ase.io import read, write"
   ]
  },
  {
   "cell_type": "code",
   "execution_count": 12,
   "metadata": {},
   "outputs": [
    {
     "name": "stdout",
     "output_type": "stream",
     "text": [
      "monomers\n",
      "dimers\n",
      "trimers\n",
      "128\n"
     ]
    }
   ],
   "source": [
    "for system in ['monomers','dimers','trimers','128']:\n",
    "    print(system)\n",
    "    path1 = './../data/PBE_sz/' + system + '/' + system + '.traj'\n",
    "    path2 = './../data/datatsets/' + system + '.traj'\n",
    "    atoms1 = read(path1, ':')\n",
    "    atoms2 = read(path2, ':')\n",
    "    for a1, a2 in zip(atoms1, atoms2):\n",
    "        assert np.allclose(a1.get_positions(),a2.get_positions())"
   ]
  },
  {
   "cell_type": "code",
   "execution_count": null,
   "metadata": {},
   "outputs": [],
   "source": []
  }
 ],
 "metadata": {
  "kernelspec": {
   "display_name": "Python 3",
   "language": "python",
   "name": "python3"
  },
  "language_info": {
   "codemirror_mode": {
    "name": "ipython",
    "version": 3
   },
   "file_extension": ".py",
   "mimetype": "text/x-python",
   "name": "python",
   "nbconvert_exporter": "python",
   "pygments_lexer": "ipython3",
   "version": "3.6.5"
  }
 },
 "nbformat": 4,
 "nbformat_minor": 2
}
