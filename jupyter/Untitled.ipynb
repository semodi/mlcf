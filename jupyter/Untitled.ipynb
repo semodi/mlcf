{
 "cells": [
  {
   "cell_type": "code",
   "execution_count": 21,
   "metadata": {},
   "outputs": [],
   "source": [
    "import mlc_func as mlcf\n",
    "from mlc_func.elf.utils import hdf5_to_elfs\n",
    "from mlc_func.elf.geom import make_complex, rotate_tensor\n",
    "from mlc_func.elf.real_space import orient_elfs\n",
    "from ase.io import read, write\n",
    "from h5py import File\n",
    "import json\n",
    "import numpy as np"
   ]
  },
  {
   "cell_type": "code",
   "execution_count": 26,
   "metadata": {},
   "outputs": [],
   "source": [
    "def change_alignment(path, traj_path, new_method, save_as = None):\n",
    "    elfs = hdf5_to_elfs(path)\n",
    "    atoms = read(traj_path, ':')\n",
    "    \n",
    "    with File(path) as file:\n",
    "        basis = json.loads(file.attrs['basis'])\n",
    "        \n",
    "    if new_method == basis['alignment']:\n",
    "        raise Exception('Already aligned with method: ' + new_method)\n",
    "    \n",
    "    #Rotate to neutral\n",
    "    for i, elf_system in enumerate(elfs):\n",
    "        for j, elf in enumerate(elf_system):\n",
    "            elfs[i][j].value = rotate_tensor(make_complex(elf.value, basis['n_rad_' + elf.species.lower()],\n",
    "                                                       basis['n_l_' + elf.species.lower()]), elf.angles, \n",
    "                                             inverse = False)   \n",
    "            elfs[i][j].angles = np.array([0,0,0])\n",
    "            elfs[i][j].unitcell = atoms[i].get_cell()\n",
    "    \n",
    "    oriented_elfs = []\n",
    "    \n",
    "    for elfs_system, atoms_system in zip(elfs, atoms):\n",
    "        oriented_elfs.append(orient_elfs(elfs_system,atoms_system,new_method))\n",
    "    return oriented_elfs"
   ]
  },
  {
   "cell_type": "code",
   "execution_count": 35,
   "metadata": {},
   "outputs": [
    {
     "name": "stdout",
     "output_type": "stream",
     "text": [
      "{'r_o_o': 1.0, 'r_i_o': 0.0, 'r_i_h': 0.0, 'r_o_h': 1.5, 'n_rad_o': 2, 'n_rad_h': 2, 'n_l_o': 3, 'n_l_h': 2, 'gamma_o': 0, 'gamma_h': 0, 'alignment': 'elf'}\n"
     ]
    }
   ],
   "source": [
    "elfs = change_alignment('../data/PBE/szp/basis_nocore_elf.json_processed/64_processed.hdf5',\n",
    "                 '../data/PBE/szp/64.traj',\n",
    "                 'nn')"
   ]
  },
  {
   "cell_type": "code",
   "execution_count": 45,
   "metadata": {},
   "outputs": [
    {
     "data": {
      "text/plain": [
       "array([ 2.34135976e+02,  5.84726550e+00,  3.94677413e-01,  4.32113833e+00,\n",
       "       -7.62870950e-01, -1.12050613e-01, -1.69125290e+00, -3.51349358e-01,\n",
       "        5.38822711e-01,  8.74099773e+01, -5.02862195e+00, -3.93007756e-02,\n",
       "       -3.87229920e+00,  4.25907467e+00,  3.29404177e-01,  6.58705400e+00,\n",
       "       -2.08814562e-01, -2.21381150e+00])"
      ]
     },
     "execution_count": 45,
     "metadata": {},
     "output_type": "execute_result"
    }
   ],
   "source": [
    "elfs[10][0].value"
   ]
  },
  {
   "cell_type": "code",
   "execution_count": 36,
   "metadata": {},
   "outputs": [
    {
     "name": "stdout",
     "output_type": "stream",
     "text": [
      "{'r_o_o': 1.0, 'r_i_o': 0.0, 'r_i_h': 0.0, 'r_o_h': 1.5, 'n_rad_o': 2, 'n_rad_h': 2, 'n_l_o': 3, 'n_l_h': 2, 'gamma_o': 0, 'gamma_h': 0, 'alignment': 'nn'}\n"
     ]
    }
   ],
   "source": [
    "elfs_orig = hdf5_to_elfs('../data/PBE/szp/basis_nocore_nn.json_processed/64_processed.hdf5')"
   ]
  },
  {
   "cell_type": "code",
   "execution_count": 46,
   "metadata": {},
   "outputs": [
    {
     "data": {
      "text/plain": [
       "array([ 2.34135976e+02,  5.84726550e+00,  3.94677413e-01,  4.32113833e+00,\n",
       "       -7.62870950e-01, -1.12050613e-01, -1.69125290e+00, -3.51349358e-01,\n",
       "        5.38822711e-01,  8.74099773e+01, -5.02862195e+00, -3.93007756e-02,\n",
       "       -3.87229920e+00,  4.25907467e+00,  3.29404177e-01,  6.58705400e+00,\n",
       "       -2.08814562e-01, -2.21381150e+00])"
      ]
     },
     "execution_count": 46,
     "metadata": {},
     "output_type": "execute_result"
    }
   ],
   "source": [
    "elfs_orig[10][0].value"
   ]
  },
  {
   "cell_type": "code",
   "execution_count": null,
   "metadata": {},
   "outputs": [],
   "source": []
  }
 ],
 "metadata": {
  "kernelspec": {
   "display_name": "Python 3",
   "language": "python",
   "name": "python3"
  },
  "language_info": {
   "codemirror_mode": {
    "name": "ipython",
    "version": 3
   },
   "file_extension": ".py",
   "mimetype": "text/x-python",
   "name": "python",
   "nbconvert_exporter": "python",
   "pygments_lexer": "ipython3",
   "version": "3.6.5"
  }
 },
 "nbformat": 4,
 "nbformat_minor": 2
}
