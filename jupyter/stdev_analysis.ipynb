{
 "cells": [
  {
   "cell_type": "code",
   "execution_count": 1,
   "metadata": {},
   "outputs": [
    {
     "name": "stderr",
     "output_type": "stream",
     "text": [
      "Using TensorFlow backend.\n"
     ]
    },
    {
     "name": "stdout",
     "output_type": "stream",
     "text": [
      "Populating the interactive namespace from numpy and matplotlib\n"
     ]
    }
   ],
   "source": [
    "import keras\n",
    "from sklearn.preprocessing import MinMaxScaler, StandardScaler\n",
    "from sklearn.kernel_ridge import KernelRidge as KRR\n",
    "from sklearn.gaussian_process import GaussianProcessRegressor as GPR\n",
    "from sklearn.model_selection import train_test_split, cross_val_score\n",
    "from sklearn.decomposition import PCA\n",
    "import pandas as pd\n",
    "import pickle\n",
    "import elf\n",
    "%pylab inline"
   ]
  },
  {
   "cell_type": "code",
   "execution_count": 87,
   "metadata": {},
   "outputs": [],
   "source": [
    "def get_pred_uncertainty(baseline, systems_train, systems_test, which, strides = 0,  splits = [0.5], mean_train = 0):\n",
    "\n",
    "    all_targets = []\n",
    "    all_features = []\n",
    "    for sysix, system in enumerate(systems_train):\n",
    "        elfs = elf.utils.hdf5_to_elfs('../data/' + baseline + '/elfs/basis_default_elf/{}_processed.hdf5'.format(system), which)\n",
    "        feat = np.concatenate([[e.value for e in e] for e in elfs], axis = 0)\n",
    "        if isinstance(strides, list):\n",
    "            feat = feat[::strides[sysix]]\n",
    "        all_features.append(feat)\n",
    "    feat_mb = np.concatenate(all_features)\n",
    "    feat = np.concatenate(all_features)\n",
    "    feat_mask = np.std(feat, axis = 0) > 1e-3\n",
    "    feat = feat[:,feat_mask]\n",
    "    scaler = MinMaxScaler()\n",
    "    scaler.fit(feat)\n",
    "    feat = scaler.transform(feat)\n",
    "    \n",
    "    for split in splits[:-1]:\n",
    "        feat, _ = train_test_split(feat, test_size = split)\n",
    "    X_train, X_test = train_test_split(feat, test_size = splits[-1])\n",
    "    \n",
    "    model = GPR(alpha=0.001)\n",
    "    model.fit(X_train, np.zeros(len(X_train)))\n",
    "    mean_train_computed = False\n",
    "    if mean_train == 0:\n",
    "        _, std_train = model.predict(X_train, return_std = True)\n",
    "        mean_train = np.mean(std_train)\n",
    "        mean_train_computed = True\n",
    "    _, std_test = model.predict(X_test, return_std = True)\n",
    "    \n",
    "    \n",
    "    all_features = []\n",
    "    for system in systems_test:\n",
    "        elfs = elf.utils.hdf5_to_elfs('../data/' + baseline + '/elfs/basis_default_elf/{}_processed.hdf5'.format(system), which)\n",
    "        ext_feat = np.concatenate([[e.value for e in e] for e in elfs], axis = 0 )\n",
    "        all_features.append(ext_feat)\n",
    "    ext_feat = np.concatenate(all_features)\n",
    "    ext_feat = ext_feat[:,feat_mask]\n",
    "    ext_feat = scaler.transform(ext_feat)\n",
    "\n",
    "    extended = np.zeros_like(ext_feat)\n",
    "    extended[-len(ext_feat):] = ext_feat\n",
    "\n",
    "    for split in splits[:-1]:\n",
    "        extended, _ = train_test_split(extended, test_size = split)\n",
    "    _, extended = train_test_split(extended, test_size = splits[-1])\n",
    "    \n",
    "    ext_feat = extended[np.sum(np.abs(extended), axis = -1) > 0] \n",
    "\n",
    "    _, std_ext = model.predict(ext_feat, return_std = True)\n",
    "    std_ext /= mean_train\n",
    "    \n",
    "    return std_ext, mean_train"
   ]
  },
  {
   "cell_type": "code",
   "execution_count": 89,
   "metadata": {},
   "outputs": [
    {
     "name": "stdout",
     "output_type": "stream",
     "text": [
      "{'r_o_o': 0.9, 'r_i_o': 0.05, 'n_rad_o': 2, 'n_l_o': 3, 'gamma_o': 0, 'r_i_h': 0.0, 'r_o_h': 1.35, 'n_rad_h': 2, 'n_l_h': 2, 'gamma_h': 0}\n",
      "{'r_o_o': 0.9, 'r_i_o': 0.05, 'n_rad_o': 2, 'n_l_o': 3, 'gamma_o': 0, 'r_i_h': 0.0, 'r_o_h': 1.35, 'n_rad_h': 2, 'n_l_h': 2, 'gamma_h': 0}\n",
      "{'r_o_o': 0.9, 'r_i_o': 0.05, 'n_rad_o': 2, 'n_l_o': 3, 'gamma_o': 0, 'r_i_h': 0.0, 'r_o_h': 1.35, 'n_rad_h': 2, 'n_l_h': 2, 'gamma_h': 0}\n",
      "{'r_o_o': 0.9, 'r_i_o': 0.05, 'n_rad_o': 2, 'n_l_o': 3, 'gamma_o': 0, 'r_i_h': 0.0, 'r_o_h': 1.35, 'n_rad_h': 2, 'n_l_h': 2, 'gamma_h': 0}\n",
      "{'r_o_o': 0.9, 'r_i_o': 0.05, 'n_rad_o': 2, 'n_l_o': 3, 'gamma_o': 0, 'r_i_h': 0.0, 'r_o_h': 1.35, 'n_rad_h': 2, 'n_l_h': 2, 'gamma_h': 0}\n",
      "{'r_o_o': 0.9, 'r_i_o': 0.05, 'n_rad_o': 2, 'n_l_o': 3, 'gamma_o': 0, 'r_i_h': 0.0, 'r_o_h': 1.35, 'n_rad_h': 2, 'n_l_h': 2, 'gamma_h': 0}\n",
      "{'r_o_o': 0.9, 'r_i_o': 0.05, 'n_rad_o': 2, 'n_l_o': 3, 'gamma_o': 0, 'r_i_h': 0.0, 'r_o_h': 1.35, 'n_rad_h': 2, 'n_l_h': 2, 'gamma_h': 0}\n",
      "{'r_o_o': 0.9, 'r_i_o': 0.05, 'n_rad_o': 2, 'n_l_o': 3, 'gamma_o': 0, 'r_i_h': 0.0, 'r_o_h': 1.35, 'n_rad_h': 2, 'n_l_h': 2, 'gamma_h': 0}\n",
      "{'r_o_o': 0.9, 'r_i_o': 0.05, 'n_rad_o': 2, 'n_l_o': 3, 'gamma_o': 0, 'r_i_h': 0.0, 'r_o_h': 1.35, 'n_rad_h': 2, 'n_l_h': 2, 'gamma_h': 0}\n",
      "{'r_o_o': 0.9, 'r_i_o': 0.05, 'n_rad_o': 2, 'n_l_o': 3, 'gamma_o': 0, 'r_i_h': 0.0, 'r_o_h': 1.35, 'n_rad_h': 2, 'n_l_h': 2, 'gamma_h': 0}\n",
      "{'r_o_o': 0.9, 'r_i_o': 0.05, 'n_rad_o': 2, 'n_l_o': 3, 'gamma_o': 0, 'r_i_h': 0.0, 'r_o_h': 1.35, 'n_rad_h': 2, 'n_l_h': 2, 'gamma_h': 0}\n",
      "{'r_o_o': 0.9, 'r_i_o': 0.05, 'n_rad_o': 2, 'n_l_o': 3, 'gamma_o': 0, 'r_i_h': 0.0, 'r_o_h': 1.35, 'n_rad_h': 2, 'n_l_h': 2, 'gamma_h': 0}\n",
      "{'r_o_o': 0.9, 'r_i_o': 0.05, 'n_rad_o': 2, 'n_l_o': 3, 'gamma_o': 0, 'r_i_h': 0.0, 'r_o_h': 1.35, 'n_rad_h': 2, 'n_l_h': 2, 'gamma_h': 0}\n",
      "{'r_o_o': 0.9, 'r_i_o': 0.05, 'n_rad_o': 2, 'n_l_o': 3, 'gamma_o': 0, 'r_i_h': 0.0, 'r_o_h': 1.35, 'n_rad_h': 2, 'n_l_h': 2, 'gamma_h': 0}\n"
     ]
    }
   ],
   "source": [
    "which = 'o'\n",
    "splits = [0.5]\n",
    "std_ext_mb, mean_train = get_pred_uncertainty('revPBE',['monomers','dimers','trimers'],['64'],\n",
    "                                  which, strides = [1,1,1], splits = splits)\n",
    "\n",
    "std_ext_emb, _ = get_pred_uncertainty('revPBE',['monomers','dimers','trimers','hexamers_embedded_ghost'],\n",
    "                                   ['64'],which, strides = [1,1,1,6], splits = splits, mean_train = mean_train)\n",
    "\n",
    "std_ext_64, _ = get_pred_uncertainty('revPBE',['monomers','dimers','trimers','64'],\n",
    "                                   ['64'],which, strides = [1,1,1,1], splits = splits, mean_train = mean_train)"
   ]
  },
  {
   "cell_type": "code",
   "execution_count": 90,
   "metadata": {},
   "outputs": [
    {
     "data": {
      "image/png": "[encoded data removed]",
      "text/plain": [
       "<Figure size 432x288 with 1 Axes>"
      ]
     },
     "metadata": {},
     "output_type": "display_data"
    }
   ],
   "source": [
    "# hist(std_test ,density=True, range= (0,10), histtype= 'step', label = 'Training set: 1-3')\n",
    "hist(std_ext_mb,color = 'C0', density = True,  range= (0,10), histtype= 'step', label = 'Training set: [1-3]')\n",
    "hist(std_ext_emb,color = 'C1', density = True,  range= (0,10), histtype= 'step', label = 'T. set: [1-3], emb. hexamers \\n(with ghost states)')\n",
    "hist(std_ext_64,color = 'C2', density = True,  range= (0,10), histtype= 'step', label = 'T. set: [1-3], liquid(64)')\n",
    "legend()\n",
    "xlabel('$\\sigma_{test}/ < \\sigma_{train} > $')\n",
    "title('Prediction uncertainty on liquid(64) set (Oxygen)')\n",
    "savefig('std_analysis_elf_hexembedded_O.pdf')\n",
    "savefig('std_analysis_elf_hexembedded_O.eps')"
   ]
  },
  {
   "cell_type": "code",
   "execution_count": 91,
   "metadata": {},
   "outputs": [
    {
     "name": "stdout",
     "output_type": "stream",
     "text": [
      "{'r_o_o': 0.9, 'r_i_o': 0.05, 'n_rad_o': 2, 'n_l_o': 3, 'gamma_o': 0, 'r_i_h': 0.0, 'r_o_h': 1.35, 'n_rad_h': 2, 'n_l_h': 2, 'gamma_h': 0}\n",
      "{'r_o_o': 0.9, 'r_i_o': 0.05, 'n_rad_o': 2, 'n_l_o': 3, 'gamma_o': 0, 'r_i_h': 0.0, 'r_o_h': 1.35, 'n_rad_h': 2, 'n_l_h': 2, 'gamma_h': 0}\n",
      "{'r_o_o': 0.9, 'r_i_o': 0.05, 'n_rad_o': 2, 'n_l_o': 3, 'gamma_o': 0, 'r_i_h': 0.0, 'r_o_h': 1.35, 'n_rad_h': 2, 'n_l_h': 2, 'gamma_h': 0}\n",
      "{'r_o_o': 0.9, 'r_i_o': 0.05, 'n_rad_o': 2, 'n_l_o': 3, 'gamma_o': 0, 'r_i_h': 0.0, 'r_o_h': 1.35, 'n_rad_h': 2, 'n_l_h': 2, 'gamma_h': 0}\n",
      "{'r_o_o': 0.9, 'r_i_o': 0.05, 'n_rad_o': 2, 'n_l_o': 3, 'gamma_o': 0, 'r_i_h': 0.0, 'r_o_h': 1.35, 'n_rad_h': 2, 'n_l_h': 2, 'gamma_h': 0}\n",
      "{'r_o_o': 0.9, 'r_i_o': 0.05, 'n_rad_o': 2, 'n_l_o': 3, 'gamma_o': 0, 'r_i_h': 0.0, 'r_o_h': 1.35, 'n_rad_h': 2, 'n_l_h': 2, 'gamma_h': 0}\n",
      "{'r_o_o': 0.9, 'r_i_o': 0.05, 'n_rad_o': 2, 'n_l_o': 3, 'gamma_o': 0, 'r_i_h': 0.0, 'r_o_h': 1.35, 'n_rad_h': 2, 'n_l_h': 2, 'gamma_h': 0}\n",
      "{'r_o_o': 0.9, 'r_i_o': 0.05, 'n_rad_o': 2, 'n_l_o': 3, 'gamma_o': 0, 'r_i_h': 0.0, 'r_o_h': 1.35, 'n_rad_h': 2, 'n_l_h': 2, 'gamma_h': 0}\n"
     ]
    },
    {
     "name": "stderr",
     "output_type": "stream",
     "text": [
      "/home/sebastian/miniconda3/lib/python3.6/site-packages/ipykernel_launcher.py:13: RuntimeWarning: invalid value encountered in greater\n",
      "  del sys.path[0]\n"
     ]
    },
    {
     "name": "stdout",
     "output_type": "stream",
     "text": [
      "{'r_o_o': 0.9, 'r_i_o': 0.05, 'n_rad_o': 2, 'n_l_o': 3, 'gamma_o': 0, 'r_i_h': 0.0, 'r_o_h': 1.35, 'n_rad_h': 2, 'n_l_h': 2, 'gamma_h': 0}\n",
      "{'r_o_o': 0.9, 'r_i_o': 0.05, 'n_rad_o': 2, 'n_l_o': 3, 'gamma_o': 0, 'r_i_h': 0.0, 'r_o_h': 1.35, 'n_rad_h': 2, 'n_l_h': 2, 'gamma_h': 0}\n",
      "{'r_o_o': 0.9, 'r_i_o': 0.05, 'n_rad_o': 2, 'n_l_o': 3, 'gamma_o': 0, 'r_i_h': 0.0, 'r_o_h': 1.35, 'n_rad_h': 2, 'n_l_h': 2, 'gamma_h': 0}\n",
      "{'r_o_o': 0.9, 'r_i_o': 0.05, 'n_rad_o': 2, 'n_l_o': 3, 'gamma_o': 0, 'r_i_h': 0.0, 'r_o_h': 1.35, 'n_rad_h': 2, 'n_l_h': 2, 'gamma_h': 0}\n",
      "{'r_o_o': 0.9, 'r_i_o': 0.05, 'n_rad_o': 2, 'n_l_o': 3, 'gamma_o': 0, 'r_i_h': 0.0, 'r_o_h': 1.35, 'n_rad_h': 2, 'n_l_h': 2, 'gamma_h': 0}\n",
      "{'r_o_o': 0.9, 'r_i_o': 0.05, 'n_rad_o': 2, 'n_l_o': 3, 'gamma_o': 0, 'r_i_h': 0.0, 'r_o_h': 1.35, 'n_rad_h': 2, 'n_l_h': 2, 'gamma_h': 0}\n"
     ]
    }
   ],
   "source": [
    "which = 'h'\n",
    "splits = [0.6, 0.5]\n",
    "std_ext_mb, mean_train = get_pred_uncertainty('revPBE',['monomers','dimers','trimers'],['64'],\n",
    "                                  which, strides = [1,1,1], splits = splits)\n",
    "\n",
    "std_ext_emb, _ = get_pred_uncertainty('revPBE',['monomers','dimers','trimers','hexamers_embedded_ghost'],\n",
    "                                   ['64'],which, strides = [1,1,1,12], splits = splits, mean_train = mean_train)\n",
    "\n",
    "std_ext_64, _ = get_pred_uncertainty('revPBE',['monomers','dimers','trimers','64'],\n",
    "                                   ['64'],which, strides = [1,1,1,1], splits = splits, mean_train = mean_train)"
   ]
  },
  {
   "cell_type": "code",
   "execution_count": 92,
   "metadata": {},
   "outputs": [
    {
     "data": {
      "image/png": "[encoded data removed]",
      "text/plain": [
       "<Figure size 432x288 with 1 Axes>"
      ]
     },
     "metadata": {},
     "output_type": "display_data"
    }
   ],
   "source": [
    "# hist(std_test ,density=True, range= (0,10), histtype= 'step', label = 'Training set: 1-3')\n",
    "hist(std_ext_mb,color = 'C0', density = True,  range= (0,10), histtype= 'step', label = 'Training set: [1-3]')\n",
    "hist(std_ext_emb,color = 'C1', density = True,  range= (0,10), histtype= 'step', label = 'T. set: [1-3], emb. hexamers \\n(with ghost states)')\n",
    "hist(std_ext_64,color = 'C2', density = True,  range= (0,10), histtype= 'step', label = 'T. set: [1-3], liquid(64)')\n",
    "legend()\n",
    "xlabel('$\\sigma_{test}/ < \\sigma_{train} > $')\n",
    "title('Prediction uncertainty on liquid(64) set (Hydrogen)')\n",
    "savefig('std_analysis_elf_hexembedded_H.pdf')\n",
    "savefig('std_analysis_elf_hexembedded_H.eps')"
   ]
  },
  {
   "cell_type": "code",
   "execution_count": null,
   "metadata": {},
   "outputs": [],
   "source": []
  }
 ],
 "metadata": {
  "kernelspec": {
   "display_name": "Python 3",
   "language": "python",
   "name": "python3"
  },
  "language_info": {
   "codemirror_mode": {
    "name": "ipython",
    "version": 3
   },
   "file_extension": ".py",
   "mimetype": "text/x-python",
   "name": "python",
   "nbconvert_exporter": "python",
   "pygments_lexer": "ipython3",
   "version": "3.6.5"
  }
 },
 "nbformat": 4,
 "nbformat_minor": 2
}
