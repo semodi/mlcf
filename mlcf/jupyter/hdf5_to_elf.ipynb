{
 "cells": [
  {
   "cell_type": "code",
   "execution_count": 1,
   "metadata": {},
   "outputs": [],
   "source": [
    "import elf\n",
    "import numpy as np\n",
    "import pandas as pd"
   ]
  },
  {
   "cell_type": "code",
   "execution_count": 18,
   "metadata": {},
   "outputs": [],
   "source": [
    "def hdf5_to_elf_file(hdf5_file, outname):\n",
    "    elfs = elf.utils.hdf5_to_elfs(hdf5_file, grouped = True, values_only=True)\n",
    "    for species in elfs:\n",
    "        outdat = np.array(elfs[species])\n",
    "        if species == 'o':\n",
    "            outdat = outdat.reshape(-1,outdat.shape[-1])\n",
    "        elif species == 'h':\n",
    "            outdat = outdat.reshape(-1,outdat.shape[-1]*2)\n",
    "        print(outdat.shape)   \n",
    "        pd.DataFrame(outdat).to_csv(outname + '_' +species + '.elf', index = None, header = None)\n",
    "    \n",
    "    "
   ]
  },
  {
   "cell_type": "code",
   "execution_count": 22,
   "metadata": {},
   "outputs": [
    {
     "name": "stdout",
     "output_type": "stream",
     "text": [
      "{'r_o_o': 1.0, 'r_i_o': 0.05, 'n_rad_o': 2, 'n_l_o': 3, 'gamma_o': 0, 'r_i_h': 0.0, 'r_o_h': 1.5, 'n_rad_h': 2, 'n_l_h': 2, 'gamma_h': 0}\n",
      "(782, 18)\n",
      "(782, 16)\n",
      "{'r_o_o': 1.0, 'r_i_o': 0.05, 'n_rad_o': 2, 'n_l_o': 3, 'gamma_o': 0, 'r_i_h': 0.0, 'r_o_h': 1.5, 'n_rad_h': 2, 'n_l_h': 2, 'gamma_h': 0}\n",
      "(4000, 18)\n",
      "(4000, 16)\n",
      "{'r_o_o': 1.0, 'r_i_o': 0.05, 'n_rad_o': 2, 'n_l_o': 3, 'gamma_o': 0, 'r_i_h': 0.0, 'r_o_h': 1.5, 'n_rad_h': 2, 'n_l_h': 2, 'gamma_h': 0}\n",
      "(4500, 18)\n",
      "(4500, 16)\n"
     ]
    }
   ],
   "source": [
    "systems = ['monomers','dimers','trimers']\n",
    "for s in systems:\n",
    "    hdf5_to_elf_file('../../ElF/data/BH/elfs/basis_old_elf/{}_processed.hdf5'.format(s),s)"
   ]
  },
  {
   "cell_type": "code",
   "execution_count": null,
   "metadata": {},
   "outputs": [],
   "source": []
  }
 ],
 "metadata": {
  "kernelspec": {
   "display_name": "Python 3",
   "language": "python",
   "name": "python3"
  },
  "language_info": {
   "codemirror_mode": {
    "name": "ipython",
    "version": 3
   },
   "file_extension": ".py",
   "mimetype": "text/x-python",
   "name": "python",
   "nbconvert_exporter": "python",
   "pygments_lexer": "ipython3",
   "version": "3.6.5"
  }
 },
 "nbformat": 4,
 "nbformat_minor": 2
}
