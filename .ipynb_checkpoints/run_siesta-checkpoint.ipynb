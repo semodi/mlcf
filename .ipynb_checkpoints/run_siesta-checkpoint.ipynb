{
 "cells": [
  {
   "cell_type": "code",
   "execution_count": 2,
   "metadata": {},
   "outputs": [
    {
     "ename": "ImportError",
     "evalue": "cannot import name 'Species'",
     "output_type": "error",
     "traceback": [
      "\u001b[0;31m---------------------------------------------------------------------------\u001b[0m",
      "\u001b[0;31mImportError\u001b[0m                               Traceback (most recent call last)",
      "\u001b[0;32m<ipython-input-2-987c60da56db>\u001b[0m in \u001b[0;36m<module>\u001b[0;34m()\u001b[0m\n\u001b[1;32m      1\u001b[0m \u001b[0;32mimport\u001b[0m \u001b[0mos\u001b[0m\u001b[0;34m\u001b[0m\u001b[0m\n\u001b[1;32m      2\u001b[0m \u001b[0;32mfrom\u001b[0m \u001b[0mase\u001b[0m \u001b[0;32mimport\u001b[0m \u001b[0mAtoms\u001b[0m\u001b[0;34m\u001b[0m\u001b[0m\n\u001b[0;32m----> 3\u001b[0;31m \u001b[0;32mfrom\u001b[0m \u001b[0msiestah2o\u001b[0m \u001b[0;32mimport\u001b[0m \u001b[0mSiestaH2O\u001b[0m\u001b[0;34m\u001b[0m\u001b[0m\n\u001b[0m\u001b[1;32m      4\u001b[0m \u001b[0mos\u001b[0m\u001b[0;34m.\u001b[0m\u001b[0mchdir\u001b[0m\u001b[0;34m(\u001b[0m\u001b[0;34m'./siesta/'\u001b[0m\u001b[0;34m)\u001b[0m\u001b[0;34m\u001b[0m\u001b[0m\n",
      "\u001b[0;32m/home/sebastian/Documents/Physics/Code/md_routines/siestah2o.py\u001b[0m in \u001b[0;36m<module>\u001b[0;34m()\u001b[0m\n\u001b[1;32m      1\u001b[0m \u001b[0;32mfrom\u001b[0m \u001b[0mase\u001b[0m \u001b[0;32mimport\u001b[0m \u001b[0mAtoms\u001b[0m\u001b[0;34m\u001b[0m\u001b[0m\n\u001b[1;32m      2\u001b[0m \u001b[0;32mfrom\u001b[0m \u001b[0mase\u001b[0m\u001b[0;34m.\u001b[0m\u001b[0mcalculators\u001b[0m\u001b[0;34m.\u001b[0m\u001b[0msiesta\u001b[0m \u001b[0;32mimport\u001b[0m \u001b[0mSiesta\u001b[0m\u001b[0;34m\u001b[0m\u001b[0m\n\u001b[0;32m----> 3\u001b[0;31m \u001b[0;32mfrom\u001b[0m \u001b[0mase\u001b[0m\u001b[0;34m.\u001b[0m\u001b[0mcalculators\u001b[0m\u001b[0;34m.\u001b[0m\u001b[0msiesta\u001b[0m\u001b[0;34m.\u001b[0m\u001b[0mparameters\u001b[0m \u001b[0;32mimport\u001b[0m \u001b[0mSpecies\u001b[0m\u001b[0;34m,\u001b[0m \u001b[0mPAOBasisBlock\u001b[0m\u001b[0;34m\u001b[0m\u001b[0m\n\u001b[0m\u001b[1;32m      4\u001b[0m \u001b[0;32mfrom\u001b[0m \u001b[0mase\u001b[0m\u001b[0;34m.\u001b[0m\u001b[0munits\u001b[0m \u001b[0;32mimport\u001b[0m \u001b[0mRy\u001b[0m\u001b[0;34m\u001b[0m\u001b[0m\n\u001b[1;32m      5\u001b[0m \u001b[0;34m\u001b[0m\u001b[0m\n",
      "\u001b[0;31mImportError\u001b[0m: cannot import name 'Species'"
     ]
    }
   ],
   "source": [
    "import os \n",
    "from ase import Atoms\n",
    "from siestah2o import SiestaH2O\n",
    "os.chdir('./siesta/')"
   ]
  },
  {
   "cell_type": "code",
   "execution_count": 1,
   "metadata": {},
   "outputs": [
    {
     "name": "stderr",
     "output_type": "stream",
     "text": [
      "/home/sebastian/miniconda3/lib/python3.6/site-packages/ase/calculators/siesta/base_siesta.py:731: UserWarning: H2O.HSX does not exist =>\n",
      "                                     sieta.results[\"hsx\"]=None\n",
      "  UserWarning)\n",
      "/home/sebastian/miniconda3/lib/python3.6/site-packages/ase/calculators/siesta/base_siesta.py:751: UserWarning: H2O.DIMdoes not exist =>\n",
      "                                     sieta.results[\"dim\"]=None\n",
      "  UserWarning)\n",
      "/home/sebastian/miniconda3/lib/python3.6/site-packages/ase/calculators/siesta/base_siesta.py:794: UserWarning: H2O.WFSX or H2O.fullBZ.WFSX does not exist =>\n",
      "                                     sieta.results[\"wfsx\"]=None\n",
      "  UserWarning)\n"
     ]
    }
   ],
   "source": [
    "\n",
    "a = 20 \n",
    "\n",
    "# =======  QZDP - 8.5 =========\n",
    "\n",
    "h2o = Atoms('OHH',\n",
    "            positions = [[0,0,0],[0.757,0.586,0],[-0.757, 0.586,0]],\n",
    "            cell = [a, a, a],\n",
    "            pbc = True)\n",
    "\n",
    "calc = SiestaH2O(basis= 'dz', xc = 'PBE')\n",
    "h2o.set_calculator(calc)\n",
    "e = h2o.get_potential_energy()\n"
   ]
  },
  {
   "cell_type": "code",
   "execution_count": 7,
   "metadata": {},
   "outputs": [
    {
     "data": {
      "text/plain": [
       "-470.188095"
      ]
     },
     "execution_count": 7,
     "metadata": {},
     "output_type": "execute_result"
    }
   ],
   "source": [
    "e"
   ]
  },
  {
   "cell_type": "code",
   "execution_count": null,
   "metadata": {
    "collapsed": true
   },
   "outputs": [],
   "source": []
  }
 ],
 "metadata": {
  "kernelspec": {
   "display_name": "Python 3",
   "language": "python",
   "name": "python3"
  },
  "language_info": {
   "codemirror_mode": {
    "name": "ipython",
    "version": 3
   },
   "file_extension": ".py",
   "mimetype": "text/x-python",
   "name": "python",
   "nbconvert_exporter": "python",
   "pygments_lexer": "ipython3",
   "version": "3.5.4"
  }
 },
 "nbformat": 4,
 "nbformat_minor": 2
}
