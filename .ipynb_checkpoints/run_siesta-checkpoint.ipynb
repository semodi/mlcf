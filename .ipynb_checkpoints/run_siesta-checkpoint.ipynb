{
 "cells": [
  {
   "cell_type": "code",
   "execution_count": 11,
   "metadata": {},
   "outputs": [],
   "source": [
    "from ase import Atoms\n",
    "from ase.calculators.siesta.siesta import SiestaTrunk462 as Siesta \n",
    "from ase.units import Ry\n",
    "import os\n",
    "# os.chdir('./siesta')\n",
    "a = 20 \n",
    "\n",
    "os.environ['SIESTA_COMMAND'] = 'siesta < ./%s > ./%s'\n",
    "os.environ['SIESTA_PP_PATH'] = '/gpfs/home/smdick/psf/'\n",
    "\n",
    "# =======  QZDP - 8.5 =========\n",
    "\n",
    "h2o = Atoms('OHH',\n",
    "            positions = [[0,0,0],[0.757,0.586,0],[-0.757, 0.586,0]],\n",
    "            cell = [a, a, a],\n",
    "            pbc = True)\n",
    "\n",
    "calc = Siesta(label='H2O',\n",
    "               xc= ['VDW','BH'],\n",
    "               mesh_cutoff=200 * Ry,\n",
    "               energy_shift=0.02 * Ry,\n",
    "               fdf_arguments={'DM.MixingWeight': 0.3,\n",
    "                              'MaxSCFIterations': 50,\n",
    "                              'DM.NumberPulay': 3,\n",
    "                              'DM.Tolerance': 1e-1,\n",
    "                              'ElectronicTemperature': 5e-3,\n",
    "                              'WriteMullikenPop': 1,\n",
    "                              'DM.FormattedFiles': 'True',\n",
    "                              'XC.functional': 'VDW',\n",
    "                              'XC.authors': 'BH'})\n",
    "\n",
    "h2o.set_calculator(calc)\n",
    "# e = h2o.get_potential_energy()\n"
   ]
  },
  {
   "cell_type": "code",
   "execution_count": 7,
   "metadata": {},
   "outputs": [
    {
     "data": {
      "text/plain": [
       "-470.188095"
      ]
     },
     "execution_count": 7,
     "metadata": {},
     "output_type": "execute_result"
    }
   ],
   "source": [
    "e"
   ]
  },
  {
   "cell_type": "code",
   "execution_count": null,
   "metadata": {},
   "outputs": [],
   "source": []
  }
 ],
 "metadata": {
  "kernelspec": {
   "display_name": "Python 3",
   "language": "python",
   "name": "python3"
  },
  "language_info": {
   "codemirror_mode": {
    "name": "ipython",
    "version": 3
   },
   "file_extension": ".py",
   "mimetype": "text/x-python",
   "name": "python",
   "nbconvert_exporter": "python",
   "pygments_lexer": "ipython3",
   "version": "3.6.4"
  }
 },
 "nbformat": 4,
 "nbformat_minor": 2
}
